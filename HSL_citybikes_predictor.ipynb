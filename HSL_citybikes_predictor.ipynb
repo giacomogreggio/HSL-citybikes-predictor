{
  "nbformat": 4,
  "nbformat_minor": 0,
  "metadata": {
    "colab": {
      "name": "Copy of HSL_citybikes_predictor.ipynb",
      "provenance": [],
      "collapsed_sections": [],
      "include_colab_link": true
    },
    "kernelspec": {
      "name": "python3",
      "display_name": "Python 3"
    }
  },
  "cells": [
    {
      "cell_type": "markdown",
      "metadata": {
        "id": "view-in-github",
        "colab_type": "text"
      },
      "source": [
        "<a href=\"https://colab.research.google.com/github/giacomogreggio/HSL-citybikes-predictor/blob/master/HSL_citybikes_predictor.ipynb\" target=\"_parent\"><img src=\"https://colab.research.google.com/assets/colab-badge.svg\" alt=\"Open In Colab\"/></a>"
      ]
    },
    {
      "cell_type": "markdown",
      "metadata": {
        "id": "WBjSSe0X0TE6",
        "colab_type": "text"
      },
      "source": [
        "## Citybike predictor\n",
        "\n",
        "### Elevator pitch\n",
        "Scheduling your day is important for everyone, but every day we have to face problems related to planning your itinerary. When you want to use a citybike to move from a place to another you may find yourself at an empty bike station. Could there be a way to predict the availability? A solution: an application that predicts exactly that based on the time and the weather.\n",
        "\n",
        "\n",
        "### Data: sources, wrangling, management\t\t\n",
        "- The original purpose of the data is not compatible with our needs: the data is meant to describe bike trips/routing, not the bike availability\n",
        "- \n",
        "            \n",
        "### Data analysis: statistics, machine learning\t\n",
        "- We need a predicting model\n",
        "- Predictions for time series: a lot of different variables\n",
        "- Combining different data sources to base the prediction to current situation: weather, time of the day, current bike availability    \n",
        "\n",
        "\n",
        "### Communication of results: summarization & visualization\n",
        "- Finding clear and intuitive way to summarize and visualize data such that it is accessible to the user\n",
        "- \n",
        "            \n",
        "### Operationalization: creating added value, end-user point of view\n",
        "- Mobile optimated web application"
      ]
    },
    {
      "cell_type": "markdown",
      "metadata": {
        "id": "4-NNZ_hDaUwh",
        "colab_type": "text"
      },
      "source": [
        "## Preprocessing the HSL-data"
      ]
    },
    {
      "cell_type": "markdown",
      "metadata": {
        "id": "d1K5-T3ygWKF",
        "colab_type": "text"
      },
      "source": [
        "### Initializing everything"
      ]
    },
    {
      "cell_type": "code",
      "metadata": {
        "id": "cWqTY9JXPUZE",
        "colab_type": "code",
        "colab": {}
      },
      "source": [
        "# All imports\n",
        "\n",
        "import pandas as pd\n",
        "from google.colab import drive\n",
        "from datetime import datetime"
      ],
      "execution_count": null,
      "outputs": []
    },
    {
      "cell_type": "code",
      "metadata": {
        "id": "fXb_EGwVFqpg",
        "colab_type": "code",
        "colab": {}
      },
      "source": [
        "drive.mount('/content/drive')\n"
      ],
      "execution_count": null,
      "outputs": []
    },
    {
      "cell_type": "markdown",
      "metadata": {
        "id": "CyS9UkKaNlX-",
        "colab_type": "text"
      },
      "source": [
        "### The function that processes the data for a month"
      ]
    },
    {
      "cell_type": "code",
      "metadata": {
        "id": "Gl-W9W0PginX",
        "colab_type": "code",
        "colab": {}
      },
      "source": [
        "def preprocess_month(filepath):\n",
        "  data = pd.read_csv(filepath, sep = \",\")\n",
        "\n",
        "  # Make time a datetime object to ease handling. Also floor to starting hour\n",
        "  data[\"Dep date\"] = pd.to_datetime(data[\"Departure\"], errors = \"ignore\").dt.floor(freq = \"H\")\n",
        "  data[\"Return date\"] = pd.to_datetime(data[\"Return\"], errors = \"ignore\").dt.floor(freq = \"H\")\n",
        "\n",
        "  # For our analysis we shouldn't need this information\n",
        "  data = data.drop(columns=[\"Covered distance (m)\", \"Duration (sec.)\", \"Departure\", \"Return\"])\n",
        "\n",
        "  # Get the outgoing bikes per station at timeframe\n",
        "  outgoing = data.groupby(\"Departure station id\")[\"Dep date\"].value_counts()\n",
        "  outgoing = outgoing.sort_index()\n",
        "  outgoing = outgoing.rename_axis(index = {\"Dep date\" : \"Date\", \"Departure station id\" : \"ID\"})\n",
        "  outgoing = outgoing.rename(\"Outgoing\")\n",
        "\n",
        "  # Get the arriving bikes per station at timeframe\n",
        "  arriving = data.groupby(\"Return station id\")[\"Return date\"].value_counts()\n",
        "  arriving = arriving.sort_index()\n",
        "  arriving = arriving.rename_axis(index = {\"Return date\" : \"Date\", \"Return station id\" : \"ID\"})\n",
        "  arriving = arriving.rename(\"Arriving\")\n",
        "\n",
        "  outgoing_arriving_merge = pd.merge(outgoing, arriving, on = [\"ID\", \"Date\"], how = \"outer\")\n",
        "  outgoing_arriving_merge = outgoing_arriving_merge.fillna(0)\n",
        "\n",
        "  # We need data for ALL timeframes\n",
        "  stations = set(result.index.get_level_values(0))\n",
        "  all_dates = pd.date_range(\"2019-04-01 00:00\", \"2019-04-30 23:00\", freq = \"H\")\n",
        "  idx = pd.MultiIndex.from_product([stations, all_dates], names = [\"ID\", \"Date\"])\n",
        "  mega_frame_with_station_date_cartesian_product = pd.DataFrame(index = idx)\n",
        "  processed = pd.merge(mega_frame_with_station_date_cartesian_product, outgoing_arriving_merge, on = [\"ID\", \"Date\"], how = \"outer\")\n",
        "  processed = processed.fillna(0)\n",
        "  return processed"
      ],
      "execution_count": null,
      "outputs": []
    },
    {
      "cell_type": "code",
      "metadata": {
        "id": "WdXseBI7hTGS",
        "colab_type": "code",
        "colab": {}
      },
      "source": [
        "# Test out the function\n",
        "data = preprocess_month(\"/content/drive/My Drive/HSLDataset/od-trips-2019/2019-04.csv\")\n",
        "data.to_csv(\"./drive/My Drive/HSLDataset/2019-04_processed.csv\")"
      ],
      "execution_count": null,
      "outputs": []
    }
  ]
}