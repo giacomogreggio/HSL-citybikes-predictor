{
  "nbformat": 4,
  "nbformat_minor": 0,
  "metadata": {
    "colab": {
      "name": "HSL_citybikes_predictor.ipynb",
      "provenance": [],
      "collapsed_sections": [],
      "toc_visible": true,
      "include_colab_link": true
    },
    "kernelspec": {
      "name": "python3",
      "display_name": "Python 3"
    }
  },
  "cells": [
    {
      "cell_type": "markdown",
      "metadata": {
        "id": "view-in-github",
        "colab_type": "text"
      },
      "source": [
        "<a href=\"https://colab.research.google.com/github/giacomogreggio/HSL-citybikes-predictor/blob/master/HSL_citybikes_predictor.ipynb\" target=\"_parent\"><img src=\"https://colab.research.google.com/assets/colab-badge.svg\" alt=\"Open In Colab\"/></a>"
      ]
    },
    {
      "cell_type": "markdown",
      "metadata": {
        "id": "WBjSSe0X0TE6",
        "colab_type": "text"
      },
      "source": [
        "## Citybike predictor\n",
        "\n",
        "### Elevator pitch\n",
        "Scheduling your day is important for everyone, but every day we have to face problems related to planning your itinerary. When you want to use a citybike to move from a place to another you may find yourself at an empty bike station. Could there be a way to predict the availability? A solution: an application that predicts exactly that based on the time and the weather.\n",
        "\n",
        "\n",
        "### Data: sources, wrangling, management\t\t\n",
        "- The original purpose of the data is not compatible with our needs: the data is meant to describe bike trips/routing, not the bike availability\n",
        "- \n",
        "            \n",
        "### Data analysis: statistics, machine learning\t\n",
        "- We need a predicting model\n",
        "- Predictions for time series: a lot of different variables\n",
        "- Combining different data sources to base the prediction to current situation: weather, time of the day, current bike availability    \n",
        "\n",
        "\n",
        "### Communication of results: summarization & visualization\n",
        "- Finding clear and intuitive way to summarize and visualize data such that it is accessible to the user\n",
        "- \n",
        "            \n",
        "### Operationalization: creating added value, end-user point of view\n",
        "- Mobile optimated web application"
      ]
    },
    {
      "cell_type": "markdown",
      "metadata": {
        "id": "4-NNZ_hDaUwh",
        "colab_type": "text"
      },
      "source": [
        "## Preprocessing the HSL-data"
      ]
    },
    {
      "cell_type": "markdown",
      "metadata": {
        "id": "d1K5-T3ygWKF",
        "colab_type": "text"
      },
      "source": [
        "### Initializing everything"
      ]
    },
    {
      "cell_type": "code",
      "metadata": {
        "id": "johv7o6KOQVG",
        "colab_type": "code",
        "colab": {
          "base_uri": "https://localhost:8080/",
          "height": 187
        },
        "outputId": "ac2a74a8-06f8-49ba-d357-909c9b0d8464"
      },
      "source": [
        "!pip install mpld3"
      ],
      "execution_count": 54,
      "outputs": [
        {
          "output_type": "stream",
          "text": [
            "Requirement already satisfied: mpld3 in /usr/local/lib/python3.6/dist-packages (0.5.1)\n",
            "Requirement already satisfied: jinja2 in /usr/local/lib/python3.6/dist-packages (from mpld3) (2.11.2)\n",
            "Requirement already satisfied: matplotlib in /usr/local/lib/python3.6/dist-packages (from mpld3) (3.2.2)\n",
            "Requirement already satisfied: MarkupSafe>=0.23 in /usr/local/lib/python3.6/dist-packages (from jinja2->mpld3) (1.1.1)\n",
            "Requirement already satisfied: kiwisolver>=1.0.1 in /usr/local/lib/python3.6/dist-packages (from matplotlib->mpld3) (1.2.0)\n",
            "Requirement already satisfied: cycler>=0.10 in /usr/local/lib/python3.6/dist-packages (from matplotlib->mpld3) (0.10.0)\n",
            "Requirement already satisfied: pyparsing!=2.0.4,!=2.1.2,!=2.1.6,>=2.0.1 in /usr/local/lib/python3.6/dist-packages (from matplotlib->mpld3) (2.4.7)\n",
            "Requirement already satisfied: python-dateutil>=2.1 in /usr/local/lib/python3.6/dist-packages (from matplotlib->mpld3) (2.8.1)\n",
            "Requirement already satisfied: numpy>=1.11 in /usr/local/lib/python3.6/dist-packages (from matplotlib->mpld3) (1.18.5)\n",
            "Requirement already satisfied: six in /usr/local/lib/python3.6/dist-packages (from cycler>=0.10->matplotlib->mpld3) (1.15.0)\n"
          ],
          "name": "stdout"
        }
      ]
    },
    {
      "cell_type": "code",
      "metadata": {
        "id": "cWqTY9JXPUZE",
        "colab_type": "code",
        "colab": {}
      },
      "source": [
        "# All imports\n",
        "\n",
        "import pandas as pd\n",
        "import matplotlib.pyplot as plt\n",
        "from google.colab import drive\n",
        "from datetime import datetime\n",
        "from pandas.tseries.offsets import MonthEnd\n",
        "import mpld3\n",
        "from mpld3 import plugins\n",
        "mpld3.enable_notebook()"
      ],
      "execution_count": 55,
      "outputs": []
    },
    {
      "cell_type": "code",
      "metadata": {
        "id": "fXb_EGwVFqpg",
        "colab_type": "code",
        "colab": {
          "base_uri": "https://localhost:8080/",
          "height": 34
        },
        "outputId": "02b17a1e-667b-4519-d8a0-286e3ec08bcd"
      },
      "source": [
        "drive.mount('/content/drive')\n"
      ],
      "execution_count": 56,
      "outputs": [
        {
          "output_type": "stream",
          "text": [
            "Drive already mounted at /content/drive; to attempt to forcibly remount, call drive.mount(\"/content/drive\", force_remount=True).\n"
          ],
          "name": "stdout"
        }
      ]
    },
    {
      "cell_type": "markdown",
      "metadata": {
        "id": "CyS9UkKaNlX-",
        "colab_type": "text"
      },
      "source": [
        "### The function that processes the data for a month"
      ]
    },
    {
      "cell_type": "code",
      "metadata": {
        "id": "YF9mpSfOjdfW",
        "colab_type": "code",
        "colab": {}
      },
      "source": [
        "def get_station_data():\n",
        "  stations = pd.read_csv(\"/content/drive/My Drive/HSLDataset/Helsingin_ja_Espoon_kaupunkipyöräasemat.csv\")\n",
        "  stations = stations.drop([\"FID\", \"Nimi\", \"Namn\", \"Adress\", \"Kaupunki\", \"Stad\", \"Operaattor\"], axis = 1)\n",
        "  return stations"
      ],
      "execution_count": 57,
      "outputs": []
    },
    {
      "cell_type": "code",
      "metadata": {
        "id": "Gl-W9W0PginX",
        "colab_type": "code",
        "colab": {}
      },
      "source": [
        "# TODO: rename columns\n",
        "def preprocess_month(month):\n",
        "  path = \"/content/drive/My Drive/HSLDataset/od-trips-2019/\"\n",
        "  extension = \".csv\"\n",
        "  filename = \"2019-\" + '{:02.0f}'.format(month)\n",
        "  full_path = path + filename + extension\n",
        "  \n",
        "  data = pd.read_csv(full_path, sep = \",\")\n",
        "\n",
        "  # Make time a datetime object to ease handling. Also floor to starting hour\n",
        "  data[\"Dep date\"] = pd.to_datetime(data[\"Departure\"], errors = \"ignore\").dt.floor(freq = \"H\")\n",
        "  data[\"Return date\"] = pd.to_datetime(data[\"Return\"], errors = \"ignore\").dt.floor(freq = \"H\")\n",
        "\n",
        "  # For our analysis we shouldn't need this information\n",
        "  data = data.drop(columns=[\"Covered distance (m)\", \"Duration (sec.)\", \"Departure\", \"Return\"])\n",
        "\n",
        "  # Get the outgoing bikes per station at timeframe\n",
        "  outgoing = data.groupby(\"Departure station id\")[\"Dep date\"].value_counts()\n",
        "  outgoing = outgoing.sort_index()\n",
        "  outgoing = outgoing.rename_axis(index = {\"Dep date\" : \"Date\", \"Departure station id\" : \"ID\"})\n",
        "  outgoing = outgoing.rename(\"Outgoing\")\n",
        "\n",
        "  # Get the arriving bikes per station at timeframe\n",
        "  arriving = data.groupby(\"Return station id\")[\"Return date\"].value_counts()\n",
        "  arriving = arriving.sort_index()\n",
        "  arriving = arriving.rename_axis(index = {\"Return date\" : \"Date\", \"Return station id\" : \"ID\"})\n",
        "  arriving = arriving.rename(\"Arriving\")\n",
        "\n",
        "  outgoing_arriving_merge = pd.merge(outgoing, arriving, on = [\"ID\", \"Date\"], how = \"outer\")\n",
        "  outgoing_arriving_merge = outgoing_arriving_merge.fillna(0)\n",
        "\n",
        "  \n",
        "  stations = set(outgoing_arriving_merge.index.get_level_values(0))\n",
        "\n",
        "  # We need data for ALL timeframes\n",
        "  first_day_of_month = \"2019-\" + '{:02.0f}'.format(month) + \"-01 00:00:00\"\n",
        "  last_day_of_month = pd.Timestamp(\"2019-\" + '{:02.0f}'.format(month) + \"-01 23:00:00\") + MonthEnd(0)\n",
        "  all_dates = pd.date_range(first_day_of_month, last_day_of_month, freq = \"H\")\n",
        "  idx = pd.MultiIndex.from_product([stations, all_dates], names = [\"ID\", \"Date\"])\n",
        "  mega_frame_with_station_date_cartesian_product = pd.DataFrame(index = idx)\n",
        "  processed = pd.merge(mega_frame_with_station_date_cartesian_product, outgoing_arriving_merge, on = [\"ID\", \"Date\"], how = \"left\")\n",
        "  processed = processed.fillna(0)\n",
        "  processed = processed.reset_index()\n",
        "\n",
        "  # Merge with the station data from HSL\n",
        "  station_data = get_station_data()\n",
        "  processed_with_station_data = pd.merge(processed, station_data, on = \"ID\", how = \"inner\")\n",
        "\n",
        "  processed_with_station_data.to_csv(\"./drive/My Drive/HSLDataset/processed/\" + filename + \"-processed.csv\")"
      ],
      "execution_count": 58,
      "outputs": []
    },
    {
      "cell_type": "code",
      "metadata": {
        "id": "JcDGv5K9f02p",
        "colab_type": "code",
        "colab": {}
      },
      "source": [
        "def get_processed_data_for_month(month):\n",
        "  month = '{:02.0f}'.format(month)\n",
        "  data = pd.read_csv(\"/content/drive/My Drive/HSLDataset/processed/2019-\" + month + \"-processed.csv\")\n",
        "  data[\"Date\"] = pd.to_datetime(data[\"Date\"])\n",
        "  \n",
        "  # Don't know what this is all about but I guess everything is fine-ish :DDD\n",
        "  data = data.drop(\"Unnamed: 0\", axis = 1)\n",
        "  return data"
      ],
      "execution_count": 59,
      "outputs": []
    },
    {
      "cell_type": "code",
      "metadata": {
        "id": "WdXseBI7hTGS",
        "colab_type": "code",
        "colab": {}
      },
      "source": [
        "# Process all the data and save them as csv-files\n",
        "for month in range(4,11):\n",
        "  data = preprocess_month(month)"
      ],
      "execution_count": 60,
      "outputs": []
    },
    {
      "cell_type": "markdown",
      "metadata": {
        "id": "aThMDl9mPGz0",
        "colab_type": "text"
      },
      "source": [
        "## Looking at the data"
      ]
    },
    {
      "cell_type": "code",
      "metadata": {
        "id": "vBzFIEfuRFdw",
        "colab_type": "code",
        "colab": {}
      },
      "source": [
        "def data_of_station_for_weekdays_in_month(dataframe, station, month, weekday):\n",
        "  station_data = dataframe[dataframe[\"ID\"] == station]\n",
        "  station_data_for_month = station_data[(station_data[\"Date\"].dt.month == month) & (station_data[\"Date\"].dt.weekday == weekday)]\n",
        "  return station_data_for_month"
      ],
      "execution_count": 61,
      "outputs": []
    },
    {
      "cell_type": "code",
      "metadata": {
        "id": "jkQaZDvCrgbb",
        "colab_type": "code",
        "colab": {
          "base_uri": "https://localhost:8080/",
          "height": 419
        },
        "outputId": "6afaf7c4-c0ec-45bb-8b44-fe27591105d4"
      },
      "source": [
        "data =  get_processed_data_for_month(9)\n",
        "data"
      ],
      "execution_count": 62,
      "outputs": [
        {
          "output_type": "execute_result",
          "data": {
            "text/html": [
              "<div>\n",
              "<style scoped>\n",
              "    .dataframe tbody tr th:only-of-type {\n",
              "        vertical-align: middle;\n",
              "    }\n",
              "\n",
              "    .dataframe tbody tr th {\n",
              "        vertical-align: top;\n",
              "    }\n",
              "\n",
              "    .dataframe thead th {\n",
              "        text-align: right;\n",
              "    }\n",
              "</style>\n",
              "<table border=\"1\" class=\"dataframe\">\n",
              "  <thead>\n",
              "    <tr style=\"text-align: right;\">\n",
              "      <th></th>\n",
              "      <th>ID</th>\n",
              "      <th>Date</th>\n",
              "      <th>Outgoing</th>\n",
              "      <th>Arriving</th>\n",
              "      <th>Name</th>\n",
              "      <th>Osoite</th>\n",
              "      <th>Kapasiteet</th>\n",
              "      <th>x</th>\n",
              "      <th>y</th>\n",
              "    </tr>\n",
              "  </thead>\n",
              "  <tbody>\n",
              "    <tr>\n",
              "      <th>0</th>\n",
              "      <td>1</td>\n",
              "      <td>2019-09-01 00:00:00</td>\n",
              "      <td>4.0</td>\n",
              "      <td>8.0</td>\n",
              "      <td>Kaivopuisto</td>\n",
              "      <td>Meritori 1</td>\n",
              "      <td>30</td>\n",
              "      <td>24.950211</td>\n",
              "      <td>60.155370</td>\n",
              "    </tr>\n",
              "    <tr>\n",
              "      <th>1</th>\n",
              "      <td>1</td>\n",
              "      <td>2019-09-01 01:00:00</td>\n",
              "      <td>7.0</td>\n",
              "      <td>1.0</td>\n",
              "      <td>Kaivopuisto</td>\n",
              "      <td>Meritori 1</td>\n",
              "      <td>30</td>\n",
              "      <td>24.950211</td>\n",
              "      <td>60.155370</td>\n",
              "    </tr>\n",
              "    <tr>\n",
              "      <th>2</th>\n",
              "      <td>1</td>\n",
              "      <td>2019-09-01 02:00:00</td>\n",
              "      <td>2.0</td>\n",
              "      <td>2.0</td>\n",
              "      <td>Kaivopuisto</td>\n",
              "      <td>Meritori 1</td>\n",
              "      <td>30</td>\n",
              "      <td>24.950211</td>\n",
              "      <td>60.155370</td>\n",
              "    </tr>\n",
              "    <tr>\n",
              "      <th>3</th>\n",
              "      <td>1</td>\n",
              "      <td>2019-09-01 03:00:00</td>\n",
              "      <td>1.0</td>\n",
              "      <td>1.0</td>\n",
              "      <td>Kaivopuisto</td>\n",
              "      <td>Meritori 1</td>\n",
              "      <td>30</td>\n",
              "      <td>24.950211</td>\n",
              "      <td>60.155370</td>\n",
              "    </tr>\n",
              "    <tr>\n",
              "      <th>4</th>\n",
              "      <td>1</td>\n",
              "      <td>2019-09-01 04:00:00</td>\n",
              "      <td>2.0</td>\n",
              "      <td>1.0</td>\n",
              "      <td>Kaivopuisto</td>\n",
              "      <td>Meritori 1</td>\n",
              "      <td>30</td>\n",
              "      <td>24.950211</td>\n",
              "      <td>60.155370</td>\n",
              "    </tr>\n",
              "    <tr>\n",
              "      <th>...</th>\n",
              "      <td>...</td>\n",
              "      <td>...</td>\n",
              "      <td>...</td>\n",
              "      <td>...</td>\n",
              "      <td>...</td>\n",
              "      <td>...</td>\n",
              "      <td>...</td>\n",
              "      <td>...</td>\n",
              "      <td>...</td>\n",
              "    </tr>\n",
              "    <tr>\n",
              "      <th>251275</th>\n",
              "      <td>901</td>\n",
              "      <td>2019-09-30 19:00:00</td>\n",
              "      <td>0.0</td>\n",
              "      <td>0.0</td>\n",
              "      <td>O'Bike Station</td>\n",
              "      <td>Rauhalanpuisto 11</td>\n",
              "      <td>20</td>\n",
              "      <td>24.742219</td>\n",
              "      <td>60.163412</td>\n",
              "    </tr>\n",
              "    <tr>\n",
              "      <th>251276</th>\n",
              "      <td>901</td>\n",
              "      <td>2019-09-30 20:00:00</td>\n",
              "      <td>3.0</td>\n",
              "      <td>1.0</td>\n",
              "      <td>O'Bike Station</td>\n",
              "      <td>Rauhalanpuisto 11</td>\n",
              "      <td>20</td>\n",
              "      <td>24.742219</td>\n",
              "      <td>60.163412</td>\n",
              "    </tr>\n",
              "    <tr>\n",
              "      <th>251277</th>\n",
              "      <td>901</td>\n",
              "      <td>2019-09-30 21:00:00</td>\n",
              "      <td>0.0</td>\n",
              "      <td>0.0</td>\n",
              "      <td>O'Bike Station</td>\n",
              "      <td>Rauhalanpuisto 11</td>\n",
              "      <td>20</td>\n",
              "      <td>24.742219</td>\n",
              "      <td>60.163412</td>\n",
              "    </tr>\n",
              "    <tr>\n",
              "      <th>251278</th>\n",
              "      <td>901</td>\n",
              "      <td>2019-09-30 22:00:00</td>\n",
              "      <td>0.0</td>\n",
              "      <td>0.0</td>\n",
              "      <td>O'Bike Station</td>\n",
              "      <td>Rauhalanpuisto 11</td>\n",
              "      <td>20</td>\n",
              "      <td>24.742219</td>\n",
              "      <td>60.163412</td>\n",
              "    </tr>\n",
              "    <tr>\n",
              "      <th>251279</th>\n",
              "      <td>901</td>\n",
              "      <td>2019-09-30 23:00:00</td>\n",
              "      <td>0.0</td>\n",
              "      <td>0.0</td>\n",
              "      <td>O'Bike Station</td>\n",
              "      <td>Rauhalanpuisto 11</td>\n",
              "      <td>20</td>\n",
              "      <td>24.742219</td>\n",
              "      <td>60.163412</td>\n",
              "    </tr>\n",
              "  </tbody>\n",
              "</table>\n",
              "<p>251280 rows × 9 columns</p>\n",
              "</div>"
            ],
            "text/plain": [
              "         ID                Date  Outgoing  ...  Kapasiteet          x          y\n",
              "0         1 2019-09-01 00:00:00       4.0  ...          30  24.950211  60.155370\n",
              "1         1 2019-09-01 01:00:00       7.0  ...          30  24.950211  60.155370\n",
              "2         1 2019-09-01 02:00:00       2.0  ...          30  24.950211  60.155370\n",
              "3         1 2019-09-01 03:00:00       1.0  ...          30  24.950211  60.155370\n",
              "4         1 2019-09-01 04:00:00       2.0  ...          30  24.950211  60.155370\n",
              "...     ...                 ...       ...  ...         ...        ...        ...\n",
              "251275  901 2019-09-30 19:00:00       0.0  ...          20  24.742219  60.163412\n",
              "251276  901 2019-09-30 20:00:00       3.0  ...          20  24.742219  60.163412\n",
              "251277  901 2019-09-30 21:00:00       0.0  ...          20  24.742219  60.163412\n",
              "251278  901 2019-09-30 22:00:00       0.0  ...          20  24.742219  60.163412\n",
              "251279  901 2019-09-30 23:00:00       0.0  ...          20  24.742219  60.163412\n",
              "\n",
              "[251280 rows x 9 columns]"
            ]
          },
          "metadata": {
            "tags": []
          },
          "execution_count": 62
        }
      ]
    },
    {
      "cell_type": "markdown",
      "metadata": {
        "id": "fmVwe_yjh2GI",
        "colab_type": "text"
      },
      "source": [
        "## Different data visualizations"
      ]
    },
    {
      "cell_type": "code",
      "metadata": {
        "id": "09TH09GGQVds",
        "colab_type": "code",
        "colab": {
          "base_uri": "https://localhost:8080/",
          "height": 473
        },
        "outputId": "91ee97ab-6671-4073-cfcf-14536761566f"
      },
      "source": [
        "wanted_data = data_of_station_for_weekdays_in_month(data, 19, 9, 6)\n",
        "weekday_occurences = set(wanted_data[\"Date\"].dt.date)\n",
        "fig, axs = plt.subplots(1, len(weekday_occurences), figsize = (30,6))\n",
        "\n",
        "\n",
        "for idx,weekday_occurence in enumerate(weekday_occurences):\n",
        "  weekday_occurence_data = wanted_data[wanted_data[\"Date\"].dt.date == weekday_occurence]\n",
        "  axs[idx].grid(True, alpha = 0.3)\n",
        "  axs[idx].plot(weekday_occurence_data[\"Date\"].dt.hour, weekday_occurence_data[\"Outgoing\"], 'r', weekday_occurence_data[\"Date\"].dt.hour, weekday_occurence_data[\"Arriving\"], 'b', alpha = 0.3)\n",
        "  axs[idx].title.set_text(weekday_occurence)\n",
        "mpld3.display()"
      ],
      "execution_count": 63,
      "outputs": [
        {
          "output_type": "execute_result",
          "data": {
            "text/html": [
              "\n",
              "\n",
              "<style>\n",
              "\n",
              "</style>\n",
              "\n",
              "<div id=\"fig_el1011404583761839367288281988\"></div>\n",
              "<script>\n",
              "function mpld3_load_lib(url, callback){\n",
              "  var s = document.createElement('script');\n",
              "  s.src = url;\n",
              "  s.async = true;\n",
              "  s.onreadystatechange = s.onload = callback;\n",
              "  s.onerror = function(){console.warn(\"failed to load library \" + url);};\n",
              "  document.getElementsByTagName(\"head\")[0].appendChild(s);\n",
              "}\n",
              "\n",
              "if(typeof(mpld3) !== \"undefined\" && mpld3._mpld3IsLoaded){\n",
              "   // already loaded: just create the figure\n",
              "   !function(mpld3){\n",
              "       \n",
              "       mpld3.draw_figure(\"fig_el1011404583761839367288281988\", {\"width\": 2160.0, \"height\": 432.0, \"axes\": [{\"bbox\": [0.125, 0.125, 0.13362068965517243, 0.755], \"xlim\": [-1.1500000000000001, 24.15], \"ylim\": [-0.7000000000000001, 14.7], \"xdomain\": [-1.1500000000000001, 24.15], \"ydomain\": [-0.7000000000000001, 14.7], \"xscale\": \"linear\", \"yscale\": \"linear\", \"axes\": [{\"position\": \"bottom\", \"nticks\": 7, \"tickvalues\": null, \"tickformat_formatter\": \"\", \"tickformat\": null, \"scale\": \"linear\", \"fontsize\": 10.0, \"grid\": {\"gridOn\": true, \"color\": \"#B0B0B0\", \"dasharray\": \"none\", \"alpha\": 0.3}, \"visible\": true}, {\"position\": \"left\", \"nticks\": 10, \"tickvalues\": null, \"tickformat_formatter\": \"\", \"tickformat\": null, \"scale\": \"linear\", \"fontsize\": 10.0, \"grid\": {\"gridOn\": true, \"color\": \"#B0B0B0\", \"dasharray\": \"none\", \"alpha\": 0.3}, \"visible\": true}], \"axesbg\": \"#FFFFFF\", \"axesbgalpha\": null, \"zoomable\": true, \"id\": \"el101140458374186096\", \"lines\": [{\"data\": \"data01\", \"xindex\": 0, \"yindex\": 1, \"coordinates\": \"data\", \"id\": \"el101140458148461424\", \"color\": \"#FF0000\", \"linewidth\": 1.5, \"dasharray\": \"none\", \"alpha\": 0.3, \"zorder\": 2, \"drawstyle\": \"default\"}, {\"data\": \"data01\", \"xindex\": 0, \"yindex\": 2, \"coordinates\": \"data\", \"id\": \"el101140458148461816\", \"color\": \"#0000FF\", \"linewidth\": 1.5, \"dasharray\": \"none\", \"alpha\": 0.3, \"zorder\": 2, \"drawstyle\": \"default\"}], \"paths\": [], \"markers\": [], \"texts\": [{\"text\": \"2019-09-22\", \"position\": [0.5, 1.0183958793230317], \"coordinates\": \"axes\", \"h_anchor\": \"middle\", \"v_baseline\": \"auto\", \"rotation\": -0.0, \"fontsize\": 12.0, \"color\": \"#000000\", \"alpha\": 1, \"zorder\": 3, \"id\": \"el101140458374058784\"}], \"collections\": [], \"images\": [], \"sharex\": [], \"sharey\": []}, {\"bbox\": [0.28534482758620694, 0.125, 0.13362068965517238, 0.755], \"xlim\": [-1.1500000000000001, 24.15], \"ylim\": [-1.05, 22.05], \"xdomain\": [-1.1500000000000001, 24.15], \"ydomain\": [-1.05, 22.05], \"xscale\": \"linear\", \"yscale\": \"linear\", \"axes\": [{\"position\": \"bottom\", \"nticks\": 7, \"tickvalues\": null, \"tickformat_formatter\": \"\", \"tickformat\": null, \"scale\": \"linear\", \"fontsize\": 10.0, \"grid\": {\"gridOn\": true, \"color\": \"#B0B0B0\", \"dasharray\": \"none\", \"alpha\": 0.3}, \"visible\": true}, {\"position\": \"left\", \"nticks\": 7, \"tickvalues\": null, \"tickformat_formatter\": \"\", \"tickformat\": null, \"scale\": \"linear\", \"fontsize\": 10.0, \"grid\": {\"gridOn\": true, \"color\": \"#B0B0B0\", \"dasharray\": \"none\", \"alpha\": 0.3}, \"visible\": true}], \"axesbg\": \"#FFFFFF\", \"axesbgalpha\": null, \"zoomable\": true, \"id\": \"el101140458374164944\", \"lines\": [{\"data\": \"data01\", \"xindex\": 0, \"yindex\": 3, \"coordinates\": \"data\", \"id\": \"el101140458148434776\", \"color\": \"#FF0000\", \"linewidth\": 1.5, \"dasharray\": \"none\", \"alpha\": 0.3, \"zorder\": 2, \"drawstyle\": \"default\"}, {\"data\": \"data01\", \"xindex\": 0, \"yindex\": 4, \"coordinates\": \"data\", \"id\": \"el101140458148435168\", \"color\": \"#0000FF\", \"linewidth\": 1.5, \"dasharray\": \"none\", \"alpha\": 0.3, \"zorder\": 2, \"drawstyle\": \"default\"}], \"paths\": [], \"markers\": [], \"texts\": [{\"text\": \"2019-09-08\", \"position\": [0.5, 1.0183958793230317], \"coordinates\": \"axes\", \"h_anchor\": \"middle\", \"v_baseline\": \"auto\", \"rotation\": -0.0, \"fontsize\": 12.0, \"color\": \"#000000\", \"alpha\": 1, \"zorder\": 3, \"id\": \"el101140458218005840\"}], \"collections\": [], \"images\": [], \"sharex\": [], \"sharey\": []}, {\"bbox\": [0.4456896551724138, 0.125, 0.13362068965517243, 0.755], \"xlim\": [-1.1500000000000001, 24.15], \"ylim\": [-1.8, 37.8], \"xdomain\": [-1.1500000000000001, 24.15], \"ydomain\": [-1.8, 37.8], \"xscale\": \"linear\", \"yscale\": \"linear\", \"axes\": [{\"position\": \"bottom\", \"nticks\": 7, \"tickvalues\": null, \"tickformat_formatter\": \"\", \"tickformat\": null, \"scale\": \"linear\", \"fontsize\": 10.0, \"grid\": {\"gridOn\": true, \"color\": \"#B0B0B0\", \"dasharray\": \"none\", \"alpha\": 0.3}, \"visible\": true}, {\"position\": \"left\", \"nticks\": 10, \"tickvalues\": null, \"tickformat_formatter\": \"\", \"tickformat\": null, \"scale\": \"linear\", \"fontsize\": 10.0, \"grid\": {\"gridOn\": true, \"color\": \"#B0B0B0\", \"dasharray\": \"none\", \"alpha\": 0.3}, \"visible\": true}], \"axesbg\": \"#FFFFFF\", \"axesbgalpha\": null, \"zoomable\": true, \"id\": \"el101140458217939968\", \"lines\": [{\"data\": \"data01\", \"xindex\": 0, \"yindex\": 5, \"coordinates\": \"data\", \"id\": \"el101140458148436736\", \"color\": \"#FF0000\", \"linewidth\": 1.5, \"dasharray\": \"none\", \"alpha\": 0.3, \"zorder\": 2, \"drawstyle\": \"default\"}, {\"data\": \"data01\", \"xindex\": 0, \"yindex\": 6, \"coordinates\": \"data\", \"id\": \"el101140458148437128\", \"color\": \"#0000FF\", \"linewidth\": 1.5, \"dasharray\": \"none\", \"alpha\": 0.3, \"zorder\": 2, \"drawstyle\": \"default\"}], \"paths\": [], \"markers\": [], \"texts\": [{\"text\": \"2019-09-01\", \"position\": [0.5, 1.0183958793230317], \"coordinates\": \"axes\", \"h_anchor\": \"middle\", \"v_baseline\": \"auto\", \"rotation\": -0.0, \"fontsize\": 12.0, \"color\": \"#000000\", \"alpha\": 1, \"zorder\": 3, \"id\": \"el101140458217936768\"}], \"collections\": [], \"images\": [], \"sharex\": [], \"sharey\": []}, {\"bbox\": [0.6060344827586208, 0.125, 0.13362068965517238, 0.755], \"xlim\": [-1.1500000000000001, 24.15], \"ylim\": [-0.8, 16.8], \"xdomain\": [-1.1500000000000001, 24.15], \"ydomain\": [-0.8, 16.8], \"xscale\": \"linear\", \"yscale\": \"linear\", \"axes\": [{\"position\": \"bottom\", \"nticks\": 7, \"tickvalues\": null, \"tickformat_formatter\": \"\", \"tickformat\": null, \"scale\": \"linear\", \"fontsize\": 10.0, \"grid\": {\"gridOn\": true, \"color\": \"#B0B0B0\", \"dasharray\": \"none\", \"alpha\": 0.3}, \"visible\": true}, {\"position\": \"left\", \"nticks\": 11, \"tickvalues\": null, \"tickformat_formatter\": \"\", \"tickformat\": null, \"scale\": \"linear\", \"fontsize\": 10.0, \"grid\": {\"gridOn\": true, \"color\": \"#B0B0B0\", \"dasharray\": \"none\", \"alpha\": 0.3}, \"visible\": true}], \"axesbg\": \"#FFFFFF\", \"axesbgalpha\": null, \"zoomable\": true, \"id\": \"el101140458203604528\", \"lines\": [{\"data\": \"data01\", \"xindex\": 0, \"yindex\": 7, \"coordinates\": \"data\", \"id\": \"el101140458195763664\", \"color\": \"#FF0000\", \"linewidth\": 1.5, \"dasharray\": \"none\", \"alpha\": 0.3, \"zorder\": 2, \"drawstyle\": \"default\"}, {\"data\": \"data01\", \"xindex\": 0, \"yindex\": 8, \"coordinates\": \"data\", \"id\": \"el101140458195764000\", \"color\": \"#0000FF\", \"linewidth\": 1.5, \"dasharray\": \"none\", \"alpha\": 0.3, \"zorder\": 2, \"drawstyle\": \"default\"}], \"paths\": [], \"markers\": [], \"texts\": [{\"text\": \"2019-09-29\", \"position\": [0.5, 1.0183958793230317], \"coordinates\": \"axes\", \"h_anchor\": \"middle\", \"v_baseline\": \"auto\", \"rotation\": -0.0, \"fontsize\": 12.0, \"color\": \"#000000\", \"alpha\": 1, \"zorder\": 3, \"id\": \"el101140458203437488\"}], \"collections\": [], \"images\": [], \"sharex\": [], \"sharey\": []}, {\"bbox\": [0.7663793103448276, 0.125, 0.1336206896551725, 0.755], \"xlim\": [-1.1500000000000001, 24.15], \"ylim\": [-0.75, 15.75], \"xdomain\": [-1.1500000000000001, 24.15], \"ydomain\": [-0.75, 15.75], \"xscale\": \"linear\", \"yscale\": \"linear\", \"axes\": [{\"position\": \"bottom\", \"nticks\": 7, \"tickvalues\": null, \"tickformat_formatter\": \"\", \"tickformat\": null, \"scale\": \"linear\", \"fontsize\": 10.0, \"grid\": {\"gridOn\": true, \"color\": \"#B0B0B0\", \"dasharray\": \"none\", \"alpha\": 0.3}, \"visible\": true}, {\"position\": \"left\", \"nticks\": 10, \"tickvalues\": null, \"tickformat_formatter\": \"\", \"tickformat\": null, \"scale\": \"linear\", \"fontsize\": 10.0, \"grid\": {\"gridOn\": true, \"color\": \"#B0B0B0\", \"dasharray\": \"none\", \"alpha\": 0.3}, \"visible\": true}], \"axesbg\": \"#FFFFFF\", \"axesbgalpha\": null, \"zoomable\": true, \"id\": \"el101140458203441248\", \"lines\": [{\"data\": \"data01\", \"xindex\": 0, \"yindex\": 9, \"coordinates\": \"data\", \"id\": \"el101140458195765568\", \"color\": \"#FF0000\", \"linewidth\": 1.5, \"dasharray\": \"none\", \"alpha\": 0.3, \"zorder\": 2, \"drawstyle\": \"default\"}, {\"data\": \"data01\", \"xindex\": 0, \"yindex\": 10, \"coordinates\": \"data\", \"id\": \"el101140458195765960\", \"color\": \"#0000FF\", \"linewidth\": 1.5, \"dasharray\": \"none\", \"alpha\": 0.3, \"zorder\": 2, \"drawstyle\": \"default\"}], \"paths\": [], \"markers\": [], \"texts\": [{\"text\": \"2019-09-15\", \"position\": [0.5, 1.0183958793230317], \"coordinates\": \"axes\", \"h_anchor\": \"middle\", \"v_baseline\": \"auto\", \"rotation\": -0.0, \"fontsize\": 12.0, \"color\": \"#000000\", \"alpha\": 1, \"zorder\": 3, \"id\": \"el101140458148527072\"}], \"collections\": [], \"images\": [], \"sharex\": [], \"sharey\": []}], \"data\": {\"data01\": [[0.0, 8.0, 2.0, 15.0, 2.0, 36.0, 16.0, 12.0, 5.0, 15.0, 7.0], [1.0, 6.0, 3.0, 10.0, 1.0, 20.0, 14.0, 7.0, 4.0, 13.0, 6.0], [2.0, 5.0, 3.0, 10.0, 5.0, 15.0, 12.0, 2.0, 2.0, 13.0, 4.0], [3.0, 2.0, 2.0, 6.0, 1.0, 7.0, 7.0, 1.0, 0.0, 3.0, 0.0], [4.0, 1.0, 0.0, 6.0, 3.0, 9.0, 8.0, 0.0, 0.0, 2.0, 2.0], [5.0, 0.0, 1.0, 0.0, 0.0, 2.0, 4.0, 2.0, 2.0, 0.0, 1.0], [6.0, 0.0, 1.0, 0.0, 0.0, 3.0, 2.0, 1.0, 2.0, 0.0, 0.0], [7.0, 1.0, 0.0, 0.0, 0.0, 0.0, 1.0, 0.0, 1.0, 0.0, 1.0], [8.0, 0.0, 1.0, 0.0, 4.0, 1.0, 2.0, 0.0, 1.0, 0.0, 0.0], [9.0, 0.0, 2.0, 1.0, 4.0, 3.0, 3.0, 1.0, 0.0, 1.0, 1.0], [10.0, 2.0, 9.0, 3.0, 4.0, 3.0, 7.0, 1.0, 5.0, 1.0, 2.0], [11.0, 4.0, 10.0, 8.0, 14.0, 5.0, 11.0, 1.0, 11.0, 0.0, 5.0], [12.0, 3.0, 9.0, 5.0, 8.0, 9.0, 13.0, 4.0, 12.0, 1.0, 0.0], [13.0, 7.0, 8.0, 11.0, 14.0, 12.0, 14.0, 6.0, 16.0, 5.0, 2.0], [14.0, 3.0, 10.0, 12.0, 10.0, 11.0, 15.0, 4.0, 5.0, 4.0, 4.0], [15.0, 11.0, 2.0, 5.0, 2.0, 19.0, 21.0, 9.0, 7.0, 2.0, 4.0], [16.0, 7.0, 5.0, 6.0, 10.0, 16.0, 19.0, 15.0, 2.0, 6.0, 4.0], [17.0, 14.0, 12.0, 8.0, 10.0, 16.0, 9.0, 7.0, 10.0, 9.0, 9.0], [18.0, 10.0, 8.0, 21.0, 13.0, 18.0, 15.0, 10.0, 9.0, 8.0, 6.0], [19.0, 13.0, 7.0, 15.0, 6.0, 7.0, 3.0, 4.0, 2.0, 7.0, 8.0], [20.0, 4.0, 4.0, 5.0, 6.0, 4.0, 4.0, 14.0, 2.0, 3.0, 1.0], [21.0, 4.0, 2.0, 5.0, 2.0, 9.0, 10.0, 4.0, 5.0, 3.0, 2.0], [22.0, 7.0, 0.0, 2.0, 1.0, 3.0, 3.0, 3.0, 1.0, 0.0, 0.0], [23.0, 2.0, 0.0, 4.0, 4.0, 4.0, 3.0, 8.0, 6.0, 0.0, 0.0]]}, \"id\": \"el101140458376183936\", \"plugins\": [{\"type\": \"reset\"}, {\"type\": \"zoom\", \"button\": true, \"enabled\": false}, {\"type\": \"boxzoom\", \"button\": true, \"enabled\": false}]});\n",
              "   }(mpld3);\n",
              "}else if(typeof define === \"function\" && define.amd){\n",
              "   // require.js is available: use it to load d3/mpld3\n",
              "   require.config({paths: {d3: \"https://d3js.org/d3.v5\"}});\n",
              "   require([\"d3\"], function(d3){\n",
              "      window.d3 = d3;\n",
              "      mpld3_load_lib(\"https://mpld3.github.io/js/mpld3.v0.5.1.js\", function(){\n",
              "         \n",
              "         mpld3.draw_figure(\"fig_el1011404583761839367288281988\", {\"width\": 2160.0, \"height\": 432.0, \"axes\": [{\"bbox\": [0.125, 0.125, 0.13362068965517243, 0.755], \"xlim\": [-1.1500000000000001, 24.15], \"ylim\": [-0.7000000000000001, 14.7], \"xdomain\": [-1.1500000000000001, 24.15], \"ydomain\": [-0.7000000000000001, 14.7], \"xscale\": \"linear\", \"yscale\": \"linear\", \"axes\": [{\"position\": \"bottom\", \"nticks\": 7, \"tickvalues\": null, \"tickformat_formatter\": \"\", \"tickformat\": null, \"scale\": \"linear\", \"fontsize\": 10.0, \"grid\": {\"gridOn\": true, \"color\": \"#B0B0B0\", \"dasharray\": \"none\", \"alpha\": 0.3}, \"visible\": true}, {\"position\": \"left\", \"nticks\": 10, \"tickvalues\": null, \"tickformat_formatter\": \"\", \"tickformat\": null, \"scale\": \"linear\", \"fontsize\": 10.0, \"grid\": {\"gridOn\": true, \"color\": \"#B0B0B0\", \"dasharray\": \"none\", \"alpha\": 0.3}, \"visible\": true}], \"axesbg\": \"#FFFFFF\", \"axesbgalpha\": null, \"zoomable\": true, \"id\": \"el101140458374186096\", \"lines\": [{\"data\": \"data01\", \"xindex\": 0, \"yindex\": 1, \"coordinates\": \"data\", \"id\": \"el101140458148461424\", \"color\": \"#FF0000\", \"linewidth\": 1.5, \"dasharray\": \"none\", \"alpha\": 0.3, \"zorder\": 2, \"drawstyle\": \"default\"}, {\"data\": \"data01\", \"xindex\": 0, \"yindex\": 2, \"coordinates\": \"data\", \"id\": \"el101140458148461816\", \"color\": \"#0000FF\", \"linewidth\": 1.5, \"dasharray\": \"none\", \"alpha\": 0.3, \"zorder\": 2, \"drawstyle\": \"default\"}], \"paths\": [], \"markers\": [], \"texts\": [{\"text\": \"2019-09-22\", \"position\": [0.5, 1.0183958793230317], \"coordinates\": \"axes\", \"h_anchor\": \"middle\", \"v_baseline\": \"auto\", \"rotation\": -0.0, \"fontsize\": 12.0, \"color\": \"#000000\", \"alpha\": 1, \"zorder\": 3, \"id\": \"el101140458374058784\"}], \"collections\": [], \"images\": [], \"sharex\": [], \"sharey\": []}, {\"bbox\": [0.28534482758620694, 0.125, 0.13362068965517238, 0.755], \"xlim\": [-1.1500000000000001, 24.15], \"ylim\": [-1.05, 22.05], \"xdomain\": [-1.1500000000000001, 24.15], \"ydomain\": [-1.05, 22.05], \"xscale\": \"linear\", \"yscale\": \"linear\", \"axes\": [{\"position\": \"bottom\", \"nticks\": 7, \"tickvalues\": null, \"tickformat_formatter\": \"\", \"tickformat\": null, \"scale\": \"linear\", \"fontsize\": 10.0, \"grid\": {\"gridOn\": true, \"color\": \"#B0B0B0\", \"dasharray\": \"none\", \"alpha\": 0.3}, \"visible\": true}, {\"position\": \"left\", \"nticks\": 7, \"tickvalues\": null, \"tickformat_formatter\": \"\", \"tickformat\": null, \"scale\": \"linear\", \"fontsize\": 10.0, \"grid\": {\"gridOn\": true, \"color\": \"#B0B0B0\", \"dasharray\": \"none\", \"alpha\": 0.3}, \"visible\": true}], \"axesbg\": \"#FFFFFF\", \"axesbgalpha\": null, \"zoomable\": true, \"id\": \"el101140458374164944\", \"lines\": [{\"data\": \"data01\", \"xindex\": 0, \"yindex\": 3, \"coordinates\": \"data\", \"id\": \"el101140458148434776\", \"color\": \"#FF0000\", \"linewidth\": 1.5, \"dasharray\": \"none\", \"alpha\": 0.3, \"zorder\": 2, \"drawstyle\": \"default\"}, {\"data\": \"data01\", \"xindex\": 0, \"yindex\": 4, \"coordinates\": \"data\", \"id\": \"el101140458148435168\", \"color\": \"#0000FF\", \"linewidth\": 1.5, \"dasharray\": \"none\", \"alpha\": 0.3, \"zorder\": 2, \"drawstyle\": \"default\"}], \"paths\": [], \"markers\": [], \"texts\": [{\"text\": \"2019-09-08\", \"position\": [0.5, 1.0183958793230317], \"coordinates\": \"axes\", \"h_anchor\": \"middle\", \"v_baseline\": \"auto\", \"rotation\": -0.0, \"fontsize\": 12.0, \"color\": \"#000000\", \"alpha\": 1, \"zorder\": 3, \"id\": \"el101140458218005840\"}], \"collections\": [], \"images\": [], \"sharex\": [], \"sharey\": []}, {\"bbox\": [0.4456896551724138, 0.125, 0.13362068965517243, 0.755], \"xlim\": [-1.1500000000000001, 24.15], \"ylim\": [-1.8, 37.8], \"xdomain\": [-1.1500000000000001, 24.15], \"ydomain\": [-1.8, 37.8], \"xscale\": \"linear\", \"yscale\": \"linear\", \"axes\": [{\"position\": \"bottom\", \"nticks\": 7, \"tickvalues\": null, \"tickformat_formatter\": \"\", \"tickformat\": null, \"scale\": \"linear\", \"fontsize\": 10.0, \"grid\": {\"gridOn\": true, \"color\": \"#B0B0B0\", \"dasharray\": \"none\", \"alpha\": 0.3}, \"visible\": true}, {\"position\": \"left\", \"nticks\": 10, \"tickvalues\": null, \"tickformat_formatter\": \"\", \"tickformat\": null, \"scale\": \"linear\", \"fontsize\": 10.0, \"grid\": {\"gridOn\": true, \"color\": \"#B0B0B0\", \"dasharray\": \"none\", \"alpha\": 0.3}, \"visible\": true}], \"axesbg\": \"#FFFFFF\", \"axesbgalpha\": null, \"zoomable\": true, \"id\": \"el101140458217939968\", \"lines\": [{\"data\": \"data01\", \"xindex\": 0, \"yindex\": 5, \"coordinates\": \"data\", \"id\": \"el101140458148436736\", \"color\": \"#FF0000\", \"linewidth\": 1.5, \"dasharray\": \"none\", \"alpha\": 0.3, \"zorder\": 2, \"drawstyle\": \"default\"}, {\"data\": \"data01\", \"xindex\": 0, \"yindex\": 6, \"coordinates\": \"data\", \"id\": \"el101140458148437128\", \"color\": \"#0000FF\", \"linewidth\": 1.5, \"dasharray\": \"none\", \"alpha\": 0.3, \"zorder\": 2, \"drawstyle\": \"default\"}], \"paths\": [], \"markers\": [], \"texts\": [{\"text\": \"2019-09-01\", \"position\": [0.5, 1.0183958793230317], \"coordinates\": \"axes\", \"h_anchor\": \"middle\", \"v_baseline\": \"auto\", \"rotation\": -0.0, \"fontsize\": 12.0, \"color\": \"#000000\", \"alpha\": 1, \"zorder\": 3, \"id\": \"el101140458217936768\"}], \"collections\": [], \"images\": [], \"sharex\": [], \"sharey\": []}, {\"bbox\": [0.6060344827586208, 0.125, 0.13362068965517238, 0.755], \"xlim\": [-1.1500000000000001, 24.15], \"ylim\": [-0.8, 16.8], \"xdomain\": [-1.1500000000000001, 24.15], \"ydomain\": [-0.8, 16.8], \"xscale\": \"linear\", \"yscale\": \"linear\", \"axes\": [{\"position\": \"bottom\", \"nticks\": 7, \"tickvalues\": null, \"tickformat_formatter\": \"\", \"tickformat\": null, \"scale\": \"linear\", \"fontsize\": 10.0, \"grid\": {\"gridOn\": true, \"color\": \"#B0B0B0\", \"dasharray\": \"none\", \"alpha\": 0.3}, \"visible\": true}, {\"position\": \"left\", \"nticks\": 11, \"tickvalues\": null, \"tickformat_formatter\": \"\", \"tickformat\": null, \"scale\": \"linear\", \"fontsize\": 10.0, \"grid\": {\"gridOn\": true, \"color\": \"#B0B0B0\", \"dasharray\": \"none\", \"alpha\": 0.3}, \"visible\": true}], \"axesbg\": \"#FFFFFF\", \"axesbgalpha\": null, \"zoomable\": true, \"id\": \"el101140458203604528\", \"lines\": [{\"data\": \"data01\", \"xindex\": 0, \"yindex\": 7, \"coordinates\": \"data\", \"id\": \"el101140458195763664\", \"color\": \"#FF0000\", \"linewidth\": 1.5, \"dasharray\": \"none\", \"alpha\": 0.3, \"zorder\": 2, \"drawstyle\": \"default\"}, {\"data\": \"data01\", \"xindex\": 0, \"yindex\": 8, \"coordinates\": \"data\", \"id\": \"el101140458195764000\", \"color\": \"#0000FF\", \"linewidth\": 1.5, \"dasharray\": \"none\", \"alpha\": 0.3, \"zorder\": 2, \"drawstyle\": \"default\"}], \"paths\": [], \"markers\": [], \"texts\": [{\"text\": \"2019-09-29\", \"position\": [0.5, 1.0183958793230317], \"coordinates\": \"axes\", \"h_anchor\": \"middle\", \"v_baseline\": \"auto\", \"rotation\": -0.0, \"fontsize\": 12.0, \"color\": \"#000000\", \"alpha\": 1, \"zorder\": 3, \"id\": \"el101140458203437488\"}], \"collections\": [], \"images\": [], \"sharex\": [], \"sharey\": []}, {\"bbox\": [0.7663793103448276, 0.125, 0.1336206896551725, 0.755], \"xlim\": [-1.1500000000000001, 24.15], \"ylim\": [-0.75, 15.75], \"xdomain\": [-1.1500000000000001, 24.15], \"ydomain\": [-0.75, 15.75], \"xscale\": \"linear\", \"yscale\": \"linear\", \"axes\": [{\"position\": \"bottom\", \"nticks\": 7, \"tickvalues\": null, \"tickformat_formatter\": \"\", \"tickformat\": null, \"scale\": \"linear\", \"fontsize\": 10.0, \"grid\": {\"gridOn\": true, \"color\": \"#B0B0B0\", \"dasharray\": \"none\", \"alpha\": 0.3}, \"visible\": true}, {\"position\": \"left\", \"nticks\": 10, \"tickvalues\": null, \"tickformat_formatter\": \"\", \"tickformat\": null, \"scale\": \"linear\", \"fontsize\": 10.0, \"grid\": {\"gridOn\": true, \"color\": \"#B0B0B0\", \"dasharray\": \"none\", \"alpha\": 0.3}, \"visible\": true}], \"axesbg\": \"#FFFFFF\", \"axesbgalpha\": null, \"zoomable\": true, \"id\": \"el101140458203441248\", \"lines\": [{\"data\": \"data01\", \"xindex\": 0, \"yindex\": 9, \"coordinates\": \"data\", \"id\": \"el101140458195765568\", \"color\": \"#FF0000\", \"linewidth\": 1.5, \"dasharray\": \"none\", \"alpha\": 0.3, \"zorder\": 2, \"drawstyle\": \"default\"}, {\"data\": \"data01\", \"xindex\": 0, \"yindex\": 10, \"coordinates\": \"data\", \"id\": \"el101140458195765960\", \"color\": \"#0000FF\", \"linewidth\": 1.5, \"dasharray\": \"none\", \"alpha\": 0.3, \"zorder\": 2, \"drawstyle\": \"default\"}], \"paths\": [], \"markers\": [], \"texts\": [{\"text\": \"2019-09-15\", \"position\": [0.5, 1.0183958793230317], \"coordinates\": \"axes\", \"h_anchor\": \"middle\", \"v_baseline\": \"auto\", \"rotation\": -0.0, \"fontsize\": 12.0, \"color\": \"#000000\", \"alpha\": 1, \"zorder\": 3, \"id\": \"el101140458148527072\"}], \"collections\": [], \"images\": [], \"sharex\": [], \"sharey\": []}], \"data\": {\"data01\": [[0.0, 8.0, 2.0, 15.0, 2.0, 36.0, 16.0, 12.0, 5.0, 15.0, 7.0], [1.0, 6.0, 3.0, 10.0, 1.0, 20.0, 14.0, 7.0, 4.0, 13.0, 6.0], [2.0, 5.0, 3.0, 10.0, 5.0, 15.0, 12.0, 2.0, 2.0, 13.0, 4.0], [3.0, 2.0, 2.0, 6.0, 1.0, 7.0, 7.0, 1.0, 0.0, 3.0, 0.0], [4.0, 1.0, 0.0, 6.0, 3.0, 9.0, 8.0, 0.0, 0.0, 2.0, 2.0], [5.0, 0.0, 1.0, 0.0, 0.0, 2.0, 4.0, 2.0, 2.0, 0.0, 1.0], [6.0, 0.0, 1.0, 0.0, 0.0, 3.0, 2.0, 1.0, 2.0, 0.0, 0.0], [7.0, 1.0, 0.0, 0.0, 0.0, 0.0, 1.0, 0.0, 1.0, 0.0, 1.0], [8.0, 0.0, 1.0, 0.0, 4.0, 1.0, 2.0, 0.0, 1.0, 0.0, 0.0], [9.0, 0.0, 2.0, 1.0, 4.0, 3.0, 3.0, 1.0, 0.0, 1.0, 1.0], [10.0, 2.0, 9.0, 3.0, 4.0, 3.0, 7.0, 1.0, 5.0, 1.0, 2.0], [11.0, 4.0, 10.0, 8.0, 14.0, 5.0, 11.0, 1.0, 11.0, 0.0, 5.0], [12.0, 3.0, 9.0, 5.0, 8.0, 9.0, 13.0, 4.0, 12.0, 1.0, 0.0], [13.0, 7.0, 8.0, 11.0, 14.0, 12.0, 14.0, 6.0, 16.0, 5.0, 2.0], [14.0, 3.0, 10.0, 12.0, 10.0, 11.0, 15.0, 4.0, 5.0, 4.0, 4.0], [15.0, 11.0, 2.0, 5.0, 2.0, 19.0, 21.0, 9.0, 7.0, 2.0, 4.0], [16.0, 7.0, 5.0, 6.0, 10.0, 16.0, 19.0, 15.0, 2.0, 6.0, 4.0], [17.0, 14.0, 12.0, 8.0, 10.0, 16.0, 9.0, 7.0, 10.0, 9.0, 9.0], [18.0, 10.0, 8.0, 21.0, 13.0, 18.0, 15.0, 10.0, 9.0, 8.0, 6.0], [19.0, 13.0, 7.0, 15.0, 6.0, 7.0, 3.0, 4.0, 2.0, 7.0, 8.0], [20.0, 4.0, 4.0, 5.0, 6.0, 4.0, 4.0, 14.0, 2.0, 3.0, 1.0], [21.0, 4.0, 2.0, 5.0, 2.0, 9.0, 10.0, 4.0, 5.0, 3.0, 2.0], [22.0, 7.0, 0.0, 2.0, 1.0, 3.0, 3.0, 3.0, 1.0, 0.0, 0.0], [23.0, 2.0, 0.0, 4.0, 4.0, 4.0, 3.0, 8.0, 6.0, 0.0, 0.0]]}, \"id\": \"el101140458376183936\", \"plugins\": [{\"type\": \"reset\"}, {\"type\": \"zoom\", \"button\": true, \"enabled\": false}, {\"type\": \"boxzoom\", \"button\": true, \"enabled\": false}]});\n",
              "      });\n",
              "    });\n",
              "}else{\n",
              "    // require.js not available: dynamically load d3 & mpld3\n",
              "    mpld3_load_lib(\"https://d3js.org/d3.v5.js\", function(){\n",
              "         mpld3_load_lib(\"https://mpld3.github.io/js/mpld3.v0.5.1.js\", function(){\n",
              "                 \n",
              "                 mpld3.draw_figure(\"fig_el1011404583761839367288281988\", {\"width\": 2160.0, \"height\": 432.0, \"axes\": [{\"bbox\": [0.125, 0.125, 0.13362068965517243, 0.755], \"xlim\": [-1.1500000000000001, 24.15], \"ylim\": [-0.7000000000000001, 14.7], \"xdomain\": [-1.1500000000000001, 24.15], \"ydomain\": [-0.7000000000000001, 14.7], \"xscale\": \"linear\", \"yscale\": \"linear\", \"axes\": [{\"position\": \"bottom\", \"nticks\": 7, \"tickvalues\": null, \"tickformat_formatter\": \"\", \"tickformat\": null, \"scale\": \"linear\", \"fontsize\": 10.0, \"grid\": {\"gridOn\": true, \"color\": \"#B0B0B0\", \"dasharray\": \"none\", \"alpha\": 0.3}, \"visible\": true}, {\"position\": \"left\", \"nticks\": 10, \"tickvalues\": null, \"tickformat_formatter\": \"\", \"tickformat\": null, \"scale\": \"linear\", \"fontsize\": 10.0, \"grid\": {\"gridOn\": true, \"color\": \"#B0B0B0\", \"dasharray\": \"none\", \"alpha\": 0.3}, \"visible\": true}], \"axesbg\": \"#FFFFFF\", \"axesbgalpha\": null, \"zoomable\": true, \"id\": \"el101140458374186096\", \"lines\": [{\"data\": \"data01\", \"xindex\": 0, \"yindex\": 1, \"coordinates\": \"data\", \"id\": \"el101140458148461424\", \"color\": \"#FF0000\", \"linewidth\": 1.5, \"dasharray\": \"none\", \"alpha\": 0.3, \"zorder\": 2, \"drawstyle\": \"default\"}, {\"data\": \"data01\", \"xindex\": 0, \"yindex\": 2, \"coordinates\": \"data\", \"id\": \"el101140458148461816\", \"color\": \"#0000FF\", \"linewidth\": 1.5, \"dasharray\": \"none\", \"alpha\": 0.3, \"zorder\": 2, \"drawstyle\": \"default\"}], \"paths\": [], \"markers\": [], \"texts\": [{\"text\": \"2019-09-22\", \"position\": [0.5, 1.0183958793230317], \"coordinates\": \"axes\", \"h_anchor\": \"middle\", \"v_baseline\": \"auto\", \"rotation\": -0.0, \"fontsize\": 12.0, \"color\": \"#000000\", \"alpha\": 1, \"zorder\": 3, \"id\": \"el101140458374058784\"}], \"collections\": [], \"images\": [], \"sharex\": [], \"sharey\": []}, {\"bbox\": [0.28534482758620694, 0.125, 0.13362068965517238, 0.755], \"xlim\": [-1.1500000000000001, 24.15], \"ylim\": [-1.05, 22.05], \"xdomain\": [-1.1500000000000001, 24.15], \"ydomain\": [-1.05, 22.05], \"xscale\": \"linear\", \"yscale\": \"linear\", \"axes\": [{\"position\": \"bottom\", \"nticks\": 7, \"tickvalues\": null, \"tickformat_formatter\": \"\", \"tickformat\": null, \"scale\": \"linear\", \"fontsize\": 10.0, \"grid\": {\"gridOn\": true, \"color\": \"#B0B0B0\", \"dasharray\": \"none\", \"alpha\": 0.3}, \"visible\": true}, {\"position\": \"left\", \"nticks\": 7, \"tickvalues\": null, \"tickformat_formatter\": \"\", \"tickformat\": null, \"scale\": \"linear\", \"fontsize\": 10.0, \"grid\": {\"gridOn\": true, \"color\": \"#B0B0B0\", \"dasharray\": \"none\", \"alpha\": 0.3}, \"visible\": true}], \"axesbg\": \"#FFFFFF\", \"axesbgalpha\": null, \"zoomable\": true, \"id\": \"el101140458374164944\", \"lines\": [{\"data\": \"data01\", \"xindex\": 0, \"yindex\": 3, \"coordinates\": \"data\", \"id\": \"el101140458148434776\", \"color\": \"#FF0000\", \"linewidth\": 1.5, \"dasharray\": \"none\", \"alpha\": 0.3, \"zorder\": 2, \"drawstyle\": \"default\"}, {\"data\": \"data01\", \"xindex\": 0, \"yindex\": 4, \"coordinates\": \"data\", \"id\": \"el101140458148435168\", \"color\": \"#0000FF\", \"linewidth\": 1.5, \"dasharray\": \"none\", \"alpha\": 0.3, \"zorder\": 2, \"drawstyle\": \"default\"}], \"paths\": [], \"markers\": [], \"texts\": [{\"text\": \"2019-09-08\", \"position\": [0.5, 1.0183958793230317], \"coordinates\": \"axes\", \"h_anchor\": \"middle\", \"v_baseline\": \"auto\", \"rotation\": -0.0, \"fontsize\": 12.0, \"color\": \"#000000\", \"alpha\": 1, \"zorder\": 3, \"id\": \"el101140458218005840\"}], \"collections\": [], \"images\": [], \"sharex\": [], \"sharey\": []}, {\"bbox\": [0.4456896551724138, 0.125, 0.13362068965517243, 0.755], \"xlim\": [-1.1500000000000001, 24.15], \"ylim\": [-1.8, 37.8], \"xdomain\": [-1.1500000000000001, 24.15], \"ydomain\": [-1.8, 37.8], \"xscale\": \"linear\", \"yscale\": \"linear\", \"axes\": [{\"position\": \"bottom\", \"nticks\": 7, \"tickvalues\": null, \"tickformat_formatter\": \"\", \"tickformat\": null, \"scale\": \"linear\", \"fontsize\": 10.0, \"grid\": {\"gridOn\": true, \"color\": \"#B0B0B0\", \"dasharray\": \"none\", \"alpha\": 0.3}, \"visible\": true}, {\"position\": \"left\", \"nticks\": 10, \"tickvalues\": null, \"tickformat_formatter\": \"\", \"tickformat\": null, \"scale\": \"linear\", \"fontsize\": 10.0, \"grid\": {\"gridOn\": true, \"color\": \"#B0B0B0\", \"dasharray\": \"none\", \"alpha\": 0.3}, \"visible\": true}], \"axesbg\": \"#FFFFFF\", \"axesbgalpha\": null, \"zoomable\": true, \"id\": \"el101140458217939968\", \"lines\": [{\"data\": \"data01\", \"xindex\": 0, \"yindex\": 5, \"coordinates\": \"data\", \"id\": \"el101140458148436736\", \"color\": \"#FF0000\", \"linewidth\": 1.5, \"dasharray\": \"none\", \"alpha\": 0.3, \"zorder\": 2, \"drawstyle\": \"default\"}, {\"data\": \"data01\", \"xindex\": 0, \"yindex\": 6, \"coordinates\": \"data\", \"id\": \"el101140458148437128\", \"color\": \"#0000FF\", \"linewidth\": 1.5, \"dasharray\": \"none\", \"alpha\": 0.3, \"zorder\": 2, \"drawstyle\": \"default\"}], \"paths\": [], \"markers\": [], \"texts\": [{\"text\": \"2019-09-01\", \"position\": [0.5, 1.0183958793230317], \"coordinates\": \"axes\", \"h_anchor\": \"middle\", \"v_baseline\": \"auto\", \"rotation\": -0.0, \"fontsize\": 12.0, \"color\": \"#000000\", \"alpha\": 1, \"zorder\": 3, \"id\": \"el101140458217936768\"}], \"collections\": [], \"images\": [], \"sharex\": [], \"sharey\": []}, {\"bbox\": [0.6060344827586208, 0.125, 0.13362068965517238, 0.755], \"xlim\": [-1.1500000000000001, 24.15], \"ylim\": [-0.8, 16.8], \"xdomain\": [-1.1500000000000001, 24.15], \"ydomain\": [-0.8, 16.8], \"xscale\": \"linear\", \"yscale\": \"linear\", \"axes\": [{\"position\": \"bottom\", \"nticks\": 7, \"tickvalues\": null, \"tickformat_formatter\": \"\", \"tickformat\": null, \"scale\": \"linear\", \"fontsize\": 10.0, \"grid\": {\"gridOn\": true, \"color\": \"#B0B0B0\", \"dasharray\": \"none\", \"alpha\": 0.3}, \"visible\": true}, {\"position\": \"left\", \"nticks\": 11, \"tickvalues\": null, \"tickformat_formatter\": \"\", \"tickformat\": null, \"scale\": \"linear\", \"fontsize\": 10.0, \"grid\": {\"gridOn\": true, \"color\": \"#B0B0B0\", \"dasharray\": \"none\", \"alpha\": 0.3}, \"visible\": true}], \"axesbg\": \"#FFFFFF\", \"axesbgalpha\": null, \"zoomable\": true, \"id\": \"el101140458203604528\", \"lines\": [{\"data\": \"data01\", \"xindex\": 0, \"yindex\": 7, \"coordinates\": \"data\", \"id\": \"el101140458195763664\", \"color\": \"#FF0000\", \"linewidth\": 1.5, \"dasharray\": \"none\", \"alpha\": 0.3, \"zorder\": 2, \"drawstyle\": \"default\"}, {\"data\": \"data01\", \"xindex\": 0, \"yindex\": 8, \"coordinates\": \"data\", \"id\": \"el101140458195764000\", \"color\": \"#0000FF\", \"linewidth\": 1.5, \"dasharray\": \"none\", \"alpha\": 0.3, \"zorder\": 2, \"drawstyle\": \"default\"}], \"paths\": [], \"markers\": [], \"texts\": [{\"text\": \"2019-09-29\", \"position\": [0.5, 1.0183958793230317], \"coordinates\": \"axes\", \"h_anchor\": \"middle\", \"v_baseline\": \"auto\", \"rotation\": -0.0, \"fontsize\": 12.0, \"color\": \"#000000\", \"alpha\": 1, \"zorder\": 3, \"id\": \"el101140458203437488\"}], \"collections\": [], \"images\": [], \"sharex\": [], \"sharey\": []}, {\"bbox\": [0.7663793103448276, 0.125, 0.1336206896551725, 0.755], \"xlim\": [-1.1500000000000001, 24.15], \"ylim\": [-0.75, 15.75], \"xdomain\": [-1.1500000000000001, 24.15], \"ydomain\": [-0.75, 15.75], \"xscale\": \"linear\", \"yscale\": \"linear\", \"axes\": [{\"position\": \"bottom\", \"nticks\": 7, \"tickvalues\": null, \"tickformat_formatter\": \"\", \"tickformat\": null, \"scale\": \"linear\", \"fontsize\": 10.0, \"grid\": {\"gridOn\": true, \"color\": \"#B0B0B0\", \"dasharray\": \"none\", \"alpha\": 0.3}, \"visible\": true}, {\"position\": \"left\", \"nticks\": 10, \"tickvalues\": null, \"tickformat_formatter\": \"\", \"tickformat\": null, \"scale\": \"linear\", \"fontsize\": 10.0, \"grid\": {\"gridOn\": true, \"color\": \"#B0B0B0\", \"dasharray\": \"none\", \"alpha\": 0.3}, \"visible\": true}], \"axesbg\": \"#FFFFFF\", \"axesbgalpha\": null, \"zoomable\": true, \"id\": \"el101140458203441248\", \"lines\": [{\"data\": \"data01\", \"xindex\": 0, \"yindex\": 9, \"coordinates\": \"data\", \"id\": \"el101140458195765568\", \"color\": \"#FF0000\", \"linewidth\": 1.5, \"dasharray\": \"none\", \"alpha\": 0.3, \"zorder\": 2, \"drawstyle\": \"default\"}, {\"data\": \"data01\", \"xindex\": 0, \"yindex\": 10, \"coordinates\": \"data\", \"id\": \"el101140458195765960\", \"color\": \"#0000FF\", \"linewidth\": 1.5, \"dasharray\": \"none\", \"alpha\": 0.3, \"zorder\": 2, \"drawstyle\": \"default\"}], \"paths\": [], \"markers\": [], \"texts\": [{\"text\": \"2019-09-15\", \"position\": [0.5, 1.0183958793230317], \"coordinates\": \"axes\", \"h_anchor\": \"middle\", \"v_baseline\": \"auto\", \"rotation\": -0.0, \"fontsize\": 12.0, \"color\": \"#000000\", \"alpha\": 1, \"zorder\": 3, \"id\": \"el101140458148527072\"}], \"collections\": [], \"images\": [], \"sharex\": [], \"sharey\": []}], \"data\": {\"data01\": [[0.0, 8.0, 2.0, 15.0, 2.0, 36.0, 16.0, 12.0, 5.0, 15.0, 7.0], [1.0, 6.0, 3.0, 10.0, 1.0, 20.0, 14.0, 7.0, 4.0, 13.0, 6.0], [2.0, 5.0, 3.0, 10.0, 5.0, 15.0, 12.0, 2.0, 2.0, 13.0, 4.0], [3.0, 2.0, 2.0, 6.0, 1.0, 7.0, 7.0, 1.0, 0.0, 3.0, 0.0], [4.0, 1.0, 0.0, 6.0, 3.0, 9.0, 8.0, 0.0, 0.0, 2.0, 2.0], [5.0, 0.0, 1.0, 0.0, 0.0, 2.0, 4.0, 2.0, 2.0, 0.0, 1.0], [6.0, 0.0, 1.0, 0.0, 0.0, 3.0, 2.0, 1.0, 2.0, 0.0, 0.0], [7.0, 1.0, 0.0, 0.0, 0.0, 0.0, 1.0, 0.0, 1.0, 0.0, 1.0], [8.0, 0.0, 1.0, 0.0, 4.0, 1.0, 2.0, 0.0, 1.0, 0.0, 0.0], [9.0, 0.0, 2.0, 1.0, 4.0, 3.0, 3.0, 1.0, 0.0, 1.0, 1.0], [10.0, 2.0, 9.0, 3.0, 4.0, 3.0, 7.0, 1.0, 5.0, 1.0, 2.0], [11.0, 4.0, 10.0, 8.0, 14.0, 5.0, 11.0, 1.0, 11.0, 0.0, 5.0], [12.0, 3.0, 9.0, 5.0, 8.0, 9.0, 13.0, 4.0, 12.0, 1.0, 0.0], [13.0, 7.0, 8.0, 11.0, 14.0, 12.0, 14.0, 6.0, 16.0, 5.0, 2.0], [14.0, 3.0, 10.0, 12.0, 10.0, 11.0, 15.0, 4.0, 5.0, 4.0, 4.0], [15.0, 11.0, 2.0, 5.0, 2.0, 19.0, 21.0, 9.0, 7.0, 2.0, 4.0], [16.0, 7.0, 5.0, 6.0, 10.0, 16.0, 19.0, 15.0, 2.0, 6.0, 4.0], [17.0, 14.0, 12.0, 8.0, 10.0, 16.0, 9.0, 7.0, 10.0, 9.0, 9.0], [18.0, 10.0, 8.0, 21.0, 13.0, 18.0, 15.0, 10.0, 9.0, 8.0, 6.0], [19.0, 13.0, 7.0, 15.0, 6.0, 7.0, 3.0, 4.0, 2.0, 7.0, 8.0], [20.0, 4.0, 4.0, 5.0, 6.0, 4.0, 4.0, 14.0, 2.0, 3.0, 1.0], [21.0, 4.0, 2.0, 5.0, 2.0, 9.0, 10.0, 4.0, 5.0, 3.0, 2.0], [22.0, 7.0, 0.0, 2.0, 1.0, 3.0, 3.0, 3.0, 1.0, 0.0, 0.0], [23.0, 2.0, 0.0, 4.0, 4.0, 4.0, 3.0, 8.0, 6.0, 0.0, 0.0]]}, \"id\": \"el101140458376183936\", \"plugins\": [{\"type\": \"reset\"}, {\"type\": \"zoom\", \"button\": true, \"enabled\": false}, {\"type\": \"boxzoom\", \"button\": true, \"enabled\": false}]});\n",
              "            })\n",
              "         });\n",
              "}\n",
              "</script>"
            ],
            "text/plain": [
              "<IPython.core.display.HTML object>"
            ]
          },
          "metadata": {
            "tags": []
          },
          "execution_count": 63
        }
      ]
    },
    {
      "cell_type": "markdown",
      "metadata": {
        "id": "H4iGfc3DRjZ4",
        "colab_type": "text"
      },
      "source": [
        "## Weather data preprocessing functions"
      ]
    },
    {
      "cell_type": "code",
      "metadata": {
        "id": "ZP7ZNFmPNxaH",
        "colab_type": "code",
        "colab": {}
      },
      "source": [
        "def rate_weather(row):\n",
        "    score = 10\n",
        "    if row['cloud_amount']<2 : score = score\n",
        "    if row['cloud_amount']<5 and row['cloud_amount']>=2 : score = score-1\n",
        "    if row['cloud_amount']<8 and row['cloud_amount']>=5 : score = score-2\n",
        "    if row['cloud_amount']>=8 : score = score-3\n",
        "    if row['visibility']>=40000 : score = score\n",
        "    if row['visibility']>=10000 and row['visibility']<40000 :  score = score-1\n",
        "    if row['visibility']<10000 :  score = score-2\n",
        "    if row['rain_intensity']<=0.25 :  score = score\n",
        "    if row['rain_intensity']<=1 and row['rain_intensity']>0.25: score = score-1   \n",
        "    if row['rain_intensity']<=4 and row['rain_intensity']>1: score = score-2\n",
        "    if row['rain_intensity']<=16 and row['rain_intensity']>4: score = score-3\n",
        "    if row['rain_intensity']>16: score = score-4   \n",
        "    if row['wind_speed']<=1.5: score = score   \n",
        "    if row['wind_speed']<=3.3 and row['wind_speed']>1.5: score = score-1\n",
        "    if row['wind_speed']<=8 and row['wind_speed']>3.3: score = score-2\n",
        "    if row['wind_speed']>8: score = score-3\n",
        "    if score<1 : score = 1\n",
        "    return(score)"
      ],
      "execution_count": 64,
      "outputs": []
    },
    {
      "cell_type": "code",
      "metadata": {
        "id": "xJknE9tKNz8b",
        "colab_type": "code",
        "colab": {}
      },
      "source": [
        "def preprocess_weather(filepath):\n",
        "    df = pd.read_csv(filepath)\n",
        "    df = df.rename(\n",
        "        columns={\n",
        "        'Vuosi': 'year', 'Kk': 'month', 'Pv': 'day', 'Klo': 'time', 'Aikavyöhyke': 'timezone', 'Pilvien määrä (1/8)': 'cloud_amount',\n",
        "        'Ilmanpaine (msl) (hPa)': 'pressure', 'Suhteellinen kosteus (%)': 'rel_humidity', 'Sateen intensiteetti (mm/h)': 'rain_intensity',\n",
        "        'Lumensyvyys (cm)': 'snow_depth', 'Ilman lämpötila (degC)': 'air_temp', 'Kastepistelämpötila (degC)': 'dew-point_temp',\n",
        "        'Näkyvyys (m)': 'visibility', 'Tuulen suunta (deg)': 'wind_dir', 'Puuskanopeus (m/s)': 'gust_speed', 'Tuulen nopeus (m/s)': 'wind_speed'\n",
        "        }\n",
        "    )\n",
        "    df = df.drop(['pressure', 'rel_humidity', 'snow_depth', 'dew-point_temp', 'wind_dir', 'gust_speed'], axis=1)\n",
        "    df['datetime']=pd.to_datetime(df.year.astype(str)+'-'+df.month.astype(str)+'-'+df.day.astype(str)+' '+df.time.astype(str))\n",
        "    df['weather_rate'] = df.apply(lambda row: rate_weather(row), axis=1)\n",
        "    return df\n",
        "    "
      ],
      "execution_count": 65,
      "outputs": []
    },
    {
      "cell_type": "markdown",
      "metadata": {
        "id": "mEOExn12Rz1G",
        "colab_type": "text"
      },
      "source": [
        "## Look at data"
      ]
    },
    {
      "cell_type": "code",
      "metadata": {
        "id": "0O8YplqWN9C1",
        "colab_type": "code",
        "colab": {
          "base_uri": "https://localhost:8080/",
          "height": 204
        },
        "outputId": "c637bbb1-4163-4edc-e65f-682ced5b62a3"
      },
      "source": [
        "filepath ='/content/drive/My Drive/HSLDataset/bikeweather_2019.csv'\n",
        "data_2 = preprocess_weather(filepath)\n",
        "data_2.head()"
      ],
      "execution_count": 66,
      "outputs": [
        {
          "output_type": "execute_result",
          "data": {
            "text/html": [
              "<div>\n",
              "<style scoped>\n",
              "    .dataframe tbody tr th:only-of-type {\n",
              "        vertical-align: middle;\n",
              "    }\n",
              "\n",
              "    .dataframe tbody tr th {\n",
              "        vertical-align: top;\n",
              "    }\n",
              "\n",
              "    .dataframe thead th {\n",
              "        text-align: right;\n",
              "    }\n",
              "</style>\n",
              "<table border=\"1\" class=\"dataframe\">\n",
              "  <thead>\n",
              "    <tr style=\"text-align: right;\">\n",
              "      <th></th>\n",
              "      <th>year</th>\n",
              "      <th>month</th>\n",
              "      <th>day</th>\n",
              "      <th>time</th>\n",
              "      <th>timezone</th>\n",
              "      <th>cloud_amount</th>\n",
              "      <th>rain_intensity</th>\n",
              "      <th>air_temp</th>\n",
              "      <th>visibility</th>\n",
              "      <th>wind_speed</th>\n",
              "      <th>datetime</th>\n",
              "      <th>weather_rate</th>\n",
              "    </tr>\n",
              "  </thead>\n",
              "  <tbody>\n",
              "    <tr>\n",
              "      <th>0</th>\n",
              "      <td>2019</td>\n",
              "      <td>4</td>\n",
              "      <td>1</td>\n",
              "      <td>00:00</td>\n",
              "      <td>UTC</td>\n",
              "      <td>0.0</td>\n",
              "      <td>0.0</td>\n",
              "      <td>1.1</td>\n",
              "      <td>50000.0</td>\n",
              "      <td>4.2</td>\n",
              "      <td>2019-04-01 00:00:00</td>\n",
              "      <td>8</td>\n",
              "    </tr>\n",
              "    <tr>\n",
              "      <th>1</th>\n",
              "      <td>2019</td>\n",
              "      <td>4</td>\n",
              "      <td>1</td>\n",
              "      <td>01:00</td>\n",
              "      <td>UTC</td>\n",
              "      <td>0.0</td>\n",
              "      <td>0.0</td>\n",
              "      <td>1.1</td>\n",
              "      <td>50000.0</td>\n",
              "      <td>5.5</td>\n",
              "      <td>2019-04-01 01:00:00</td>\n",
              "      <td>8</td>\n",
              "    </tr>\n",
              "    <tr>\n",
              "      <th>2</th>\n",
              "      <td>2019</td>\n",
              "      <td>4</td>\n",
              "      <td>1</td>\n",
              "      <td>02:00</td>\n",
              "      <td>UTC</td>\n",
              "      <td>0.0</td>\n",
              "      <td>0.0</td>\n",
              "      <td>0.8</td>\n",
              "      <td>50000.0</td>\n",
              "      <td>4.5</td>\n",
              "      <td>2019-04-01 02:00:00</td>\n",
              "      <td>8</td>\n",
              "    </tr>\n",
              "    <tr>\n",
              "      <th>3</th>\n",
              "      <td>2019</td>\n",
              "      <td>4</td>\n",
              "      <td>1</td>\n",
              "      <td>03:00</td>\n",
              "      <td>UTC</td>\n",
              "      <td>0.0</td>\n",
              "      <td>0.0</td>\n",
              "      <td>0.4</td>\n",
              "      <td>50000.0</td>\n",
              "      <td>3.4</td>\n",
              "      <td>2019-04-01 03:00:00</td>\n",
              "      <td>8</td>\n",
              "    </tr>\n",
              "    <tr>\n",
              "      <th>4</th>\n",
              "      <td>2019</td>\n",
              "      <td>4</td>\n",
              "      <td>1</td>\n",
              "      <td>04:00</td>\n",
              "      <td>UTC</td>\n",
              "      <td>0.0</td>\n",
              "      <td>0.0</td>\n",
              "      <td>0.1</td>\n",
              "      <td>50000.0</td>\n",
              "      <td>3.7</td>\n",
              "      <td>2019-04-01 04:00:00</td>\n",
              "      <td>8</td>\n",
              "    </tr>\n",
              "  </tbody>\n",
              "</table>\n",
              "</div>"
            ],
            "text/plain": [
              "   year  month  day  ... wind_speed            datetime  weather_rate\n",
              "0  2019      4    1  ...        4.2 2019-04-01 00:00:00             8\n",
              "1  2019      4    1  ...        5.5 2019-04-01 01:00:00             8\n",
              "2  2019      4    1  ...        4.5 2019-04-01 02:00:00             8\n",
              "3  2019      4    1  ...        3.4 2019-04-01 03:00:00             8\n",
              "4  2019      4    1  ...        3.7 2019-04-01 04:00:00             8\n",
              "\n",
              "[5 rows x 12 columns]"
            ]
          },
          "metadata": {
            "tags": []
          },
          "execution_count": 66
        }
      ]
    },
    {
      "cell_type": "markdown",
      "metadata": {
        "id": "A50GX5txR7EB",
        "colab_type": "text"
      },
      "source": [
        "## Functions to merge the dataframes"
      ]
    },
    {
      "cell_type": "code",
      "metadata": {
        "id": "Bqa08qodOc98",
        "colab_type": "code",
        "colab": {}
      },
      "source": [
        "def drop_columns_weather(df):\n",
        "  return df.drop(columns=['year','month','day','time','timezone','cloud_amount','rain_intensity','air_temp','visibility','wind_speed'])"
      ],
      "execution_count": 67,
      "outputs": []
    },
    {
      "cell_type": "code",
      "metadata": {
        "id": "VusPcEpjD9Hq",
        "colab_type": "code",
        "colab": {}
      },
      "source": [
        "def drop_columns_bikes(df):\n",
        "  bikes = data.drop(columns=['Osoite','Kapasiteet','x','y'])\n",
        "  bikes = bikes.rename(columns={'Date':'datetime', 'Outgoing':'departures', 'Arriving':'arrivals','ID':'station_id','Name':'station_name'})\n",
        "  return bikes"
      ],
      "execution_count": 68,
      "outputs": []
    },
    {
      "cell_type": "code",
      "metadata": {
        "id": "nDauVE3DNgFC",
        "colab_type": "code",
        "colab": {}
      },
      "source": [
        "# Merging on datetime column: the column must be named 'datetime' in both tables\n",
        "def merge_tables(df1, df2):\n",
        "  merged = df1.merge(\n",
        "    df2,\n",
        "    how='inner',\n",
        "    on='datetime'\n",
        "  )\n",
        "  return merged"
      ],
      "execution_count": 69,
      "outputs": []
    },
    {
      "cell_type": "markdown",
      "metadata": {
        "id": "-nuw4etoSIB9",
        "colab_type": "text"
      },
      "source": [
        "## Test merging"
      ]
    },
    {
      "cell_type": "code",
      "metadata": {
        "id": "-uBgx1TZONbj",
        "colab_type": "code",
        "colab": {
          "base_uri": "https://localhost:8080/",
          "height": 419
        },
        "outputId": "7b1be8a6-32ef-4133-f42a-302f125fee09"
      },
      "source": [
        "merge_tables(drop_columns_bikes(data),drop_columns_weather(data_2))"
      ],
      "execution_count": 70,
      "outputs": [
        {
          "output_type": "execute_result",
          "data": {
            "text/html": [
              "<div>\n",
              "<style scoped>\n",
              "    .dataframe tbody tr th:only-of-type {\n",
              "        vertical-align: middle;\n",
              "    }\n",
              "\n",
              "    .dataframe tbody tr th {\n",
              "        vertical-align: top;\n",
              "    }\n",
              "\n",
              "    .dataframe thead th {\n",
              "        text-align: right;\n",
              "    }\n",
              "</style>\n",
              "<table border=\"1\" class=\"dataframe\">\n",
              "  <thead>\n",
              "    <tr style=\"text-align: right;\">\n",
              "      <th></th>\n",
              "      <th>station_id</th>\n",
              "      <th>datetime</th>\n",
              "      <th>departures</th>\n",
              "      <th>arrivals</th>\n",
              "      <th>station_name</th>\n",
              "      <th>weather_rate</th>\n",
              "    </tr>\n",
              "  </thead>\n",
              "  <tbody>\n",
              "    <tr>\n",
              "      <th>0</th>\n",
              "      <td>1</td>\n",
              "      <td>2019-09-01 00:00:00</td>\n",
              "      <td>4.0</td>\n",
              "      <td>8.0</td>\n",
              "      <td>Kaivopuisto</td>\n",
              "      <td>8</td>\n",
              "    </tr>\n",
              "    <tr>\n",
              "      <th>1</th>\n",
              "      <td>2</td>\n",
              "      <td>2019-09-01 00:00:00</td>\n",
              "      <td>2.0</td>\n",
              "      <td>6.0</td>\n",
              "      <td>Laivasillankatu</td>\n",
              "      <td>8</td>\n",
              "    </tr>\n",
              "    <tr>\n",
              "      <th>2</th>\n",
              "      <td>3</td>\n",
              "      <td>2019-09-01 00:00:00</td>\n",
              "      <td>3.0</td>\n",
              "      <td>2.0</td>\n",
              "      <td>Kapteeninpuistikko</td>\n",
              "      <td>8</td>\n",
              "    </tr>\n",
              "    <tr>\n",
              "      <th>3</th>\n",
              "      <td>4</td>\n",
              "      <td>2019-09-01 00:00:00</td>\n",
              "      <td>2.0</td>\n",
              "      <td>5.0</td>\n",
              "      <td>Viiskulma</td>\n",
              "      <td>8</td>\n",
              "    </tr>\n",
              "    <tr>\n",
              "      <th>4</th>\n",
              "      <td>5</td>\n",
              "      <td>2019-09-01 00:00:00</td>\n",
              "      <td>3.0</td>\n",
              "      <td>6.0</td>\n",
              "      <td>Sepänkatu</td>\n",
              "      <td>8</td>\n",
              "    </tr>\n",
              "    <tr>\n",
              "      <th>...</th>\n",
              "      <td>...</td>\n",
              "      <td>...</td>\n",
              "      <td>...</td>\n",
              "      <td>...</td>\n",
              "      <td>...</td>\n",
              "      <td>...</td>\n",
              "    </tr>\n",
              "    <tr>\n",
              "      <th>251275</th>\n",
              "      <td>763</td>\n",
              "      <td>2019-09-30 23:00:00</td>\n",
              "      <td>0.0</td>\n",
              "      <td>1.0</td>\n",
              "      <td>Kalkkipellonmäki</td>\n",
              "      <td>3</td>\n",
              "    </tr>\n",
              "    <tr>\n",
              "      <th>251276</th>\n",
              "      <td>767</td>\n",
              "      <td>2019-09-30 23:00:00</td>\n",
              "      <td>0.0</td>\n",
              "      <td>0.0</td>\n",
              "      <td>Ruutikatu</td>\n",
              "      <td>3</td>\n",
              "    </tr>\n",
              "    <tr>\n",
              "      <th>251277</th>\n",
              "      <td>769</td>\n",
              "      <td>2019-09-30 23:00:00</td>\n",
              "      <td>0.0</td>\n",
              "      <td>0.0</td>\n",
              "      <td>Tiurintie</td>\n",
              "      <td>3</td>\n",
              "    </tr>\n",
              "    <tr>\n",
              "      <th>251278</th>\n",
              "      <td>900</td>\n",
              "      <td>2019-09-30 23:00:00</td>\n",
              "      <td>0.0</td>\n",
              "      <td>1.0</td>\n",
              "      <td>Orionintie</td>\n",
              "      <td>3</td>\n",
              "    </tr>\n",
              "    <tr>\n",
              "      <th>251279</th>\n",
              "      <td>901</td>\n",
              "      <td>2019-09-30 23:00:00</td>\n",
              "      <td>0.0</td>\n",
              "      <td>0.0</td>\n",
              "      <td>O'Bike Station</td>\n",
              "      <td>3</td>\n",
              "    </tr>\n",
              "  </tbody>\n",
              "</table>\n",
              "<p>251280 rows × 6 columns</p>\n",
              "</div>"
            ],
            "text/plain": [
              "        station_id            datetime  ...        station_name  weather_rate\n",
              "0                1 2019-09-01 00:00:00  ...         Kaivopuisto             8\n",
              "1                2 2019-09-01 00:00:00  ...     Laivasillankatu             8\n",
              "2                3 2019-09-01 00:00:00  ...  Kapteeninpuistikko             8\n",
              "3                4 2019-09-01 00:00:00  ...           Viiskulma             8\n",
              "4                5 2019-09-01 00:00:00  ...           Sepänkatu             8\n",
              "...            ...                 ...  ...                 ...           ...\n",
              "251275         763 2019-09-30 23:00:00  ...    Kalkkipellonmäki             3\n",
              "251276         767 2019-09-30 23:00:00  ...           Ruutikatu             3\n",
              "251277         769 2019-09-30 23:00:00  ...           Tiurintie             3\n",
              "251278         900 2019-09-30 23:00:00  ...          Orionintie             3\n",
              "251279         901 2019-09-30 23:00:00  ...      O'Bike Station             3\n",
              "\n",
              "[251280 rows x 6 columns]"
            ]
          },
          "metadata": {
            "tags": []
          },
          "execution_count": 70
        }
      ]
    },
    {
      "cell_type": "code",
      "metadata": {
        "id": "NlLp_UnpOTQL",
        "colab_type": "code",
        "colab": {}
      },
      "source": [
        ""
      ],
      "execution_count": 70,
      "outputs": []
    }
  ]
}