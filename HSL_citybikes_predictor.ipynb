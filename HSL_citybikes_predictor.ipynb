{
  "nbformat": 4,
  "nbformat_minor": 0,
  "metadata": {
    "colab": {
      "name": "HSL_citybikes_predictor.ipynb",
      "provenance": [],
      "collapsed_sections": [],
      "toc_visible": true,
      "include_colab_link": true
    },
    "kernelspec": {
      "name": "python3",
      "display_name": "Python 3"
    }
  },
  "cells": [
    {
      "cell_type": "markdown",
      "metadata": {
        "id": "view-in-github",
        "colab_type": "text"
      },
      "source": [
        "<a href=\"https://colab.research.google.com/github/giacomogreggio/HSL-citybikes-predictor/blob/master/HSL_citybikes_predictor.ipynb\" target=\"_parent\"><img src=\"https://colab.research.google.com/assets/colab-badge.svg\" alt=\"Open In Colab\"/></a>"
      ]
    },
    {
      "cell_type": "markdown",
      "metadata": {
        "id": "WBjSSe0X0TE6",
        "colab_type": "text"
      },
      "source": [
        "## Citybike predictor\n",
        "\n",
        "### Elevator pitch\n",
        "Scheduling your day is important for everyone, but every day we have to face problems related to planning your itinerary. When you want to use a citybike to move from a place to another you may find yourself at an empty bike station. Could there be a way to predict the availability? A solution: an application that predicts exactly that based on the time and the weather.\n",
        "\n",
        "\n",
        "### Data: sources, wrangling, management\t\t\n",
        "- The original purpose of the data is not compatible with our needs: the data is meant to describe bike trips/routing, not the bike availability\n",
        "- \n",
        "            \n",
        "### Data analysis: statistics, machine learning\t\n",
        "- We need a predicting model\n",
        "- Predictions for time series: a lot of different variables\n",
        "- Combining different data sources to base the prediction to current situation: weather, time of the day, current bike availability    \n",
        "\n",
        "\n",
        "### Communication of results: summarization & visualization\n",
        "- Finding clear and intuitive way to summarize and visualize data such that it is accessible to the user\n",
        "- \n",
        "            \n",
        "### Operationalization: creating added value, end-user point of view\n",
        "- Mobile optimated web application"
      ]
    },
    {
      "cell_type": "markdown",
      "metadata": {
        "id": "4-NNZ_hDaUwh",
        "colab_type": "text"
      },
      "source": [
        "## Preprocessing the HSL-data"
      ]
    },
    {
      "cell_type": "markdown",
      "metadata": {
        "id": "d1K5-T3ygWKF",
        "colab_type": "text"
      },
      "source": [
        "### Initializing everything"
      ]
    },
    {
      "cell_type": "code",
      "metadata": {
        "id": "johv7o6KOQVG",
        "colab_type": "code",
        "colab": {
          "base_uri": "https://localhost:8080/",
          "height": 366
        },
        "outputId": "e2155b80-f223-40dc-80d7-13240d6bf58c"
      },
      "source": [
        "!pip install mpld3"
      ],
      "execution_count": null,
      "outputs": [
        {
          "output_type": "stream",
          "text": [
            "Collecting mpld3\n",
            "\u001b[?25l  Downloading https://files.pythonhosted.org/packages/66/31/89bd2afd21b920e3612996623e7b3aac14d741537aa77600ea5102a34be0/mpld3-0.5.1.tar.gz (1.0MB)\n",
            "\u001b[K     |████████████████████████████████| 1.0MB 2.9MB/s \n",
            "\u001b[?25hRequirement already satisfied: jinja2 in /usr/local/lib/python3.6/dist-packages (from mpld3) (2.11.2)\n",
            "Requirement already satisfied: matplotlib in /usr/local/lib/python3.6/dist-packages (from mpld3) (3.2.2)\n",
            "Requirement already satisfied: MarkupSafe>=0.23 in /usr/local/lib/python3.6/dist-packages (from jinja2->mpld3) (1.1.1)\n",
            "Requirement already satisfied: python-dateutil>=2.1 in /usr/local/lib/python3.6/dist-packages (from matplotlib->mpld3) (2.8.1)\n",
            "Requirement already satisfied: numpy>=1.11 in /usr/local/lib/python3.6/dist-packages (from matplotlib->mpld3) (1.18.5)\n",
            "Requirement already satisfied: cycler>=0.10 in /usr/local/lib/python3.6/dist-packages (from matplotlib->mpld3) (0.10.0)\n",
            "Requirement already satisfied: pyparsing!=2.0.4,!=2.1.2,!=2.1.6,>=2.0.1 in /usr/local/lib/python3.6/dist-packages (from matplotlib->mpld3) (2.4.7)\n",
            "Requirement already satisfied: kiwisolver>=1.0.1 in /usr/local/lib/python3.6/dist-packages (from matplotlib->mpld3) (1.2.0)\n",
            "Requirement already satisfied: six>=1.5 in /usr/local/lib/python3.6/dist-packages (from python-dateutil>=2.1->matplotlib->mpld3) (1.15.0)\n",
            "Building wheels for collected packages: mpld3\n",
            "  Building wheel for mpld3 (setup.py) ... \u001b[?25l\u001b[?25hdone\n",
            "  Created wheel for mpld3: filename=mpld3-0.5.1-cp36-none-any.whl size=364064 sha256=5d46f97779b2355b495eed80a61d46971a829a10c06d1b11c484759f6c027404\n",
            "  Stored in directory: /root/.cache/pip/wheels/38/68/06/d119af6c3f9a2d1e123c1f72d276576b457131b3a7bf94e402\n",
            "Successfully built mpld3\n",
            "Installing collected packages: mpld3\n",
            "Successfully installed mpld3-0.5.1\n"
          ],
          "name": "stdout"
        }
      ]
    },
    {
      "cell_type": "code",
      "metadata": {
        "id": "cWqTY9JXPUZE",
        "colab_type": "code",
        "colab": {}
      },
      "source": [
        "# All imports\n",
        "\n",
        "import pandas as pd\n",
        "import matplotlib.pyplot as plt\n",
        "from google.colab import drive\n",
        "from datetime import datetime\n",
        "from pandas.tseries.offsets import MonthEnd\n",
        "import mpld3\n",
        "from mpld3 import plugins\n",
        "mpld3.enable_notebook()"
      ],
      "execution_count": null,
      "outputs": []
    },
    {
      "cell_type": "code",
      "metadata": {
        "id": "fXb_EGwVFqpg",
        "colab_type": "code",
        "colab": {
          "base_uri": "https://localhost:8080/",
          "height": 35
        },
        "outputId": "42f60f99-f124-4756-ba55-4d130ceb9776"
      },
      "source": [
        "drive.mount('/content/drive')\n"
      ],
      "execution_count": null,
      "outputs": [
        {
          "output_type": "stream",
          "text": [
            "Mounted at /content/drive\n"
          ],
          "name": "stdout"
        }
      ]
    },
    {
      "cell_type": "markdown",
      "metadata": {
        "id": "CyS9UkKaNlX-",
        "colab_type": "text"
      },
      "source": [
        "### The function that processes the data for a month"
      ]
    },
    {
      "cell_type": "code",
      "metadata": {
        "id": "YF9mpSfOjdfW",
        "colab_type": "code",
        "colab": {}
      },
      "source": [
        "def get_station_data():\n",
        "  stations = pd.read_csv(\"/content/drive/My Drive/HSLDataset/Helsingin_ja_Espoon_kaupunkipyöräasemat.csv\")\n",
        "  stations = stations.drop([\"FID\", \"Nimi\", \"Namn\", \"Adress\", \"Kaupunki\", \"Stad\", \"Operaattor\"], axis = 1)\n",
        "  return stations"
      ],
      "execution_count": null,
      "outputs": []
    },
    {
      "cell_type": "code",
      "metadata": {
        "id": "Gl-W9W0PginX",
        "colab_type": "code",
        "colab": {}
      },
      "source": [
        "def preprocess_month(month):\n",
        "  path = \"/content/drive/My Drive/HSLDataset/od-trips-2019/\"\n",
        "  extension = \".csv\"\n",
        "  filename = \"2019-\" + '{:02.0f}'.format(month)\n",
        "  full_path = path + filename + extension\n",
        "  \n",
        "  data = pd.read_csv(full_path, sep = \",\")\n",
        "\n",
        "  # Make time a datetime object to ease handling. Also floor to starting hour\n",
        "  data[\"Dep date\"] = pd.to_datetime(data[\"Departure\"], errors = \"ignore\").dt.floor(freq = \"H\")\n",
        "  data[\"Return date\"] = pd.to_datetime(data[\"Return\"], errors = \"ignore\").dt.floor(freq = \"H\")\n",
        "\n",
        "  # For our analysis we shouldn't need this information\n",
        "  data = data.drop(columns=[\"Covered distance (m)\", \"Duration (sec.)\", \"Departure\", \"Return\"])\n",
        "\n",
        "  # Get the outgoing bikes per station at timeframe\n",
        "  outgoing = data.groupby(\"Departure station id\")[\"Dep date\"].value_counts()\n",
        "  outgoing = outgoing.sort_index()\n",
        "  outgoing = outgoing.rename_axis(index = {\"Dep date\" : \"Date\", \"Departure station id\" : \"ID\"})\n",
        "  outgoing = outgoing.rename(\"Outgoing\")\n",
        "\n",
        "  # Get the arriving bikes per station at timeframe\n",
        "  arriving = data.groupby(\"Return station id\")[\"Return date\"].value_counts()\n",
        "  arriving = arriving.sort_index()\n",
        "  arriving = arriving.rename_axis(index = {\"Return date\" : \"Date\", \"Return station id\" : \"ID\"})\n",
        "  arriving = arriving.rename(\"Arriving\")\n",
        "\n",
        "  outgoing_arriving_merge = pd.merge(outgoing, arriving, on = [\"ID\", \"Date\"], how = \"outer\")\n",
        "  outgoing_arriving_merge = outgoing_arriving_merge.fillna(0)\n",
        "\n",
        "  \n",
        "  stations = set(outgoing_arriving_merge.index.get_level_values(0))\n",
        "\n",
        "  # We need data for ALL timeframes\n",
        "  first_day_of_month = \"2019-\" + '{:02.0f}'.format(month) + \"-01 00:00:00\"\n",
        "  last_day_of_month = pd.Timestamp(\"2019-\" + '{:02.0f}'.format(month) + \"-01 23:00:00\") + MonthEnd(0)\n",
        "  all_dates = pd.date_range(first_day_of_month, last_day_of_month, freq = \"H\")\n",
        "  idx = pd.MultiIndex.from_product([stations, all_dates], names = [\"ID\", \"Date\"])\n",
        "  mega_frame_with_station_date_cartesian_product = pd.DataFrame(index = idx)\n",
        "  processed = pd.merge(mega_frame_with_station_date_cartesian_product, outgoing_arriving_merge, on = [\"ID\", \"Date\"], how = \"left\")\n",
        "  processed = processed.fillna(0)\n",
        "  processed = processed.reset_index()\n",
        "\n",
        "  # Merge with the station data from HSL\n",
        "  station_data = get_station_data()\n",
        "  processed_with_station_data = pd.merge(processed, station_data, on = \"ID\", how = \"inner\")\n",
        "\n",
        "  processed_with_station_data.to_csv(\"./drive/My Drive/HSLDataset/processed/\" + filename + \"-processed.csv\")"
      ],
      "execution_count": null,
      "outputs": []
    },
    {
      "cell_type": "code",
      "metadata": {
        "id": "JcDGv5K9f02p",
        "colab_type": "code",
        "colab": {}
      },
      "source": [
        "def get_processed_data_for_month(month):\n",
        "  month = '{:02.0f}'.format(month)\n",
        "  data = pd.read_csv(\"/content/drive/My Drive/HSLDataset/processed/2019-\" + month + \"-processed.csv\")\n",
        "  data[\"Date\"] = pd.to_datetime(data[\"Date\"])\n",
        "  \n",
        "  # Don't know what this is all about but I guess everything is fine-ish :DDD\n",
        "  data = data.drop(\"Unnamed: 0\", axis = 1)\n",
        "  return data"
      ],
      "execution_count": null,
      "outputs": []
    },
    {
      "cell_type": "code",
      "metadata": {
        "id": "WdXseBI7hTGS",
        "colab_type": "code",
        "colab": {}
      },
      "source": [
        "# Process all the data and save them as csv-files\n",
        "for month in range(4,11):\n",
        "  data = preprocess_month(month)"
      ],
      "execution_count": null,
      "outputs": []
    },
    {
      "cell_type": "markdown",
      "metadata": {
        "id": "aThMDl9mPGz0",
        "colab_type": "text"
      },
      "source": [
        "## Looking at the data"
      ]
    },
    {
      "cell_type": "code",
      "metadata": {
        "id": "vBzFIEfuRFdw",
        "colab_type": "code",
        "colab": {}
      },
      "source": [
        "def data_of_station_for_weekdays_in_month(dataframe, station, month, weekday):\n",
        "  station_data = dataframe[dataframe[\"ID\"] == station]\n",
        "  station_data_for_month = station_data[(station_data[\"Date\"].dt.month == month) & (station_data[\"Date\"].dt.weekday == weekday)]\n",
        "  return station_data_for_month"
      ],
      "execution_count": null,
      "outputs": []
    },
    {
      "cell_type": "code",
      "metadata": {
        "id": "jkQaZDvCrgbb",
        "colab_type": "code",
        "colab": {
          "base_uri": "https://localhost:8080/",
          "height": 424
        },
        "outputId": "3b2c431a-9846-4fde-989b-e9977ba0041d"
      },
      "source": [
        "data =  get_processed_data_for_month(9)\n",
        "data[data[\"ID\"] == 19]"
      ],
      "execution_count": null,
      "outputs": [
        {
          "output_type": "execute_result",
          "data": {
            "text/html": [
              "<div>\n",
              "<style scoped>\n",
              "    .dataframe tbody tr th:only-of-type {\n",
              "        vertical-align: middle;\n",
              "    }\n",
              "\n",
              "    .dataframe tbody tr th {\n",
              "        vertical-align: top;\n",
              "    }\n",
              "\n",
              "    .dataframe thead th {\n",
              "        text-align: right;\n",
              "    }\n",
              "</style>\n",
              "<table border=\"1\" class=\"dataframe\">\n",
              "  <thead>\n",
              "    <tr style=\"text-align: right;\">\n",
              "      <th></th>\n",
              "      <th>ID</th>\n",
              "      <th>Date</th>\n",
              "      <th>Outgoing</th>\n",
              "      <th>Arriving</th>\n",
              "      <th>Name</th>\n",
              "      <th>Osoite</th>\n",
              "      <th>Kapasiteet</th>\n",
              "      <th>x</th>\n",
              "      <th>y</th>\n",
              "    </tr>\n",
              "  </thead>\n",
              "  <tbody>\n",
              "    <tr>\n",
              "      <th>12240</th>\n",
              "      <td>19</td>\n",
              "      <td>2019-09-01 00:00:00</td>\n",
              "      <td>36.0</td>\n",
              "      <td>16.0</td>\n",
              "      <td>Central Railway Station/East</td>\n",
              "      <td>Rautatientori 1</td>\n",
              "      <td>20</td>\n",
              "      <td>24.942527</td>\n",
              "      <td>60.170824</td>\n",
              "    </tr>\n",
              "    <tr>\n",
              "      <th>12241</th>\n",
              "      <td>19</td>\n",
              "      <td>2019-09-01 01:00:00</td>\n",
              "      <td>20.0</td>\n",
              "      <td>14.0</td>\n",
              "      <td>Central Railway Station/East</td>\n",
              "      <td>Rautatientori 1</td>\n",
              "      <td>20</td>\n",
              "      <td>24.942527</td>\n",
              "      <td>60.170824</td>\n",
              "    </tr>\n",
              "    <tr>\n",
              "      <th>12242</th>\n",
              "      <td>19</td>\n",
              "      <td>2019-09-01 02:00:00</td>\n",
              "      <td>15.0</td>\n",
              "      <td>12.0</td>\n",
              "      <td>Central Railway Station/East</td>\n",
              "      <td>Rautatientori 1</td>\n",
              "      <td>20</td>\n",
              "      <td>24.942527</td>\n",
              "      <td>60.170824</td>\n",
              "    </tr>\n",
              "    <tr>\n",
              "      <th>12243</th>\n",
              "      <td>19</td>\n",
              "      <td>2019-09-01 03:00:00</td>\n",
              "      <td>7.0</td>\n",
              "      <td>7.0</td>\n",
              "      <td>Central Railway Station/East</td>\n",
              "      <td>Rautatientori 1</td>\n",
              "      <td>20</td>\n",
              "      <td>24.942527</td>\n",
              "      <td>60.170824</td>\n",
              "    </tr>\n",
              "    <tr>\n",
              "      <th>12244</th>\n",
              "      <td>19</td>\n",
              "      <td>2019-09-01 04:00:00</td>\n",
              "      <td>9.0</td>\n",
              "      <td>8.0</td>\n",
              "      <td>Central Railway Station/East</td>\n",
              "      <td>Rautatientori 1</td>\n",
              "      <td>20</td>\n",
              "      <td>24.942527</td>\n",
              "      <td>60.170824</td>\n",
              "    </tr>\n",
              "    <tr>\n",
              "      <th>...</th>\n",
              "      <td>...</td>\n",
              "      <td>...</td>\n",
              "      <td>...</td>\n",
              "      <td>...</td>\n",
              "      <td>...</td>\n",
              "      <td>...</td>\n",
              "      <td>...</td>\n",
              "      <td>...</td>\n",
              "      <td>...</td>\n",
              "    </tr>\n",
              "    <tr>\n",
              "      <th>12955</th>\n",
              "      <td>19</td>\n",
              "      <td>2019-09-30 19:00:00</td>\n",
              "      <td>10.0</td>\n",
              "      <td>4.0</td>\n",
              "      <td>Central Railway Station/East</td>\n",
              "      <td>Rautatientori 1</td>\n",
              "      <td>20</td>\n",
              "      <td>24.942527</td>\n",
              "      <td>60.170824</td>\n",
              "    </tr>\n",
              "    <tr>\n",
              "      <th>12956</th>\n",
              "      <td>19</td>\n",
              "      <td>2019-09-30 20:00:00</td>\n",
              "      <td>7.0</td>\n",
              "      <td>7.0</td>\n",
              "      <td>Central Railway Station/East</td>\n",
              "      <td>Rautatientori 1</td>\n",
              "      <td>20</td>\n",
              "      <td>24.942527</td>\n",
              "      <td>60.170824</td>\n",
              "    </tr>\n",
              "    <tr>\n",
              "      <th>12957</th>\n",
              "      <td>19</td>\n",
              "      <td>2019-09-30 21:00:00</td>\n",
              "      <td>2.0</td>\n",
              "      <td>2.0</td>\n",
              "      <td>Central Railway Station/East</td>\n",
              "      <td>Rautatientori 1</td>\n",
              "      <td>20</td>\n",
              "      <td>24.942527</td>\n",
              "      <td>60.170824</td>\n",
              "    </tr>\n",
              "    <tr>\n",
              "      <th>12958</th>\n",
              "      <td>19</td>\n",
              "      <td>2019-09-30 22:00:00</td>\n",
              "      <td>2.0</td>\n",
              "      <td>4.0</td>\n",
              "      <td>Central Railway Station/East</td>\n",
              "      <td>Rautatientori 1</td>\n",
              "      <td>20</td>\n",
              "      <td>24.942527</td>\n",
              "      <td>60.170824</td>\n",
              "    </tr>\n",
              "    <tr>\n",
              "      <th>12959</th>\n",
              "      <td>19</td>\n",
              "      <td>2019-09-30 23:00:00</td>\n",
              "      <td>1.0</td>\n",
              "      <td>2.0</td>\n",
              "      <td>Central Railway Station/East</td>\n",
              "      <td>Rautatientori 1</td>\n",
              "      <td>20</td>\n",
              "      <td>24.942527</td>\n",
              "      <td>60.170824</td>\n",
              "    </tr>\n",
              "  </tbody>\n",
              "</table>\n",
              "<p>720 rows × 9 columns</p>\n",
              "</div>"
            ],
            "text/plain": [
              "       ID                Date  Outgoing  ...  Kapasiteet          x          y\n",
              "12240  19 2019-09-01 00:00:00      36.0  ...          20  24.942527  60.170824\n",
              "12241  19 2019-09-01 01:00:00      20.0  ...          20  24.942527  60.170824\n",
              "12242  19 2019-09-01 02:00:00      15.0  ...          20  24.942527  60.170824\n",
              "12243  19 2019-09-01 03:00:00       7.0  ...          20  24.942527  60.170824\n",
              "12244  19 2019-09-01 04:00:00       9.0  ...          20  24.942527  60.170824\n",
              "...    ..                 ...       ...  ...         ...        ...        ...\n",
              "12955  19 2019-09-30 19:00:00      10.0  ...          20  24.942527  60.170824\n",
              "12956  19 2019-09-30 20:00:00       7.0  ...          20  24.942527  60.170824\n",
              "12957  19 2019-09-30 21:00:00       2.0  ...          20  24.942527  60.170824\n",
              "12958  19 2019-09-30 22:00:00       2.0  ...          20  24.942527  60.170824\n",
              "12959  19 2019-09-30 23:00:00       1.0  ...          20  24.942527  60.170824\n",
              "\n",
              "[720 rows x 9 columns]"
            ]
          },
          "metadata": {
            "tags": []
          },
          "execution_count": 15
        }
      ]
    },
    {
      "cell_type": "markdown",
      "metadata": {
        "id": "fmVwe_yjh2GI",
        "colab_type": "text"
      },
      "source": [
        "## Different data visualizations"
      ]
    },
    {
      "cell_type": "code",
      "metadata": {
        "id": "09TH09GGQVds",
        "colab_type": "code",
        "colab": {
          "base_uri": "https://localhost:8080/",
          "height": 471
        },
        "outputId": "de62b2b5-7f5d-40b1-f985-bcfb9df7ac96"
      },
      "source": [
        "wanted_data = data_of_station_for_weekdays_in_month(data, 19, 9, 6)\n",
        "weekday_occurences = set(wanted_data[\"Date\"].dt.date)\n",
        "fig, axs = plt.subplots(1, len(weekday_occurences), figsize = (30,6))\n",
        "\n",
        "\n",
        "for idx,weekday_occurence in enumerate(weekday_occurences):\n",
        "  weekday_occurence_data = wanted_data[wanted_data[\"Date\"].dt.date == weekday_occurence]\n",
        "  axs[idx].grid(True, alpha = 0.3)\n",
        "  axs[idx].plot(weekday_occurence_data[\"Date\"].dt.hour, weekday_occurence_data[\"Outgoing\"], 'r', weekday_occurence_data[\"Date\"].dt.hour, weekday_occurence_data[\"Arriving\"], 'b', alpha = 0.3)\n",
        "  axs[idx].title.set_text(weekday_occurence)\n",
        "mpld3.display()"
      ],
      "execution_count": null,
      "outputs": [
        {
          "output_type": "execute_result",
          "data": {
            "text/html": [
              "\n",
              "\n",
              "<style>\n",
              "\n",
              "</style>\n",
              "\n",
              "<div id=\"fig_el7071400396379669202580354238\"></div>\n",
              "<script>\n",
              "function mpld3_load_lib(url, callback){\n",
              "  var s = document.createElement('script');\n",
              "  s.src = url;\n",
              "  s.async = true;\n",
              "  s.onreadystatechange = s.onload = callback;\n",
              "  s.onerror = function(){console.warn(\"failed to load library \" + url);};\n",
              "  document.getElementsByTagName(\"head\")[0].appendChild(s);\n",
              "}\n",
              "\n",
              "if(typeof(mpld3) !== \"undefined\" && mpld3._mpld3IsLoaded){\n",
              "   // already loaded: just create the figure\n",
              "   !function(mpld3){\n",
              "       \n",
              "       mpld3.draw_figure(\"fig_el7071400396379669202580354238\", {\"width\": 2160.0, \"height\": 432.0, \"axes\": [{\"bbox\": [0.125, 0.125, 0.13362068965517243, 0.755], \"xlim\": [-1.1500000000000001, 24.15], \"ylim\": [-0.8, 16.8], \"xdomain\": [-1.1500000000000001, 24.15], \"ydomain\": [-0.8, 16.8], \"xscale\": \"linear\", \"yscale\": \"linear\", \"axes\": [{\"position\": \"bottom\", \"nticks\": 7, \"tickvalues\": null, \"tickformat_formatter\": \"\", \"tickformat\": null, \"scale\": \"linear\", \"fontsize\": 10.0, \"grid\": {\"gridOn\": true, \"color\": \"#B0B0B0\", \"dasharray\": \"none\", \"alpha\": 0.3}, \"visible\": true}, {\"position\": \"left\", \"nticks\": 11, \"tickvalues\": null, \"tickformat_formatter\": \"\", \"tickformat\": null, \"scale\": \"linear\", \"fontsize\": 10.0, \"grid\": {\"gridOn\": true, \"color\": \"#B0B0B0\", \"dasharray\": \"none\", \"alpha\": 0.3}, \"visible\": true}], \"axesbg\": \"#FFFFFF\", \"axesbgalpha\": null, \"zoomable\": true, \"id\": \"el707140039628886872\", \"lines\": [{\"data\": \"data01\", \"xindex\": 0, \"yindex\": 1, \"coordinates\": \"data\", \"id\": \"el707140039578466904\", \"color\": \"#FF0000\", \"linewidth\": 1.5, \"dasharray\": \"none\", \"alpha\": 0.3, \"zorder\": 2, \"drawstyle\": \"default\"}, {\"data\": \"data01\", \"xindex\": 0, \"yindex\": 2, \"coordinates\": \"data\", \"id\": \"el707140039578466120\", \"color\": \"#0000FF\", \"linewidth\": 1.5, \"dasharray\": \"none\", \"alpha\": 0.3, \"zorder\": 2, \"drawstyle\": \"default\"}], \"paths\": [], \"markers\": [], \"texts\": [{\"text\": \"2019-09-29\", \"position\": [0.5, 1.0183958793230317], \"coordinates\": \"axes\", \"h_anchor\": \"middle\", \"v_baseline\": \"auto\", \"rotation\": -0.0, \"fontsize\": 12.0, \"color\": \"#000000\", \"alpha\": 1, \"zorder\": 3, \"id\": \"el707140039629100256\"}], \"collections\": [], \"images\": [], \"sharex\": [], \"sharey\": []}, {\"bbox\": [0.28534482758620694, 0.125, 0.13362068965517238, 0.755], \"xlim\": [-1.1500000000000001, 24.15], \"ylim\": [-0.7000000000000001, 14.7], \"xdomain\": [-1.1500000000000001, 24.15], \"ydomain\": [-0.7000000000000001, 14.7], \"xscale\": \"linear\", \"yscale\": \"linear\", \"axes\": [{\"position\": \"bottom\", \"nticks\": 7, \"tickvalues\": null, \"tickformat_formatter\": \"\", \"tickformat\": null, \"scale\": \"linear\", \"fontsize\": 10.0, \"grid\": {\"gridOn\": true, \"color\": \"#B0B0B0\", \"dasharray\": \"none\", \"alpha\": 0.3}, \"visible\": true}, {\"position\": \"left\", \"nticks\": 10, \"tickvalues\": null, \"tickformat_formatter\": \"\", \"tickformat\": null, \"scale\": \"linear\", \"fontsize\": 10.0, \"grid\": {\"gridOn\": true, \"color\": \"#B0B0B0\", \"dasharray\": \"none\", \"alpha\": 0.3}, \"visible\": true}], \"axesbg\": \"#FFFFFF\", \"axesbgalpha\": null, \"zoomable\": true, \"id\": \"el707140039579716520\", \"lines\": [{\"data\": \"data01\", \"xindex\": 0, \"yindex\": 3, \"coordinates\": \"data\", \"id\": \"el707140039578346944\", \"color\": \"#FF0000\", \"linewidth\": 1.5, \"dasharray\": \"none\", \"alpha\": 0.3, \"zorder\": 2, \"drawstyle\": \"default\"}, {\"data\": \"data01\", \"xindex\": 0, \"yindex\": 4, \"coordinates\": \"data\", \"id\": \"el707140039578345936\", \"color\": \"#0000FF\", \"linewidth\": 1.5, \"dasharray\": \"none\", \"alpha\": 0.3, \"zorder\": 2, \"drawstyle\": \"default\"}], \"paths\": [], \"markers\": [], \"texts\": [{\"text\": \"2019-09-22\", \"position\": [0.5, 1.0183958793230317], \"coordinates\": \"axes\", \"h_anchor\": \"middle\", \"v_baseline\": \"auto\", \"rotation\": -0.0, \"fontsize\": 12.0, \"color\": \"#000000\", \"alpha\": 1, \"zorder\": 3, \"id\": \"el707140039579766568\"}], \"collections\": [], \"images\": [], \"sharex\": [], \"sharey\": []}, {\"bbox\": [0.4456896551724138, 0.125, 0.13362068965517243, 0.755], \"xlim\": [-1.1500000000000001, 24.15], \"ylim\": [-0.75, 15.75], \"xdomain\": [-1.1500000000000001, 24.15], \"ydomain\": [-0.75, 15.75], \"xscale\": \"linear\", \"yscale\": \"linear\", \"axes\": [{\"position\": \"bottom\", \"nticks\": 7, \"tickvalues\": null, \"tickformat_formatter\": \"\", \"tickformat\": null, \"scale\": \"linear\", \"fontsize\": 10.0, \"grid\": {\"gridOn\": true, \"color\": \"#B0B0B0\", \"dasharray\": \"none\", \"alpha\": 0.3}, \"visible\": true}, {\"position\": \"left\", \"nticks\": 10, \"tickvalues\": null, \"tickformat_formatter\": \"\", \"tickformat\": null, \"scale\": \"linear\", \"fontsize\": 10.0, \"grid\": {\"gridOn\": true, \"color\": \"#B0B0B0\", \"dasharray\": \"none\", \"alpha\": 0.3}, \"visible\": true}], \"axesbg\": \"#FFFFFF\", \"axesbgalpha\": null, \"zoomable\": true, \"id\": \"el707140039587959752\", \"lines\": [{\"data\": \"data01\", \"xindex\": 0, \"yindex\": 5, \"coordinates\": \"data\", \"id\": \"el707140039631523568\", \"color\": \"#FF0000\", \"linewidth\": 1.5, \"dasharray\": \"none\", \"alpha\": 0.3, \"zorder\": 2, \"drawstyle\": \"default\"}, {\"data\": \"data01\", \"xindex\": 0, \"yindex\": 6, \"coordinates\": \"data\", \"id\": \"el707140039631523400\", \"color\": \"#0000FF\", \"linewidth\": 1.5, \"dasharray\": \"none\", \"alpha\": 0.3, \"zorder\": 2, \"drawstyle\": \"default\"}], \"paths\": [], \"markers\": [], \"texts\": [{\"text\": \"2019-09-15\", \"position\": [0.5, 1.0183958793230317], \"coordinates\": \"axes\", \"h_anchor\": \"middle\", \"v_baseline\": \"auto\", \"rotation\": -0.0, \"fontsize\": 12.0, \"color\": \"#000000\", \"alpha\": 1, \"zorder\": 3, \"id\": \"el707140039588048848\"}], \"collections\": [], \"images\": [], \"sharex\": [], \"sharey\": []}, {\"bbox\": [0.6060344827586208, 0.125, 0.13362068965517238, 0.755], \"xlim\": [-1.1500000000000001, 24.15], \"ylim\": [-1.8, 37.8], \"xdomain\": [-1.1500000000000001, 24.15], \"ydomain\": [-1.8, 37.8], \"xscale\": \"linear\", \"yscale\": \"linear\", \"axes\": [{\"position\": \"bottom\", \"nticks\": 7, \"tickvalues\": null, \"tickformat_formatter\": \"\", \"tickformat\": null, \"scale\": \"linear\", \"fontsize\": 10.0, \"grid\": {\"gridOn\": true, \"color\": \"#B0B0B0\", \"dasharray\": \"none\", \"alpha\": 0.3}, \"visible\": true}, {\"position\": \"left\", \"nticks\": 10, \"tickvalues\": null, \"tickformat_formatter\": \"\", \"tickformat\": null, \"scale\": \"linear\", \"fontsize\": 10.0, \"grid\": {\"gridOn\": true, \"color\": \"#B0B0B0\", \"dasharray\": \"none\", \"alpha\": 0.3}, \"visible\": true}], \"axesbg\": \"#FFFFFF\", \"axesbgalpha\": null, \"zoomable\": true, \"id\": \"el707140039588165056\", \"lines\": [{\"data\": \"data01\", \"xindex\": 0, \"yindex\": 7, \"coordinates\": \"data\", \"id\": \"el707140039631521048\", \"color\": \"#FF0000\", \"linewidth\": 1.5, \"dasharray\": \"none\", \"alpha\": 0.3, \"zorder\": 2, \"drawstyle\": \"default\"}, {\"data\": \"data01\", \"xindex\": 0, \"yindex\": 8, \"coordinates\": \"data\", \"id\": \"el707140039631520880\", \"color\": \"#0000FF\", \"linewidth\": 1.5, \"dasharray\": \"none\", \"alpha\": 0.3, \"zorder\": 2, \"drawstyle\": \"default\"}], \"paths\": [], \"markers\": [], \"texts\": [{\"text\": \"2019-09-01\", \"position\": [0.5, 1.0183958793230317], \"coordinates\": \"axes\", \"h_anchor\": \"middle\", \"v_baseline\": \"auto\", \"rotation\": -0.0, \"fontsize\": 12.0, \"color\": \"#000000\", \"alpha\": 1, \"zorder\": 3, \"id\": \"el707140039631518856\"}], \"collections\": [], \"images\": [], \"sharex\": [], \"sharey\": []}, {\"bbox\": [0.7663793103448276, 0.125, 0.1336206896551725, 0.755], \"xlim\": [-1.1500000000000001, 24.15], \"ylim\": [-1.05, 22.05], \"xdomain\": [-1.1500000000000001, 24.15], \"ydomain\": [-1.05, 22.05], \"xscale\": \"linear\", \"yscale\": \"linear\", \"axes\": [{\"position\": \"bottom\", \"nticks\": 7, \"tickvalues\": null, \"tickformat_formatter\": \"\", \"tickformat\": null, \"scale\": \"linear\", \"fontsize\": 10.0, \"grid\": {\"gridOn\": true, \"color\": \"#B0B0B0\", \"dasharray\": \"none\", \"alpha\": 0.3}, \"visible\": true}, {\"position\": \"left\", \"nticks\": 7, \"tickvalues\": null, \"tickformat_formatter\": \"\", \"tickformat\": null, \"scale\": \"linear\", \"fontsize\": 10.0, \"grid\": {\"gridOn\": true, \"color\": \"#B0B0B0\", \"dasharray\": \"none\", \"alpha\": 0.3}, \"visible\": true}], \"axesbg\": \"#FFFFFF\", \"axesbgalpha\": null, \"zoomable\": true, \"id\": \"el707140039575703224\", \"lines\": [{\"data\": \"data01\", \"xindex\": 0, \"yindex\": 9, \"coordinates\": \"data\", \"id\": \"el707140039578347112\", \"color\": \"#FF0000\", \"linewidth\": 1.5, \"dasharray\": \"none\", \"alpha\": 0.3, \"zorder\": 2, \"drawstyle\": \"default\"}, {\"data\": \"data01\", \"xindex\": 0, \"yindex\": 10, \"coordinates\": \"data\", \"id\": \"el707140039624365112\", \"color\": \"#0000FF\", \"linewidth\": 1.5, \"dasharray\": \"none\", \"alpha\": 0.3, \"zorder\": 2, \"drawstyle\": \"default\"}], \"paths\": [], \"markers\": [], \"texts\": [{\"text\": \"2019-09-08\", \"position\": [0.5, 1.0183958793230317], \"coordinates\": \"axes\", \"h_anchor\": \"middle\", \"v_baseline\": \"auto\", \"rotation\": -0.0, \"fontsize\": 12.0, \"color\": \"#000000\", \"alpha\": 1, \"zorder\": 3, \"id\": \"el707140039579822736\"}], \"collections\": [], \"images\": [], \"sharex\": [], \"sharey\": []}], \"data\": {\"data01\": [[0.0, 12.0, 5.0, 8.0, 2.0, 15.0, 7.0, 36.0, 16.0, 15.0, 2.0], [1.0, 7.0, 4.0, 6.0, 3.0, 13.0, 6.0, 20.0, 14.0, 10.0, 1.0], [2.0, 2.0, 2.0, 5.0, 3.0, 13.0, 4.0, 15.0, 12.0, 10.0, 5.0], [3.0, 1.0, 0.0, 2.0, 2.0, 3.0, 0.0, 7.0, 7.0, 6.0, 1.0], [4.0, 0.0, 0.0, 1.0, 0.0, 2.0, 2.0, 9.0, 8.0, 6.0, 3.0], [5.0, 2.0, 2.0, 0.0, 1.0, 0.0, 1.0, 2.0, 4.0, 0.0, 0.0], [6.0, 1.0, 2.0, 0.0, 1.0, 0.0, 0.0, 3.0, 2.0, 0.0, 0.0], [7.0, 0.0, 1.0, 1.0, 0.0, 0.0, 1.0, 0.0, 1.0, 0.0, 0.0], [8.0, 0.0, 1.0, 0.0, 1.0, 0.0, 0.0, 1.0, 2.0, 0.0, 4.0], [9.0, 1.0, 0.0, 0.0, 2.0, 1.0, 1.0, 3.0, 3.0, 1.0, 4.0], [10.0, 1.0, 5.0, 2.0, 9.0, 1.0, 2.0, 3.0, 7.0, 3.0, 4.0], [11.0, 1.0, 11.0, 4.0, 10.0, 0.0, 5.0, 5.0, 11.0, 8.0, 14.0], [12.0, 4.0, 12.0, 3.0, 9.0, 1.0, 0.0, 9.0, 13.0, 5.0, 8.0], [13.0, 6.0, 16.0, 7.0, 8.0, 5.0, 2.0, 12.0, 14.0, 11.0, 14.0], [14.0, 4.0, 5.0, 3.0, 10.0, 4.0, 4.0, 11.0, 15.0, 12.0, 10.0], [15.0, 9.0, 7.0, 11.0, 2.0, 2.0, 4.0, 19.0, 21.0, 5.0, 2.0], [16.0, 15.0, 2.0, 7.0, 5.0, 6.0, 4.0, 16.0, 19.0, 6.0, 10.0], [17.0, 7.0, 10.0, 14.0, 12.0, 9.0, 9.0, 16.0, 9.0, 8.0, 10.0], [18.0, 10.0, 9.0, 10.0, 8.0, 8.0, 6.0, 18.0, 15.0, 21.0, 13.0], [19.0, 4.0, 2.0, 13.0, 7.0, 7.0, 8.0, 7.0, 3.0, 15.0, 6.0], [20.0, 14.0, 2.0, 4.0, 4.0, 3.0, 1.0, 4.0, 4.0, 5.0, 6.0], [21.0, 4.0, 5.0, 4.0, 2.0, 3.0, 2.0, 9.0, 10.0, 5.0, 2.0], [22.0, 3.0, 1.0, 7.0, 0.0, 0.0, 0.0, 3.0, 3.0, 2.0, 1.0], [23.0, 8.0, 6.0, 2.0, 0.0, 0.0, 0.0, 4.0, 3.0, 4.0, 4.0]]}, \"id\": \"el707140039637966920\", \"plugins\": [{\"type\": \"reset\"}, {\"type\": \"zoom\", \"button\": true, \"enabled\": false}, {\"type\": \"boxzoom\", \"button\": true, \"enabled\": false}]});\n",
              "   }(mpld3);\n",
              "}else if(typeof define === \"function\" && define.amd){\n",
              "   // require.js is available: use it to load d3/mpld3\n",
              "   require.config({paths: {d3: \"https://d3js.org/d3.v5\"}});\n",
              "   require([\"d3\"], function(d3){\n",
              "      window.d3 = d3;\n",
              "      mpld3_load_lib(\"https://mpld3.github.io/js/mpld3.v0.5.1.js\", function(){\n",
              "         \n",
              "         mpld3.draw_figure(\"fig_el7071400396379669202580354238\", {\"width\": 2160.0, \"height\": 432.0, \"axes\": [{\"bbox\": [0.125, 0.125, 0.13362068965517243, 0.755], \"xlim\": [-1.1500000000000001, 24.15], \"ylim\": [-0.8, 16.8], \"xdomain\": [-1.1500000000000001, 24.15], \"ydomain\": [-0.8, 16.8], \"xscale\": \"linear\", \"yscale\": \"linear\", \"axes\": [{\"position\": \"bottom\", \"nticks\": 7, \"tickvalues\": null, \"tickformat_formatter\": \"\", \"tickformat\": null, \"scale\": \"linear\", \"fontsize\": 10.0, \"grid\": {\"gridOn\": true, \"color\": \"#B0B0B0\", \"dasharray\": \"none\", \"alpha\": 0.3}, \"visible\": true}, {\"position\": \"left\", \"nticks\": 11, \"tickvalues\": null, \"tickformat_formatter\": \"\", \"tickformat\": null, \"scale\": \"linear\", \"fontsize\": 10.0, \"grid\": {\"gridOn\": true, \"color\": \"#B0B0B0\", \"dasharray\": \"none\", \"alpha\": 0.3}, \"visible\": true}], \"axesbg\": \"#FFFFFF\", \"axesbgalpha\": null, \"zoomable\": true, \"id\": \"el707140039628886872\", \"lines\": [{\"data\": \"data01\", \"xindex\": 0, \"yindex\": 1, \"coordinates\": \"data\", \"id\": \"el707140039578466904\", \"color\": \"#FF0000\", \"linewidth\": 1.5, \"dasharray\": \"none\", \"alpha\": 0.3, \"zorder\": 2, \"drawstyle\": \"default\"}, {\"data\": \"data01\", \"xindex\": 0, \"yindex\": 2, \"coordinates\": \"data\", \"id\": \"el707140039578466120\", \"color\": \"#0000FF\", \"linewidth\": 1.5, \"dasharray\": \"none\", \"alpha\": 0.3, \"zorder\": 2, \"drawstyle\": \"default\"}], \"paths\": [], \"markers\": [], \"texts\": [{\"text\": \"2019-09-29\", \"position\": [0.5, 1.0183958793230317], \"coordinates\": \"axes\", \"h_anchor\": \"middle\", \"v_baseline\": \"auto\", \"rotation\": -0.0, \"fontsize\": 12.0, \"color\": \"#000000\", \"alpha\": 1, \"zorder\": 3, \"id\": \"el707140039629100256\"}], \"collections\": [], \"images\": [], \"sharex\": [], \"sharey\": []}, {\"bbox\": [0.28534482758620694, 0.125, 0.13362068965517238, 0.755], \"xlim\": [-1.1500000000000001, 24.15], \"ylim\": [-0.7000000000000001, 14.7], \"xdomain\": [-1.1500000000000001, 24.15], \"ydomain\": [-0.7000000000000001, 14.7], \"xscale\": \"linear\", \"yscale\": \"linear\", \"axes\": [{\"position\": \"bottom\", \"nticks\": 7, \"tickvalues\": null, \"tickformat_formatter\": \"\", \"tickformat\": null, \"scale\": \"linear\", \"fontsize\": 10.0, \"grid\": {\"gridOn\": true, \"color\": \"#B0B0B0\", \"dasharray\": \"none\", \"alpha\": 0.3}, \"visible\": true}, {\"position\": \"left\", \"nticks\": 10, \"tickvalues\": null, \"tickformat_formatter\": \"\", \"tickformat\": null, \"scale\": \"linear\", \"fontsize\": 10.0, \"grid\": {\"gridOn\": true, \"color\": \"#B0B0B0\", \"dasharray\": \"none\", \"alpha\": 0.3}, \"visible\": true}], \"axesbg\": \"#FFFFFF\", \"axesbgalpha\": null, \"zoomable\": true, \"id\": \"el707140039579716520\", \"lines\": [{\"data\": \"data01\", \"xindex\": 0, \"yindex\": 3, \"coordinates\": \"data\", \"id\": \"el707140039578346944\", \"color\": \"#FF0000\", \"linewidth\": 1.5, \"dasharray\": \"none\", \"alpha\": 0.3, \"zorder\": 2, \"drawstyle\": \"default\"}, {\"data\": \"data01\", \"xindex\": 0, \"yindex\": 4, \"coordinates\": \"data\", \"id\": \"el707140039578345936\", \"color\": \"#0000FF\", \"linewidth\": 1.5, \"dasharray\": \"none\", \"alpha\": 0.3, \"zorder\": 2, \"drawstyle\": \"default\"}], \"paths\": [], \"markers\": [], \"texts\": [{\"text\": \"2019-09-22\", \"position\": [0.5, 1.0183958793230317], \"coordinates\": \"axes\", \"h_anchor\": \"middle\", \"v_baseline\": \"auto\", \"rotation\": -0.0, \"fontsize\": 12.0, \"color\": \"#000000\", \"alpha\": 1, \"zorder\": 3, \"id\": \"el707140039579766568\"}], \"collections\": [], \"images\": [], \"sharex\": [], \"sharey\": []}, {\"bbox\": [0.4456896551724138, 0.125, 0.13362068965517243, 0.755], \"xlim\": [-1.1500000000000001, 24.15], \"ylim\": [-0.75, 15.75], \"xdomain\": [-1.1500000000000001, 24.15], \"ydomain\": [-0.75, 15.75], \"xscale\": \"linear\", \"yscale\": \"linear\", \"axes\": [{\"position\": \"bottom\", \"nticks\": 7, \"tickvalues\": null, \"tickformat_formatter\": \"\", \"tickformat\": null, \"scale\": \"linear\", \"fontsize\": 10.0, \"grid\": {\"gridOn\": true, \"color\": \"#B0B0B0\", \"dasharray\": \"none\", \"alpha\": 0.3}, \"visible\": true}, {\"position\": \"left\", \"nticks\": 10, \"tickvalues\": null, \"tickformat_formatter\": \"\", \"tickformat\": null, \"scale\": \"linear\", \"fontsize\": 10.0, \"grid\": {\"gridOn\": true, \"color\": \"#B0B0B0\", \"dasharray\": \"none\", \"alpha\": 0.3}, \"visible\": true}], \"axesbg\": \"#FFFFFF\", \"axesbgalpha\": null, \"zoomable\": true, \"id\": \"el707140039587959752\", \"lines\": [{\"data\": \"data01\", \"xindex\": 0, \"yindex\": 5, \"coordinates\": \"data\", \"id\": \"el707140039631523568\", \"color\": \"#FF0000\", \"linewidth\": 1.5, \"dasharray\": \"none\", \"alpha\": 0.3, \"zorder\": 2, \"drawstyle\": \"default\"}, {\"data\": \"data01\", \"xindex\": 0, \"yindex\": 6, \"coordinates\": \"data\", \"id\": \"el707140039631523400\", \"color\": \"#0000FF\", \"linewidth\": 1.5, \"dasharray\": \"none\", \"alpha\": 0.3, \"zorder\": 2, \"drawstyle\": \"default\"}], \"paths\": [], \"markers\": [], \"texts\": [{\"text\": \"2019-09-15\", \"position\": [0.5, 1.0183958793230317], \"coordinates\": \"axes\", \"h_anchor\": \"middle\", \"v_baseline\": \"auto\", \"rotation\": -0.0, \"fontsize\": 12.0, \"color\": \"#000000\", \"alpha\": 1, \"zorder\": 3, \"id\": \"el707140039588048848\"}], \"collections\": [], \"images\": [], \"sharex\": [], \"sharey\": []}, {\"bbox\": [0.6060344827586208, 0.125, 0.13362068965517238, 0.755], \"xlim\": [-1.1500000000000001, 24.15], \"ylim\": [-1.8, 37.8], \"xdomain\": [-1.1500000000000001, 24.15], \"ydomain\": [-1.8, 37.8], \"xscale\": \"linear\", \"yscale\": \"linear\", \"axes\": [{\"position\": \"bottom\", \"nticks\": 7, \"tickvalues\": null, \"tickformat_formatter\": \"\", \"tickformat\": null, \"scale\": \"linear\", \"fontsize\": 10.0, \"grid\": {\"gridOn\": true, \"color\": \"#B0B0B0\", \"dasharray\": \"none\", \"alpha\": 0.3}, \"visible\": true}, {\"position\": \"left\", \"nticks\": 10, \"tickvalues\": null, \"tickformat_formatter\": \"\", \"tickformat\": null, \"scale\": \"linear\", \"fontsize\": 10.0, \"grid\": {\"gridOn\": true, \"color\": \"#B0B0B0\", \"dasharray\": \"none\", \"alpha\": 0.3}, \"visible\": true}], \"axesbg\": \"#FFFFFF\", \"axesbgalpha\": null, \"zoomable\": true, \"id\": \"el707140039588165056\", \"lines\": [{\"data\": \"data01\", \"xindex\": 0, \"yindex\": 7, \"coordinates\": \"data\", \"id\": \"el707140039631521048\", \"color\": \"#FF0000\", \"linewidth\": 1.5, \"dasharray\": \"none\", \"alpha\": 0.3, \"zorder\": 2, \"drawstyle\": \"default\"}, {\"data\": \"data01\", \"xindex\": 0, \"yindex\": 8, \"coordinates\": \"data\", \"id\": \"el707140039631520880\", \"color\": \"#0000FF\", \"linewidth\": 1.5, \"dasharray\": \"none\", \"alpha\": 0.3, \"zorder\": 2, \"drawstyle\": \"default\"}], \"paths\": [], \"markers\": [], \"texts\": [{\"text\": \"2019-09-01\", \"position\": [0.5, 1.0183958793230317], \"coordinates\": \"axes\", \"h_anchor\": \"middle\", \"v_baseline\": \"auto\", \"rotation\": -0.0, \"fontsize\": 12.0, \"color\": \"#000000\", \"alpha\": 1, \"zorder\": 3, \"id\": \"el707140039631518856\"}], \"collections\": [], \"images\": [], \"sharex\": [], \"sharey\": []}, {\"bbox\": [0.7663793103448276, 0.125, 0.1336206896551725, 0.755], \"xlim\": [-1.1500000000000001, 24.15], \"ylim\": [-1.05, 22.05], \"xdomain\": [-1.1500000000000001, 24.15], \"ydomain\": [-1.05, 22.05], \"xscale\": \"linear\", \"yscale\": \"linear\", \"axes\": [{\"position\": \"bottom\", \"nticks\": 7, \"tickvalues\": null, \"tickformat_formatter\": \"\", \"tickformat\": null, \"scale\": \"linear\", \"fontsize\": 10.0, \"grid\": {\"gridOn\": true, \"color\": \"#B0B0B0\", \"dasharray\": \"none\", \"alpha\": 0.3}, \"visible\": true}, {\"position\": \"left\", \"nticks\": 7, \"tickvalues\": null, \"tickformat_formatter\": \"\", \"tickformat\": null, \"scale\": \"linear\", \"fontsize\": 10.0, \"grid\": {\"gridOn\": true, \"color\": \"#B0B0B0\", \"dasharray\": \"none\", \"alpha\": 0.3}, \"visible\": true}], \"axesbg\": \"#FFFFFF\", \"axesbgalpha\": null, \"zoomable\": true, \"id\": \"el707140039575703224\", \"lines\": [{\"data\": \"data01\", \"xindex\": 0, \"yindex\": 9, \"coordinates\": \"data\", \"id\": \"el707140039578347112\", \"color\": \"#FF0000\", \"linewidth\": 1.5, \"dasharray\": \"none\", \"alpha\": 0.3, \"zorder\": 2, \"drawstyle\": \"default\"}, {\"data\": \"data01\", \"xindex\": 0, \"yindex\": 10, \"coordinates\": \"data\", \"id\": \"el707140039624365112\", \"color\": \"#0000FF\", \"linewidth\": 1.5, \"dasharray\": \"none\", \"alpha\": 0.3, \"zorder\": 2, \"drawstyle\": \"default\"}], \"paths\": [], \"markers\": [], \"texts\": [{\"text\": \"2019-09-08\", \"position\": [0.5, 1.0183958793230317], \"coordinates\": \"axes\", \"h_anchor\": \"middle\", \"v_baseline\": \"auto\", \"rotation\": -0.0, \"fontsize\": 12.0, \"color\": \"#000000\", \"alpha\": 1, \"zorder\": 3, \"id\": \"el707140039579822736\"}], \"collections\": [], \"images\": [], \"sharex\": [], \"sharey\": []}], \"data\": {\"data01\": [[0.0, 12.0, 5.0, 8.0, 2.0, 15.0, 7.0, 36.0, 16.0, 15.0, 2.0], [1.0, 7.0, 4.0, 6.0, 3.0, 13.0, 6.0, 20.0, 14.0, 10.0, 1.0], [2.0, 2.0, 2.0, 5.0, 3.0, 13.0, 4.0, 15.0, 12.0, 10.0, 5.0], [3.0, 1.0, 0.0, 2.0, 2.0, 3.0, 0.0, 7.0, 7.0, 6.0, 1.0], [4.0, 0.0, 0.0, 1.0, 0.0, 2.0, 2.0, 9.0, 8.0, 6.0, 3.0], [5.0, 2.0, 2.0, 0.0, 1.0, 0.0, 1.0, 2.0, 4.0, 0.0, 0.0], [6.0, 1.0, 2.0, 0.0, 1.0, 0.0, 0.0, 3.0, 2.0, 0.0, 0.0], [7.0, 0.0, 1.0, 1.0, 0.0, 0.0, 1.0, 0.0, 1.0, 0.0, 0.0], [8.0, 0.0, 1.0, 0.0, 1.0, 0.0, 0.0, 1.0, 2.0, 0.0, 4.0], [9.0, 1.0, 0.0, 0.0, 2.0, 1.0, 1.0, 3.0, 3.0, 1.0, 4.0], [10.0, 1.0, 5.0, 2.0, 9.0, 1.0, 2.0, 3.0, 7.0, 3.0, 4.0], [11.0, 1.0, 11.0, 4.0, 10.0, 0.0, 5.0, 5.0, 11.0, 8.0, 14.0], [12.0, 4.0, 12.0, 3.0, 9.0, 1.0, 0.0, 9.0, 13.0, 5.0, 8.0], [13.0, 6.0, 16.0, 7.0, 8.0, 5.0, 2.0, 12.0, 14.0, 11.0, 14.0], [14.0, 4.0, 5.0, 3.0, 10.0, 4.0, 4.0, 11.0, 15.0, 12.0, 10.0], [15.0, 9.0, 7.0, 11.0, 2.0, 2.0, 4.0, 19.0, 21.0, 5.0, 2.0], [16.0, 15.0, 2.0, 7.0, 5.0, 6.0, 4.0, 16.0, 19.0, 6.0, 10.0], [17.0, 7.0, 10.0, 14.0, 12.0, 9.0, 9.0, 16.0, 9.0, 8.0, 10.0], [18.0, 10.0, 9.0, 10.0, 8.0, 8.0, 6.0, 18.0, 15.0, 21.0, 13.0], [19.0, 4.0, 2.0, 13.0, 7.0, 7.0, 8.0, 7.0, 3.0, 15.0, 6.0], [20.0, 14.0, 2.0, 4.0, 4.0, 3.0, 1.0, 4.0, 4.0, 5.0, 6.0], [21.0, 4.0, 5.0, 4.0, 2.0, 3.0, 2.0, 9.0, 10.0, 5.0, 2.0], [22.0, 3.0, 1.0, 7.0, 0.0, 0.0, 0.0, 3.0, 3.0, 2.0, 1.0], [23.0, 8.0, 6.0, 2.0, 0.0, 0.0, 0.0, 4.0, 3.0, 4.0, 4.0]]}, \"id\": \"el707140039637966920\", \"plugins\": [{\"type\": \"reset\"}, {\"type\": \"zoom\", \"button\": true, \"enabled\": false}, {\"type\": \"boxzoom\", \"button\": true, \"enabled\": false}]});\n",
              "      });\n",
              "    });\n",
              "}else{\n",
              "    // require.js not available: dynamically load d3 & mpld3\n",
              "    mpld3_load_lib(\"https://d3js.org/d3.v5.js\", function(){\n",
              "         mpld3_load_lib(\"https://mpld3.github.io/js/mpld3.v0.5.1.js\", function(){\n",
              "                 \n",
              "                 mpld3.draw_figure(\"fig_el7071400396379669202580354238\", {\"width\": 2160.0, \"height\": 432.0, \"axes\": [{\"bbox\": [0.125, 0.125, 0.13362068965517243, 0.755], \"xlim\": [-1.1500000000000001, 24.15], \"ylim\": [-0.8, 16.8], \"xdomain\": [-1.1500000000000001, 24.15], \"ydomain\": [-0.8, 16.8], \"xscale\": \"linear\", \"yscale\": \"linear\", \"axes\": [{\"position\": \"bottom\", \"nticks\": 7, \"tickvalues\": null, \"tickformat_formatter\": \"\", \"tickformat\": null, \"scale\": \"linear\", \"fontsize\": 10.0, \"grid\": {\"gridOn\": true, \"color\": \"#B0B0B0\", \"dasharray\": \"none\", \"alpha\": 0.3}, \"visible\": true}, {\"position\": \"left\", \"nticks\": 11, \"tickvalues\": null, \"tickformat_formatter\": \"\", \"tickformat\": null, \"scale\": \"linear\", \"fontsize\": 10.0, \"grid\": {\"gridOn\": true, \"color\": \"#B0B0B0\", \"dasharray\": \"none\", \"alpha\": 0.3}, \"visible\": true}], \"axesbg\": \"#FFFFFF\", \"axesbgalpha\": null, \"zoomable\": true, \"id\": \"el707140039628886872\", \"lines\": [{\"data\": \"data01\", \"xindex\": 0, \"yindex\": 1, \"coordinates\": \"data\", \"id\": \"el707140039578466904\", \"color\": \"#FF0000\", \"linewidth\": 1.5, \"dasharray\": \"none\", \"alpha\": 0.3, \"zorder\": 2, \"drawstyle\": \"default\"}, {\"data\": \"data01\", \"xindex\": 0, \"yindex\": 2, \"coordinates\": \"data\", \"id\": \"el707140039578466120\", \"color\": \"#0000FF\", \"linewidth\": 1.5, \"dasharray\": \"none\", \"alpha\": 0.3, \"zorder\": 2, \"drawstyle\": \"default\"}], \"paths\": [], \"markers\": [], \"texts\": [{\"text\": \"2019-09-29\", \"position\": [0.5, 1.0183958793230317], \"coordinates\": \"axes\", \"h_anchor\": \"middle\", \"v_baseline\": \"auto\", \"rotation\": -0.0, \"fontsize\": 12.0, \"color\": \"#000000\", \"alpha\": 1, \"zorder\": 3, \"id\": \"el707140039629100256\"}], \"collections\": [], \"images\": [], \"sharex\": [], \"sharey\": []}, {\"bbox\": [0.28534482758620694, 0.125, 0.13362068965517238, 0.755], \"xlim\": [-1.1500000000000001, 24.15], \"ylim\": [-0.7000000000000001, 14.7], \"xdomain\": [-1.1500000000000001, 24.15], \"ydomain\": [-0.7000000000000001, 14.7], \"xscale\": \"linear\", \"yscale\": \"linear\", \"axes\": [{\"position\": \"bottom\", \"nticks\": 7, \"tickvalues\": null, \"tickformat_formatter\": \"\", \"tickformat\": null, \"scale\": \"linear\", \"fontsize\": 10.0, \"grid\": {\"gridOn\": true, \"color\": \"#B0B0B0\", \"dasharray\": \"none\", \"alpha\": 0.3}, \"visible\": true}, {\"position\": \"left\", \"nticks\": 10, \"tickvalues\": null, \"tickformat_formatter\": \"\", \"tickformat\": null, \"scale\": \"linear\", \"fontsize\": 10.0, \"grid\": {\"gridOn\": true, \"color\": \"#B0B0B0\", \"dasharray\": \"none\", \"alpha\": 0.3}, \"visible\": true}], \"axesbg\": \"#FFFFFF\", \"axesbgalpha\": null, \"zoomable\": true, \"id\": \"el707140039579716520\", \"lines\": [{\"data\": \"data01\", \"xindex\": 0, \"yindex\": 3, \"coordinates\": \"data\", \"id\": \"el707140039578346944\", \"color\": \"#FF0000\", \"linewidth\": 1.5, \"dasharray\": \"none\", \"alpha\": 0.3, \"zorder\": 2, \"drawstyle\": \"default\"}, {\"data\": \"data01\", \"xindex\": 0, \"yindex\": 4, \"coordinates\": \"data\", \"id\": \"el707140039578345936\", \"color\": \"#0000FF\", \"linewidth\": 1.5, \"dasharray\": \"none\", \"alpha\": 0.3, \"zorder\": 2, \"drawstyle\": \"default\"}], \"paths\": [], \"markers\": [], \"texts\": [{\"text\": \"2019-09-22\", \"position\": [0.5, 1.0183958793230317], \"coordinates\": \"axes\", \"h_anchor\": \"middle\", \"v_baseline\": \"auto\", \"rotation\": -0.0, \"fontsize\": 12.0, \"color\": \"#000000\", \"alpha\": 1, \"zorder\": 3, \"id\": \"el707140039579766568\"}], \"collections\": [], \"images\": [], \"sharex\": [], \"sharey\": []}, {\"bbox\": [0.4456896551724138, 0.125, 0.13362068965517243, 0.755], \"xlim\": [-1.1500000000000001, 24.15], \"ylim\": [-0.75, 15.75], \"xdomain\": [-1.1500000000000001, 24.15], \"ydomain\": [-0.75, 15.75], \"xscale\": \"linear\", \"yscale\": \"linear\", \"axes\": [{\"position\": \"bottom\", \"nticks\": 7, \"tickvalues\": null, \"tickformat_formatter\": \"\", \"tickformat\": null, \"scale\": \"linear\", \"fontsize\": 10.0, \"grid\": {\"gridOn\": true, \"color\": \"#B0B0B0\", \"dasharray\": \"none\", \"alpha\": 0.3}, \"visible\": true}, {\"position\": \"left\", \"nticks\": 10, \"tickvalues\": null, \"tickformat_formatter\": \"\", \"tickformat\": null, \"scale\": \"linear\", \"fontsize\": 10.0, \"grid\": {\"gridOn\": true, \"color\": \"#B0B0B0\", \"dasharray\": \"none\", \"alpha\": 0.3}, \"visible\": true}], \"axesbg\": \"#FFFFFF\", \"axesbgalpha\": null, \"zoomable\": true, \"id\": \"el707140039587959752\", \"lines\": [{\"data\": \"data01\", \"xindex\": 0, \"yindex\": 5, \"coordinates\": \"data\", \"id\": \"el707140039631523568\", \"color\": \"#FF0000\", \"linewidth\": 1.5, \"dasharray\": \"none\", \"alpha\": 0.3, \"zorder\": 2, \"drawstyle\": \"default\"}, {\"data\": \"data01\", \"xindex\": 0, \"yindex\": 6, \"coordinates\": \"data\", \"id\": \"el707140039631523400\", \"color\": \"#0000FF\", \"linewidth\": 1.5, \"dasharray\": \"none\", \"alpha\": 0.3, \"zorder\": 2, \"drawstyle\": \"default\"}], \"paths\": [], \"markers\": [], \"texts\": [{\"text\": \"2019-09-15\", \"position\": [0.5, 1.0183958793230317], \"coordinates\": \"axes\", \"h_anchor\": \"middle\", \"v_baseline\": \"auto\", \"rotation\": -0.0, \"fontsize\": 12.0, \"color\": \"#000000\", \"alpha\": 1, \"zorder\": 3, \"id\": \"el707140039588048848\"}], \"collections\": [], \"images\": [], \"sharex\": [], \"sharey\": []}, {\"bbox\": [0.6060344827586208, 0.125, 0.13362068965517238, 0.755], \"xlim\": [-1.1500000000000001, 24.15], \"ylim\": [-1.8, 37.8], \"xdomain\": [-1.1500000000000001, 24.15], \"ydomain\": [-1.8, 37.8], \"xscale\": \"linear\", \"yscale\": \"linear\", \"axes\": [{\"position\": \"bottom\", \"nticks\": 7, \"tickvalues\": null, \"tickformat_formatter\": \"\", \"tickformat\": null, \"scale\": \"linear\", \"fontsize\": 10.0, \"grid\": {\"gridOn\": true, \"color\": \"#B0B0B0\", \"dasharray\": \"none\", \"alpha\": 0.3}, \"visible\": true}, {\"position\": \"left\", \"nticks\": 10, \"tickvalues\": null, \"tickformat_formatter\": \"\", \"tickformat\": null, \"scale\": \"linear\", \"fontsize\": 10.0, \"grid\": {\"gridOn\": true, \"color\": \"#B0B0B0\", \"dasharray\": \"none\", \"alpha\": 0.3}, \"visible\": true}], \"axesbg\": \"#FFFFFF\", \"axesbgalpha\": null, \"zoomable\": true, \"id\": \"el707140039588165056\", \"lines\": [{\"data\": \"data01\", \"xindex\": 0, \"yindex\": 7, \"coordinates\": \"data\", \"id\": \"el707140039631521048\", \"color\": \"#FF0000\", \"linewidth\": 1.5, \"dasharray\": \"none\", \"alpha\": 0.3, \"zorder\": 2, \"drawstyle\": \"default\"}, {\"data\": \"data01\", \"xindex\": 0, \"yindex\": 8, \"coordinates\": \"data\", \"id\": \"el707140039631520880\", \"color\": \"#0000FF\", \"linewidth\": 1.5, \"dasharray\": \"none\", \"alpha\": 0.3, \"zorder\": 2, \"drawstyle\": \"default\"}], \"paths\": [], \"markers\": [], \"texts\": [{\"text\": \"2019-09-01\", \"position\": [0.5, 1.0183958793230317], \"coordinates\": \"axes\", \"h_anchor\": \"middle\", \"v_baseline\": \"auto\", \"rotation\": -0.0, \"fontsize\": 12.0, \"color\": \"#000000\", \"alpha\": 1, \"zorder\": 3, \"id\": \"el707140039631518856\"}], \"collections\": [], \"images\": [], \"sharex\": [], \"sharey\": []}, {\"bbox\": [0.7663793103448276, 0.125, 0.1336206896551725, 0.755], \"xlim\": [-1.1500000000000001, 24.15], \"ylim\": [-1.05, 22.05], \"xdomain\": [-1.1500000000000001, 24.15], \"ydomain\": [-1.05, 22.05], \"xscale\": \"linear\", \"yscale\": \"linear\", \"axes\": [{\"position\": \"bottom\", \"nticks\": 7, \"tickvalues\": null, \"tickformat_formatter\": \"\", \"tickformat\": null, \"scale\": \"linear\", \"fontsize\": 10.0, \"grid\": {\"gridOn\": true, \"color\": \"#B0B0B0\", \"dasharray\": \"none\", \"alpha\": 0.3}, \"visible\": true}, {\"position\": \"left\", \"nticks\": 7, \"tickvalues\": null, \"tickformat_formatter\": \"\", \"tickformat\": null, \"scale\": \"linear\", \"fontsize\": 10.0, \"grid\": {\"gridOn\": true, \"color\": \"#B0B0B0\", \"dasharray\": \"none\", \"alpha\": 0.3}, \"visible\": true}], \"axesbg\": \"#FFFFFF\", \"axesbgalpha\": null, \"zoomable\": true, \"id\": \"el707140039575703224\", \"lines\": [{\"data\": \"data01\", \"xindex\": 0, \"yindex\": 9, \"coordinates\": \"data\", \"id\": \"el707140039578347112\", \"color\": \"#FF0000\", \"linewidth\": 1.5, \"dasharray\": \"none\", \"alpha\": 0.3, \"zorder\": 2, \"drawstyle\": \"default\"}, {\"data\": \"data01\", \"xindex\": 0, \"yindex\": 10, \"coordinates\": \"data\", \"id\": \"el707140039624365112\", \"color\": \"#0000FF\", \"linewidth\": 1.5, \"dasharray\": \"none\", \"alpha\": 0.3, \"zorder\": 2, \"drawstyle\": \"default\"}], \"paths\": [], \"markers\": [], \"texts\": [{\"text\": \"2019-09-08\", \"position\": [0.5, 1.0183958793230317], \"coordinates\": \"axes\", \"h_anchor\": \"middle\", \"v_baseline\": \"auto\", \"rotation\": -0.0, \"fontsize\": 12.0, \"color\": \"#000000\", \"alpha\": 1, \"zorder\": 3, \"id\": \"el707140039579822736\"}], \"collections\": [], \"images\": [], \"sharex\": [], \"sharey\": []}], \"data\": {\"data01\": [[0.0, 12.0, 5.0, 8.0, 2.0, 15.0, 7.0, 36.0, 16.0, 15.0, 2.0], [1.0, 7.0, 4.0, 6.0, 3.0, 13.0, 6.0, 20.0, 14.0, 10.0, 1.0], [2.0, 2.0, 2.0, 5.0, 3.0, 13.0, 4.0, 15.0, 12.0, 10.0, 5.0], [3.0, 1.0, 0.0, 2.0, 2.0, 3.0, 0.0, 7.0, 7.0, 6.0, 1.0], [4.0, 0.0, 0.0, 1.0, 0.0, 2.0, 2.0, 9.0, 8.0, 6.0, 3.0], [5.0, 2.0, 2.0, 0.0, 1.0, 0.0, 1.0, 2.0, 4.0, 0.0, 0.0], [6.0, 1.0, 2.0, 0.0, 1.0, 0.0, 0.0, 3.0, 2.0, 0.0, 0.0], [7.0, 0.0, 1.0, 1.0, 0.0, 0.0, 1.0, 0.0, 1.0, 0.0, 0.0], [8.0, 0.0, 1.0, 0.0, 1.0, 0.0, 0.0, 1.0, 2.0, 0.0, 4.0], [9.0, 1.0, 0.0, 0.0, 2.0, 1.0, 1.0, 3.0, 3.0, 1.0, 4.0], [10.0, 1.0, 5.0, 2.0, 9.0, 1.0, 2.0, 3.0, 7.0, 3.0, 4.0], [11.0, 1.0, 11.0, 4.0, 10.0, 0.0, 5.0, 5.0, 11.0, 8.0, 14.0], [12.0, 4.0, 12.0, 3.0, 9.0, 1.0, 0.0, 9.0, 13.0, 5.0, 8.0], [13.0, 6.0, 16.0, 7.0, 8.0, 5.0, 2.0, 12.0, 14.0, 11.0, 14.0], [14.0, 4.0, 5.0, 3.0, 10.0, 4.0, 4.0, 11.0, 15.0, 12.0, 10.0], [15.0, 9.0, 7.0, 11.0, 2.0, 2.0, 4.0, 19.0, 21.0, 5.0, 2.0], [16.0, 15.0, 2.0, 7.0, 5.0, 6.0, 4.0, 16.0, 19.0, 6.0, 10.0], [17.0, 7.0, 10.0, 14.0, 12.0, 9.0, 9.0, 16.0, 9.0, 8.0, 10.0], [18.0, 10.0, 9.0, 10.0, 8.0, 8.0, 6.0, 18.0, 15.0, 21.0, 13.0], [19.0, 4.0, 2.0, 13.0, 7.0, 7.0, 8.0, 7.0, 3.0, 15.0, 6.0], [20.0, 14.0, 2.0, 4.0, 4.0, 3.0, 1.0, 4.0, 4.0, 5.0, 6.0], [21.0, 4.0, 5.0, 4.0, 2.0, 3.0, 2.0, 9.0, 10.0, 5.0, 2.0], [22.0, 3.0, 1.0, 7.0, 0.0, 0.0, 0.0, 3.0, 3.0, 2.0, 1.0], [23.0, 8.0, 6.0, 2.0, 0.0, 0.0, 0.0, 4.0, 3.0, 4.0, 4.0]]}, \"id\": \"el707140039637966920\", \"plugins\": [{\"type\": \"reset\"}, {\"type\": \"zoom\", \"button\": true, \"enabled\": false}, {\"type\": \"boxzoom\", \"button\": true, \"enabled\": false}]});\n",
              "            })\n",
              "         });\n",
              "}\n",
              "</script>"
            ],
            "text/plain": [
              "<IPython.core.display.HTML object>"
            ]
          },
          "metadata": {
            "tags": []
          },
          "execution_count": 19
        }
      ]
    }
  ]
}