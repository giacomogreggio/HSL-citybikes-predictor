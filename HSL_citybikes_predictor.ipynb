{
  "nbformat": 4,
  "nbformat_minor": 0,
  "metadata": {
    "colab": {
      "name": "HSL_citybikes_predictor.ipynb",
      "provenance": [],
      "collapsed_sections": [],
      "toc_visible": true,
      "include_colab_link": true
    },
    "kernelspec": {
      "name": "python3",
      "display_name": "Python 3"
    }
  },
  "cells": [
    {
      "cell_type": "markdown",
      "metadata": {
        "id": "view-in-github",
        "colab_type": "text"
      },
      "source": [
        "<a href=\"https://colab.research.google.com/github/giacomogreggio/HSL-citybikes-predictor/blob/master/HSL_citybikes_predictor.ipynb\" target=\"_parent\"><img src=\"https://colab.research.google.com/assets/colab-badge.svg\" alt=\"Open In Colab\"/></a>"
      ]
    },
    {
      "cell_type": "markdown",
      "metadata": {
        "id": "WBjSSe0X0TE6",
        "colab_type": "text"
      },
      "source": [
        "## Citybike predictor\n",
        "\n",
        "### Elevator pitch\n",
        "Scheduling your day is important for everyone, but every day we have to face problems related to planning your itinerary. When you want to use a citybike to move from a place to another you may find yourself at an empty bike station. Could there be a way to predict the availability? A solution: an application that predicts exactly that based on the time and the weather.\n",
        "\n",
        "\n",
        "### Data: sources, wrangling, management\t\t\n",
        "- The original purpose of the data is not compatible with our needs: the data is meant to describe bike trips/routing, not the bike availability\n",
        "- \n",
        "            \n",
        "### Data analysis: statistics, machine learning\t\n",
        "- We need a predicting model\n",
        "- Predictions for time series: a lot of different variables\n",
        "- Combining different data sources to base the prediction to current situation: weather, time of the day, current bike availability    \n",
        "\n",
        "\n",
        "### Communication of results: summarization & visualization\n",
        "- Finding clear and intuitive way to summarize and visualize data such that it is accessible to the user\n",
        "- \n",
        "            \n",
        "### Operationalization: creating added value, end-user point of view\n",
        "- Mobile optimated web application"
      ]
    },
    {
      "cell_type": "markdown",
      "metadata": {
        "id": "4-NNZ_hDaUwh",
        "colab_type": "text"
      },
      "source": [
        "## Preprocessing the HSL-data"
      ]
    },
    {
      "cell_type": "markdown",
      "metadata": {
        "id": "d1K5-T3ygWKF",
        "colab_type": "text"
      },
      "source": [
        "### Initializing everything"
      ]
    },
    {
      "cell_type": "code",
      "metadata": {
        "id": "johv7o6KOQVG",
        "colab_type": "code",
        "colab": {
          "base_uri": "https://localhost:8080/",
          "height": 366
        },
        "outputId": "f9995641-5d14-4e4e-a5d4-15432471a3c5"
      },
      "source": [
        "!pip install mpld3"
      ],
      "execution_count": 2,
      "outputs": [
        {
          "output_type": "stream",
          "text": [
            "Collecting mpld3\n",
            "\u001b[?25l  Downloading https://files.pythonhosted.org/packages/66/31/89bd2afd21b920e3612996623e7b3aac14d741537aa77600ea5102a34be0/mpld3-0.5.1.tar.gz (1.0MB)\n",
            "\u001b[K     |████████████████████████████████| 1.0MB 2.5MB/s \n",
            "\u001b[?25hRequirement already satisfied: jinja2 in /usr/local/lib/python3.6/dist-packages (from mpld3) (2.11.2)\n",
            "Requirement already satisfied: matplotlib in /usr/local/lib/python3.6/dist-packages (from mpld3) (3.2.2)\n",
            "Requirement already satisfied: MarkupSafe>=0.23 in /usr/local/lib/python3.6/dist-packages (from jinja2->mpld3) (1.1.1)\n",
            "Requirement already satisfied: python-dateutil>=2.1 in /usr/local/lib/python3.6/dist-packages (from matplotlib->mpld3) (2.8.1)\n",
            "Requirement already satisfied: numpy>=1.11 in /usr/local/lib/python3.6/dist-packages (from matplotlib->mpld3) (1.18.5)\n",
            "Requirement already satisfied: kiwisolver>=1.0.1 in /usr/local/lib/python3.6/dist-packages (from matplotlib->mpld3) (1.2.0)\n",
            "Requirement already satisfied: pyparsing!=2.0.4,!=2.1.2,!=2.1.6,>=2.0.1 in /usr/local/lib/python3.6/dist-packages (from matplotlib->mpld3) (2.4.7)\n",
            "Requirement already satisfied: cycler>=0.10 in /usr/local/lib/python3.6/dist-packages (from matplotlib->mpld3) (0.10.0)\n",
            "Requirement already satisfied: six>=1.5 in /usr/local/lib/python3.6/dist-packages (from python-dateutil>=2.1->matplotlib->mpld3) (1.15.0)\n",
            "Building wheels for collected packages: mpld3\n",
            "  Building wheel for mpld3 (setup.py) ... \u001b[?25l\u001b[?25hdone\n",
            "  Created wheel for mpld3: filename=mpld3-0.5.1-cp36-none-any.whl size=364064 sha256=0185ac3bd483c6b5facaec1ea8ad36494eb7017053645de0f6bcae430b59e6dd\n",
            "  Stored in directory: /root/.cache/pip/wheels/38/68/06/d119af6c3f9a2d1e123c1f72d276576b457131b3a7bf94e402\n",
            "Successfully built mpld3\n",
            "Installing collected packages: mpld3\n",
            "Successfully installed mpld3-0.5.1\n"
          ],
          "name": "stdout"
        }
      ]
    },
    {
      "cell_type": "code",
      "metadata": {
        "id": "cWqTY9JXPUZE",
        "colab_type": "code",
        "colab": {}
      },
      "source": [
        "# All imports\n",
        "\n",
        "import pandas as pd\n",
        "import matplotlib.pyplot as plt\n",
        "from google.colab import drive\n",
        "from datetime import datetime\n",
        "import mpld3\n",
        "from mpld3 import plugins\n",
        "mpld3.enable_notebook()"
      ],
      "execution_count": 1,
      "outputs": []
    },
    {
      "cell_type": "code",
      "metadata": {
        "id": "fXb_EGwVFqpg",
        "colab_type": "code",
        "colab": {
          "base_uri": "https://localhost:8080/",
          "height": 35
        },
        "outputId": "0fcc6dc5-98dc-4c66-b894-ff22b88fb2f7"
      },
      "source": [
        "drive.mount('/content/drive')\n"
      ],
      "execution_count": 4,
      "outputs": [
        {
          "output_type": "stream",
          "text": [
            "Mounted at /content/drive\n"
          ],
          "name": "stdout"
        }
      ]
    },
    {
      "cell_type": "markdown",
      "metadata": {
        "id": "CyS9UkKaNlX-",
        "colab_type": "text"
      },
      "source": [
        "### The function that processes the data for a month"
      ]
    },
    {
      "cell_type": "code",
      "metadata": {
        "id": "YF9mpSfOjdfW",
        "colab_type": "code",
        "colab": {}
      },
      "source": [
        "def get_station_data():\n",
        "  stations = pd.read_csv(\"/content/drive/My Drive/HSLDataset/Helsingin_ja_Espoon_kaupunkipyöräasemat.csv\")\n",
        "  stations = stations.drop([\"FID\", \"Nimi\", \"Namn\", \"Adress\", \"Kaupunki\", \"Stad\", \"Operaattor\"], axis = 1)\n",
        "  return stations"
      ],
      "execution_count": 2,
      "outputs": []
    },
    {
      "cell_type": "code",
      "metadata": {
        "id": "Gl-W9W0PginX",
        "colab_type": "code",
        "colab": {}
      },
      "source": [
        "def preprocess_month(filepath):\n",
        "  data = pd.read_csv(filepath, sep = \",\")\n",
        "\n",
        "  # Make time a datetime object to ease handling. Also floor to starting hour\n",
        "  data[\"Dep date\"] = pd.to_datetime(data[\"Departure\"], errors = \"ignore\").dt.floor(freq = \"H\")\n",
        "  data[\"Return date\"] = pd.to_datetime(data[\"Return\"], errors = \"ignore\").dt.floor(freq = \"H\")\n",
        "\n",
        "  # For our analysis we shouldn't need this information\n",
        "  data = data.drop(columns=[\"Covered distance (m)\", \"Duration (sec.)\", \"Departure\", \"Return\"])\n",
        "\n",
        "  # Get the outgoing bikes per station at timeframe\n",
        "  outgoing = data.groupby(\"Departure station id\")[\"Dep date\"].value_counts()\n",
        "  outgoing = outgoing.sort_index()\n",
        "  outgoing = outgoing.rename_axis(index = {\"Dep date\" : \"Date\", \"Departure station id\" : \"ID\"})\n",
        "  outgoing = outgoing.rename(\"Outgoing\")\n",
        "\n",
        "  # Get the arriving bikes per station at timeframe\n",
        "  arriving = data.groupby(\"Return station id\")[\"Return date\"].value_counts()\n",
        "  arriving = arriving.sort_index()\n",
        "  arriving = arriving.rename_axis(index = {\"Return date\" : \"Date\", \"Return station id\" : \"ID\"})\n",
        "  arriving = arriving.rename(\"Arriving\")\n",
        "\n",
        "  outgoing_arriving_merge = pd.merge(outgoing, arriving, on = [\"ID\", \"Date\"], how = \"outer\")\n",
        "  outgoing_arriving_merge = outgoing_arriving_merge.fillna(0)\n",
        "\n",
        "  # We need data for ALL timeframes\n",
        "  stations = set(outgoing_arriving_merge.index.get_level_values(0))\n",
        "  all_dates = pd.date_range(\"2019-04-01 00:00\", \"2019-04-30 23:00\", freq = \"H\")\n",
        "  idx = pd.MultiIndex.from_product([stations, all_dates], names = [\"ID\", \"Date\"])\n",
        "  mega_frame_with_station_date_cartesian_product = pd.DataFrame(index = idx)\n",
        "  processed = pd.merge(mega_frame_with_station_date_cartesian_product, outgoing_arriving_merge, on = [\"ID\", \"Date\"], how = \"left\")\n",
        "  processed = processed.fillna(0)\n",
        "  processed = processed.reset_index()\n",
        "\n",
        "  # Merge with the station data from HSL\n",
        "  station_data = get_station_data()\n",
        "  processed_with_station_data = pd.merge(processed, station_data, on = \"ID\", how = \"inner\")\n",
        "\n",
        "  return processed_with_station_data"
      ],
      "execution_count": 12,
      "outputs": []
    },
    {
      "cell_type": "code",
      "metadata": {
        "id": "JcDGv5K9f02p",
        "colab_type": "code",
        "colab": {}
      },
      "source": [
        "def get_processed_data_for_month(month):\n",
        "  month = '{:02.0f}'.format(month)\n",
        "  data = pd.read_csv(\"/content/drive/My Drive/HSLDataset/processed/2019-\" + month + \"-processed.csv\")\n",
        "  data[\"Date\"] = pd.to_datetime(data[\"Date\"])\n",
        "  \n",
        "  # Don't know what this is all about but I guess everything is fine-ish :DDD\n",
        "  data = data.drop(\"Unnamed: 0\", axis = 1)\n",
        "  return data"
      ],
      "execution_count": 20,
      "outputs": []
    },
    {
      "cell_type": "code",
      "metadata": {
        "id": "WdXseBI7hTGS",
        "colab_type": "code",
        "colab": {}
      },
      "source": [
        "# Process all the data and save them as csv-files\n",
        "path = \"/content/drive/My Drive/HSLDataset/od-trips-2019/\"\n",
        "extension = \".csv\"\n",
        "\n",
        "for month in range(4,11):\n",
        "  filename = \"2019-\" + '{:02.0f}'.format(month)\n",
        "  full_path = path + filename + extension\n",
        "  data = preprocess_month(full_path)\n",
        "  data.to_csv(\"./drive/My Drive/HSLDataset/processed/\" + filename + \"-processed.csv\")"
      ],
      "execution_count": 13,
      "outputs": []
    },
    {
      "cell_type": "markdown",
      "metadata": {
        "id": "aThMDl9mPGz0",
        "colab_type": "text"
      },
      "source": [
        "## Looking at the data"
      ]
    },
    {
      "cell_type": "code",
      "metadata": {
        "id": "vBzFIEfuRFdw",
        "colab_type": "code",
        "colab": {}
      },
      "source": [
        "def data_of_station_for_weekdays_in_month(dataframe, station, month, weekday):\n",
        "  station_data = dataframe[dataframe[\"ID\"] == station]\n",
        "  station_data_for_month = station_data[(station_data[\"Date\"].dt.month == month) & (station_data[\"Date\"].dt.weekday == weekday)]\n",
        "  return station_data_for_month"
      ],
      "execution_count": 10,
      "outputs": []
    },
    {
      "cell_type": "code",
      "metadata": {
        "id": "Qqrreg17kuC0",
        "colab_type": "code",
        "colab": {}
      },
      "source": [
        "data = get_processed_data_for_month(4)"
      ],
      "execution_count": 18,
      "outputs": []
    },
    {
      "cell_type": "markdown",
      "metadata": {
        "id": "fmVwe_yjh2GI",
        "colab_type": "text"
      },
      "source": [
        "## Different data visualizations"
      ]
    },
    {
      "cell_type": "code",
      "metadata": {
        "id": "09TH09GGQVds",
        "colab_type": "code",
        "colab": {
          "base_uri": "https://localhost:8080/",
          "height": 471
        },
        "outputId": "25bd0b0c-9e7e-4ce6-d2d9-b0386574bef7"
      },
      "source": [
        "wanted_data = data_of_station_for_weekdays_in_month(data, 20, 4, 5)\n",
        "fig, axs = plt.subplots(1, 4, figsize = (30,6))\n",
        "saturdays = set(wanted_data[\"Date\"].dt.date)\n",
        "\n",
        "for idx,saturday in enumerate(saturdays):\n",
        "  saturday_data = wanted_data[wanted_data[\"Date\"].dt.date == saturday]\n",
        "  axs[idx].grid(True, alpha = 0.3)\n",
        "  axs[idx].plot(saturday_data[\"Date\"].dt.hour, saturday_data[\"Outgoing\"], 'r', saturday_data[\"Date\"].dt.hour, saturday_data[\"Arriving\"], 'b', alpha = 0.3)\n",
        "  axs[idx].title.set_text(saturday)\n",
        "mpld3.display()"
      ],
      "execution_count": 13,
      "outputs": [
        {
          "output_type": "execute_result",
          "data": {
            "text/html": [
              "\n",
              "\n",
              "<style>\n",
              "\n",
              "</style>\n",
              "\n",
              "<div id=\"fig_el105140179127356216526477041\"></div>\n",
              "<script>\n",
              "function mpld3_load_lib(url, callback){\n",
              "  var s = document.createElement('script');\n",
              "  s.src = url;\n",
              "  s.async = true;\n",
              "  s.onreadystatechange = s.onload = callback;\n",
              "  s.onerror = function(){console.warn(\"failed to load library \" + url);};\n",
              "  document.getElementsByTagName(\"head\")[0].appendChild(s);\n",
              "}\n",
              "\n",
              "if(typeof(mpld3) !== \"undefined\" && mpld3._mpld3IsLoaded){\n",
              "   // already loaded: just create the figure\n",
              "   !function(mpld3){\n",
              "       \n",
              "       mpld3.draw_figure(\"fig_el105140179127356216526477041\", {\"width\": 2160.0, \"height\": 432.0, \"axes\": [{\"bbox\": [0.125, 0.125, 0.16847826086956524, 0.755], \"xlim\": [-1.1500000000000001, 24.15], \"ylim\": [-0.35000000000000003, 7.35], \"xdomain\": [-1.1500000000000001, 24.15], \"ydomain\": [-0.35000000000000003, 7.35], \"xscale\": \"linear\", \"yscale\": \"linear\", \"axes\": [{\"position\": \"bottom\", \"nticks\": 7, \"tickvalues\": null, \"tickformat_formatter\": \"\", \"tickformat\": null, \"scale\": \"linear\", \"fontsize\": 10.0, \"grid\": {\"gridOn\": true, \"color\": \"#B0B0B0\", \"dasharray\": \"none\", \"alpha\": 0.3}, \"visible\": true}, {\"position\": \"left\", \"nticks\": 10, \"tickvalues\": null, \"tickformat_formatter\": \"\", \"tickformat\": null, \"scale\": \"linear\", \"fontsize\": 10.0, \"grid\": {\"gridOn\": true, \"color\": \"#B0B0B0\", \"dasharray\": \"none\", \"alpha\": 0.3}, \"visible\": true}], \"axesbg\": \"#FFFFFF\", \"axesbgalpha\": null, \"zoomable\": true, \"id\": \"el105140179127354984\", \"lines\": [{\"data\": \"data01\", \"xindex\": 0, \"yindex\": 1, \"coordinates\": \"data\", \"id\": \"el105140179188370736\", \"color\": \"#FF0000\", \"linewidth\": 1.5, \"dasharray\": \"none\", \"alpha\": 0.3, \"zorder\": 2, \"drawstyle\": \"default\"}, {\"data\": \"data01\", \"xindex\": 0, \"yindex\": 2, \"coordinates\": \"data\", \"id\": \"el105140179188371128\", \"color\": \"#0000FF\", \"linewidth\": 1.5, \"dasharray\": \"none\", \"alpha\": 0.3, \"zorder\": 2, \"drawstyle\": \"default\"}], \"paths\": [], \"markers\": [], \"texts\": [{\"text\": \"2019-04-13\", \"position\": [0.5, 1.0183958793230317], \"coordinates\": \"axes\", \"h_anchor\": \"middle\", \"v_baseline\": \"auto\", \"rotation\": -0.0, \"fontsize\": 12.0, \"color\": \"#000000\", \"alpha\": 1, \"zorder\": 3, \"id\": \"el105140179127304032\"}], \"collections\": [], \"images\": [], \"sharex\": [], \"sharey\": []}, {\"bbox\": [0.3271739130434783, 0.125, 0.1684782608695652, 0.755], \"xlim\": [-1.1500000000000001, 24.15], \"ylim\": [-0.6000000000000001, 12.6], \"xdomain\": [-1.1500000000000001, 24.15], \"ydomain\": [-0.6000000000000001, 12.6], \"xscale\": \"linear\", \"yscale\": \"linear\", \"axes\": [{\"position\": \"bottom\", \"nticks\": 7, \"tickvalues\": null, \"tickformat_formatter\": \"\", \"tickformat\": null, \"scale\": \"linear\", \"fontsize\": 10.0, \"grid\": {\"gridOn\": true, \"color\": \"#B0B0B0\", \"dasharray\": \"none\", \"alpha\": 0.3}, \"visible\": true}, {\"position\": \"left\", \"nticks\": 9, \"tickvalues\": null, \"tickformat_formatter\": \"\", \"tickformat\": null, \"scale\": \"linear\", \"fontsize\": 10.0, \"grid\": {\"gridOn\": true, \"color\": \"#B0B0B0\", \"dasharray\": \"none\", \"alpha\": 0.3}, \"visible\": true}], \"axesbg\": \"#FFFFFF\", \"axesbgalpha\": null, \"zoomable\": true, \"id\": \"el105140179127252304\", \"lines\": [{\"data\": \"data01\", \"xindex\": 0, \"yindex\": 3, \"coordinates\": \"data\", \"id\": \"el105140179188483352\", \"color\": \"#FF0000\", \"linewidth\": 1.5, \"dasharray\": \"none\", \"alpha\": 0.3, \"zorder\": 2, \"drawstyle\": \"default\"}, {\"data\": \"data01\", \"xindex\": 0, \"yindex\": 4, \"coordinates\": \"data\", \"id\": \"el105140179188483744\", \"color\": \"#0000FF\", \"linewidth\": 1.5, \"dasharray\": \"none\", \"alpha\": 0.3, \"zorder\": 2, \"drawstyle\": \"default\"}], \"paths\": [], \"markers\": [], \"texts\": [{\"text\": \"2019-04-27\", \"position\": [0.5, 1.0183958793230317], \"coordinates\": \"axes\", \"h_anchor\": \"middle\", \"v_baseline\": \"auto\", \"rotation\": -0.0, \"fontsize\": 12.0, \"color\": \"#000000\", \"alpha\": 1, \"zorder\": 3, \"id\": \"el105140179158030544\"}], \"collections\": [], \"images\": [], \"sharex\": [], \"sharey\": []}, {\"bbox\": [0.5293478260869566, 0.125, 0.1684782608695652, 0.755], \"xlim\": [-1.1500000000000001, 24.15], \"ylim\": [-0.5, 10.5], \"xdomain\": [-1.1500000000000001, 24.15], \"ydomain\": [-0.5, 10.5], \"xscale\": \"linear\", \"yscale\": \"linear\", \"axes\": [{\"position\": \"bottom\", \"nticks\": 7, \"tickvalues\": null, \"tickformat_formatter\": \"\", \"tickformat\": null, \"scale\": \"linear\", \"fontsize\": 10.0, \"grid\": {\"gridOn\": true, \"color\": \"#B0B0B0\", \"dasharray\": \"none\", \"alpha\": 0.3}, \"visible\": true}, {\"position\": \"left\", \"nticks\": 8, \"tickvalues\": null, \"tickformat_formatter\": \"\", \"tickformat\": null, \"scale\": \"linear\", \"fontsize\": 10.0, \"grid\": {\"gridOn\": true, \"color\": \"#B0B0B0\", \"dasharray\": \"none\", \"alpha\": 0.3}, \"visible\": true}], \"axesbg\": \"#FFFFFF\", \"axesbgalpha\": null, \"zoomable\": true, \"id\": \"el105140179157907328\", \"lines\": [{\"data\": \"data01\", \"xindex\": 0, \"yindex\": 5, \"coordinates\": \"data\", \"id\": \"el105140179188485312\", \"color\": \"#FF0000\", \"linewidth\": 1.5, \"dasharray\": \"none\", \"alpha\": 0.3, \"zorder\": 2, \"drawstyle\": \"default\"}, {\"data\": \"data01\", \"xindex\": 0, \"yindex\": 6, \"coordinates\": \"data\", \"id\": \"el105140179188485704\", \"color\": \"#0000FF\", \"linewidth\": 1.5, \"dasharray\": \"none\", \"alpha\": 0.3, \"zorder\": 2, \"drawstyle\": \"default\"}], \"paths\": [], \"markers\": [], \"texts\": [{\"text\": \"2019-04-06\", \"position\": [0.5, 1.0183958793230317], \"coordinates\": \"axes\", \"h_anchor\": \"middle\", \"v_baseline\": \"auto\", \"rotation\": -0.0, \"fontsize\": 12.0, \"color\": \"#000000\", \"alpha\": 1, \"zorder\": 3, \"id\": \"el105140179176737536\"}], \"collections\": [], \"images\": [], \"sharex\": [], \"sharey\": []}, {\"bbox\": [0.7315217391304348, 0.125, 0.1684782608695653, 0.755], \"xlim\": [-1.1500000000000001, 24.15], \"ylim\": [-0.8, 16.8], \"xdomain\": [-1.1500000000000001, 24.15], \"ydomain\": [-0.8, 16.8], \"xscale\": \"linear\", \"yscale\": \"linear\", \"axes\": [{\"position\": \"bottom\", \"nticks\": 7, \"tickvalues\": null, \"tickformat_formatter\": \"\", \"tickformat\": null, \"scale\": \"linear\", \"fontsize\": 10.0, \"grid\": {\"gridOn\": true, \"color\": \"#B0B0B0\", \"dasharray\": \"none\", \"alpha\": 0.3}, \"visible\": true}, {\"position\": \"left\", \"nticks\": 11, \"tickvalues\": null, \"tickformat_formatter\": \"\", \"tickformat\": null, \"scale\": \"linear\", \"fontsize\": 10.0, \"grid\": {\"gridOn\": true, \"color\": \"#B0B0B0\", \"dasharray\": \"none\", \"alpha\": 0.3}, \"visible\": true}], \"axesbg\": \"#FFFFFF\", \"axesbgalpha\": null, \"zoomable\": true, \"id\": \"el105140179176741296\", \"lines\": [{\"data\": \"data01\", \"xindex\": 0, \"yindex\": 7, \"coordinates\": \"data\", \"id\": \"el105140179188323496\", \"color\": \"#FF0000\", \"linewidth\": 1.5, \"dasharray\": \"none\", \"alpha\": 0.3, \"zorder\": 2, \"drawstyle\": \"default\"}, {\"data\": \"data01\", \"xindex\": 0, \"yindex\": 8, \"coordinates\": \"data\", \"id\": \"el105140179188323888\", \"color\": \"#0000FF\", \"linewidth\": 1.5, \"dasharray\": \"none\", \"alpha\": 0.3, \"zorder\": 2, \"drawstyle\": \"default\"}], \"paths\": [], \"markers\": [], \"texts\": [{\"text\": \"2019-04-20\", \"position\": [0.5, 1.0183958793230317], \"coordinates\": \"axes\", \"h_anchor\": \"middle\", \"v_baseline\": \"auto\", \"rotation\": -0.0, \"fontsize\": 12.0, \"color\": \"#000000\", \"alpha\": 1, \"zorder\": 3, \"id\": \"el105140179176820016\"}], \"collections\": [], \"images\": [], \"sharex\": [], \"sharey\": []}], \"data\": {\"data01\": [[0.0, 0.0, 1.0, 4.0, 0.0, 0.0, 0.0, 1.0, 3.0], [1.0, 0.0, 0.0, 1.0, 0.0, 0.0, 0.0, 1.0, 1.0], [2.0, 3.0, 2.0, 0.0, 1.0, 0.0, 0.0, 1.0, 1.0], [3.0, 0.0, 0.0, 1.0, 0.0, 0.0, 1.0, 0.0, 0.0], [4.0, 2.0, 0.0, 0.0, 0.0, 1.0, 0.0, 0.0, 0.0], [5.0, 1.0, 0.0, 0.0, 0.0, 0.0, 0.0, 0.0, 0.0], [6.0, 0.0, 0.0, 0.0, 1.0, 0.0, 1.0, 0.0, 0.0], [7.0, 1.0, 1.0, 0.0, 2.0, 0.0, 0.0, 0.0, 0.0], [8.0, 0.0, 2.0, 1.0, 3.0, 0.0, 1.0, 2.0, 2.0], [9.0, 4.0, 6.0, 4.0, 4.0, 1.0, 1.0, 3.0, 0.0], [10.0, 2.0, 0.0, 2.0, 3.0, 2.0, 7.0, 2.0, 8.0], [11.0, 2.0, 3.0, 5.0, 6.0, 8.0, 4.0, 6.0, 5.0], [12.0, 1.0, 6.0, 6.0, 7.0, 2.0, 4.0, 3.0, 2.0], [13.0, 1.0, 0.0, 9.0, 9.0, 2.0, 5.0, 2.0, 8.0], [14.0, 7.0, 4.0, 8.0, 4.0, 10.0, 2.0, 4.0, 8.0], [15.0, 1.0, 6.0, 8.0, 9.0, 5.0, 2.0, 2.0, 3.0], [16.0, 3.0, 6.0, 9.0, 8.0, 5.0, 4.0, 3.0, 6.0], [17.0, 5.0, 2.0, 9.0, 12.0, 5.0, 2.0, 6.0, 3.0], [18.0, 1.0, 1.0, 12.0, 7.0, 2.0, 4.0, 9.0, 7.0], [19.0, 7.0, 4.0, 8.0, 7.0, 6.0, 4.0, 3.0, 4.0], [20.0, 1.0, 2.0, 2.0, 2.0, 1.0, 1.0, 6.0, 16.0], [21.0, 1.0, 2.0, 2.0, 5.0, 5.0, 3.0, 3.0, 1.0], [22.0, 2.0, 0.0, 6.0, 2.0, 1.0, 3.0, 2.0, 0.0], [23.0, 1.0, 1.0, 1.0, 1.0, 0.0, 0.0, 1.0, 1.0]]}, \"id\": \"el105140179127356216\", \"plugins\": [{\"type\": \"reset\"}, {\"type\": \"zoom\", \"button\": true, \"enabled\": false}, {\"type\": \"boxzoom\", \"button\": true, \"enabled\": false}]});\n",
              "   }(mpld3);\n",
              "}else if(typeof define === \"function\" && define.amd){\n",
              "   // require.js is available: use it to load d3/mpld3\n",
              "   require.config({paths: {d3: \"https://d3js.org/d3.v5\"}});\n",
              "   require([\"d3\"], function(d3){\n",
              "      window.d3 = d3;\n",
              "      mpld3_load_lib(\"https://mpld3.github.io/js/mpld3.v0.5.1.js\", function(){\n",
              "         \n",
              "         mpld3.draw_figure(\"fig_el105140179127356216526477041\", {\"width\": 2160.0, \"height\": 432.0, \"axes\": [{\"bbox\": [0.125, 0.125, 0.16847826086956524, 0.755], \"xlim\": [-1.1500000000000001, 24.15], \"ylim\": [-0.35000000000000003, 7.35], \"xdomain\": [-1.1500000000000001, 24.15], \"ydomain\": [-0.35000000000000003, 7.35], \"xscale\": \"linear\", \"yscale\": \"linear\", \"axes\": [{\"position\": \"bottom\", \"nticks\": 7, \"tickvalues\": null, \"tickformat_formatter\": \"\", \"tickformat\": null, \"scale\": \"linear\", \"fontsize\": 10.0, \"grid\": {\"gridOn\": true, \"color\": \"#B0B0B0\", \"dasharray\": \"none\", \"alpha\": 0.3}, \"visible\": true}, {\"position\": \"left\", \"nticks\": 10, \"tickvalues\": null, \"tickformat_formatter\": \"\", \"tickformat\": null, \"scale\": \"linear\", \"fontsize\": 10.0, \"grid\": {\"gridOn\": true, \"color\": \"#B0B0B0\", \"dasharray\": \"none\", \"alpha\": 0.3}, \"visible\": true}], \"axesbg\": \"#FFFFFF\", \"axesbgalpha\": null, \"zoomable\": true, \"id\": \"el105140179127354984\", \"lines\": [{\"data\": \"data01\", \"xindex\": 0, \"yindex\": 1, \"coordinates\": \"data\", \"id\": \"el105140179188370736\", \"color\": \"#FF0000\", \"linewidth\": 1.5, \"dasharray\": \"none\", \"alpha\": 0.3, \"zorder\": 2, \"drawstyle\": \"default\"}, {\"data\": \"data01\", \"xindex\": 0, \"yindex\": 2, \"coordinates\": \"data\", \"id\": \"el105140179188371128\", \"color\": \"#0000FF\", \"linewidth\": 1.5, \"dasharray\": \"none\", \"alpha\": 0.3, \"zorder\": 2, \"drawstyle\": \"default\"}], \"paths\": [], \"markers\": [], \"texts\": [{\"text\": \"2019-04-13\", \"position\": [0.5, 1.0183958793230317], \"coordinates\": \"axes\", \"h_anchor\": \"middle\", \"v_baseline\": \"auto\", \"rotation\": -0.0, \"fontsize\": 12.0, \"color\": \"#000000\", \"alpha\": 1, \"zorder\": 3, \"id\": \"el105140179127304032\"}], \"collections\": [], \"images\": [], \"sharex\": [], \"sharey\": []}, {\"bbox\": [0.3271739130434783, 0.125, 0.1684782608695652, 0.755], \"xlim\": [-1.1500000000000001, 24.15], \"ylim\": [-0.6000000000000001, 12.6], \"xdomain\": [-1.1500000000000001, 24.15], \"ydomain\": [-0.6000000000000001, 12.6], \"xscale\": \"linear\", \"yscale\": \"linear\", \"axes\": [{\"position\": \"bottom\", \"nticks\": 7, \"tickvalues\": null, \"tickformat_formatter\": \"\", \"tickformat\": null, \"scale\": \"linear\", \"fontsize\": 10.0, \"grid\": {\"gridOn\": true, \"color\": \"#B0B0B0\", \"dasharray\": \"none\", \"alpha\": 0.3}, \"visible\": true}, {\"position\": \"left\", \"nticks\": 9, \"tickvalues\": null, \"tickformat_formatter\": \"\", \"tickformat\": null, \"scale\": \"linear\", \"fontsize\": 10.0, \"grid\": {\"gridOn\": true, \"color\": \"#B0B0B0\", \"dasharray\": \"none\", \"alpha\": 0.3}, \"visible\": true}], \"axesbg\": \"#FFFFFF\", \"axesbgalpha\": null, \"zoomable\": true, \"id\": \"el105140179127252304\", \"lines\": [{\"data\": \"data01\", \"xindex\": 0, \"yindex\": 3, \"coordinates\": \"data\", \"id\": \"el105140179188483352\", \"color\": \"#FF0000\", \"linewidth\": 1.5, \"dasharray\": \"none\", \"alpha\": 0.3, \"zorder\": 2, \"drawstyle\": \"default\"}, {\"data\": \"data01\", \"xindex\": 0, \"yindex\": 4, \"coordinates\": \"data\", \"id\": \"el105140179188483744\", \"color\": \"#0000FF\", \"linewidth\": 1.5, \"dasharray\": \"none\", \"alpha\": 0.3, \"zorder\": 2, \"drawstyle\": \"default\"}], \"paths\": [], \"markers\": [], \"texts\": [{\"text\": \"2019-04-27\", \"position\": [0.5, 1.0183958793230317], \"coordinates\": \"axes\", \"h_anchor\": \"middle\", \"v_baseline\": \"auto\", \"rotation\": -0.0, \"fontsize\": 12.0, \"color\": \"#000000\", \"alpha\": 1, \"zorder\": 3, \"id\": \"el105140179158030544\"}], \"collections\": [], \"images\": [], \"sharex\": [], \"sharey\": []}, {\"bbox\": [0.5293478260869566, 0.125, 0.1684782608695652, 0.755], \"xlim\": [-1.1500000000000001, 24.15], \"ylim\": [-0.5, 10.5], \"xdomain\": [-1.1500000000000001, 24.15], \"ydomain\": [-0.5, 10.5], \"xscale\": \"linear\", \"yscale\": \"linear\", \"axes\": [{\"position\": \"bottom\", \"nticks\": 7, \"tickvalues\": null, \"tickformat_formatter\": \"\", \"tickformat\": null, \"scale\": \"linear\", \"fontsize\": 10.0, \"grid\": {\"gridOn\": true, \"color\": \"#B0B0B0\", \"dasharray\": \"none\", \"alpha\": 0.3}, \"visible\": true}, {\"position\": \"left\", \"nticks\": 8, \"tickvalues\": null, \"tickformat_formatter\": \"\", \"tickformat\": null, \"scale\": \"linear\", \"fontsize\": 10.0, \"grid\": {\"gridOn\": true, \"color\": \"#B0B0B0\", \"dasharray\": \"none\", \"alpha\": 0.3}, \"visible\": true}], \"axesbg\": \"#FFFFFF\", \"axesbgalpha\": null, \"zoomable\": true, \"id\": \"el105140179157907328\", \"lines\": [{\"data\": \"data01\", \"xindex\": 0, \"yindex\": 5, \"coordinates\": \"data\", \"id\": \"el105140179188485312\", \"color\": \"#FF0000\", \"linewidth\": 1.5, \"dasharray\": \"none\", \"alpha\": 0.3, \"zorder\": 2, \"drawstyle\": \"default\"}, {\"data\": \"data01\", \"xindex\": 0, \"yindex\": 6, \"coordinates\": \"data\", \"id\": \"el105140179188485704\", \"color\": \"#0000FF\", \"linewidth\": 1.5, \"dasharray\": \"none\", \"alpha\": 0.3, \"zorder\": 2, \"drawstyle\": \"default\"}], \"paths\": [], \"markers\": [], \"texts\": [{\"text\": \"2019-04-06\", \"position\": [0.5, 1.0183958793230317], \"coordinates\": \"axes\", \"h_anchor\": \"middle\", \"v_baseline\": \"auto\", \"rotation\": -0.0, \"fontsize\": 12.0, \"color\": \"#000000\", \"alpha\": 1, \"zorder\": 3, \"id\": \"el105140179176737536\"}], \"collections\": [], \"images\": [], \"sharex\": [], \"sharey\": []}, {\"bbox\": [0.7315217391304348, 0.125, 0.1684782608695653, 0.755], \"xlim\": [-1.1500000000000001, 24.15], \"ylim\": [-0.8, 16.8], \"xdomain\": [-1.1500000000000001, 24.15], \"ydomain\": [-0.8, 16.8], \"xscale\": \"linear\", \"yscale\": \"linear\", \"axes\": [{\"position\": \"bottom\", \"nticks\": 7, \"tickvalues\": null, \"tickformat_formatter\": \"\", \"tickformat\": null, \"scale\": \"linear\", \"fontsize\": 10.0, \"grid\": {\"gridOn\": true, \"color\": \"#B0B0B0\", \"dasharray\": \"none\", \"alpha\": 0.3}, \"visible\": true}, {\"position\": \"left\", \"nticks\": 11, \"tickvalues\": null, \"tickformat_formatter\": \"\", \"tickformat\": null, \"scale\": \"linear\", \"fontsize\": 10.0, \"grid\": {\"gridOn\": true, \"color\": \"#B0B0B0\", \"dasharray\": \"none\", \"alpha\": 0.3}, \"visible\": true}], \"axesbg\": \"#FFFFFF\", \"axesbgalpha\": null, \"zoomable\": true, \"id\": \"el105140179176741296\", \"lines\": [{\"data\": \"data01\", \"xindex\": 0, \"yindex\": 7, \"coordinates\": \"data\", \"id\": \"el105140179188323496\", \"color\": \"#FF0000\", \"linewidth\": 1.5, \"dasharray\": \"none\", \"alpha\": 0.3, \"zorder\": 2, \"drawstyle\": \"default\"}, {\"data\": \"data01\", \"xindex\": 0, \"yindex\": 8, \"coordinates\": \"data\", \"id\": \"el105140179188323888\", \"color\": \"#0000FF\", \"linewidth\": 1.5, \"dasharray\": \"none\", \"alpha\": 0.3, \"zorder\": 2, \"drawstyle\": \"default\"}], \"paths\": [], \"markers\": [], \"texts\": [{\"text\": \"2019-04-20\", \"position\": [0.5, 1.0183958793230317], \"coordinates\": \"axes\", \"h_anchor\": \"middle\", \"v_baseline\": \"auto\", \"rotation\": -0.0, \"fontsize\": 12.0, \"color\": \"#000000\", \"alpha\": 1, \"zorder\": 3, \"id\": \"el105140179176820016\"}], \"collections\": [], \"images\": [], \"sharex\": [], \"sharey\": []}], \"data\": {\"data01\": [[0.0, 0.0, 1.0, 4.0, 0.0, 0.0, 0.0, 1.0, 3.0], [1.0, 0.0, 0.0, 1.0, 0.0, 0.0, 0.0, 1.0, 1.0], [2.0, 3.0, 2.0, 0.0, 1.0, 0.0, 0.0, 1.0, 1.0], [3.0, 0.0, 0.0, 1.0, 0.0, 0.0, 1.0, 0.0, 0.0], [4.0, 2.0, 0.0, 0.0, 0.0, 1.0, 0.0, 0.0, 0.0], [5.0, 1.0, 0.0, 0.0, 0.0, 0.0, 0.0, 0.0, 0.0], [6.0, 0.0, 0.0, 0.0, 1.0, 0.0, 1.0, 0.0, 0.0], [7.0, 1.0, 1.0, 0.0, 2.0, 0.0, 0.0, 0.0, 0.0], [8.0, 0.0, 2.0, 1.0, 3.0, 0.0, 1.0, 2.0, 2.0], [9.0, 4.0, 6.0, 4.0, 4.0, 1.0, 1.0, 3.0, 0.0], [10.0, 2.0, 0.0, 2.0, 3.0, 2.0, 7.0, 2.0, 8.0], [11.0, 2.0, 3.0, 5.0, 6.0, 8.0, 4.0, 6.0, 5.0], [12.0, 1.0, 6.0, 6.0, 7.0, 2.0, 4.0, 3.0, 2.0], [13.0, 1.0, 0.0, 9.0, 9.0, 2.0, 5.0, 2.0, 8.0], [14.0, 7.0, 4.0, 8.0, 4.0, 10.0, 2.0, 4.0, 8.0], [15.0, 1.0, 6.0, 8.0, 9.0, 5.0, 2.0, 2.0, 3.0], [16.0, 3.0, 6.0, 9.0, 8.0, 5.0, 4.0, 3.0, 6.0], [17.0, 5.0, 2.0, 9.0, 12.0, 5.0, 2.0, 6.0, 3.0], [18.0, 1.0, 1.0, 12.0, 7.0, 2.0, 4.0, 9.0, 7.0], [19.0, 7.0, 4.0, 8.0, 7.0, 6.0, 4.0, 3.0, 4.0], [20.0, 1.0, 2.0, 2.0, 2.0, 1.0, 1.0, 6.0, 16.0], [21.0, 1.0, 2.0, 2.0, 5.0, 5.0, 3.0, 3.0, 1.0], [22.0, 2.0, 0.0, 6.0, 2.0, 1.0, 3.0, 2.0, 0.0], [23.0, 1.0, 1.0, 1.0, 1.0, 0.0, 0.0, 1.0, 1.0]]}, \"id\": \"el105140179127356216\", \"plugins\": [{\"type\": \"reset\"}, {\"type\": \"zoom\", \"button\": true, \"enabled\": false}, {\"type\": \"boxzoom\", \"button\": true, \"enabled\": false}]});\n",
              "      });\n",
              "    });\n",
              "}else{\n",
              "    // require.js not available: dynamically load d3 & mpld3\n",
              "    mpld3_load_lib(\"https://d3js.org/d3.v5.js\", function(){\n",
              "         mpld3_load_lib(\"https://mpld3.github.io/js/mpld3.v0.5.1.js\", function(){\n",
              "                 \n",
              "                 mpld3.draw_figure(\"fig_el105140179127356216526477041\", {\"width\": 2160.0, \"height\": 432.0, \"axes\": [{\"bbox\": [0.125, 0.125, 0.16847826086956524, 0.755], \"xlim\": [-1.1500000000000001, 24.15], \"ylim\": [-0.35000000000000003, 7.35], \"xdomain\": [-1.1500000000000001, 24.15], \"ydomain\": [-0.35000000000000003, 7.35], \"xscale\": \"linear\", \"yscale\": \"linear\", \"axes\": [{\"position\": \"bottom\", \"nticks\": 7, \"tickvalues\": null, \"tickformat_formatter\": \"\", \"tickformat\": null, \"scale\": \"linear\", \"fontsize\": 10.0, \"grid\": {\"gridOn\": true, \"color\": \"#B0B0B0\", \"dasharray\": \"none\", \"alpha\": 0.3}, \"visible\": true}, {\"position\": \"left\", \"nticks\": 10, \"tickvalues\": null, \"tickformat_formatter\": \"\", \"tickformat\": null, \"scale\": \"linear\", \"fontsize\": 10.0, \"grid\": {\"gridOn\": true, \"color\": \"#B0B0B0\", \"dasharray\": \"none\", \"alpha\": 0.3}, \"visible\": true}], \"axesbg\": \"#FFFFFF\", \"axesbgalpha\": null, \"zoomable\": true, \"id\": \"el105140179127354984\", \"lines\": [{\"data\": \"data01\", \"xindex\": 0, \"yindex\": 1, \"coordinates\": \"data\", \"id\": \"el105140179188370736\", \"color\": \"#FF0000\", \"linewidth\": 1.5, \"dasharray\": \"none\", \"alpha\": 0.3, \"zorder\": 2, \"drawstyle\": \"default\"}, {\"data\": \"data01\", \"xindex\": 0, \"yindex\": 2, \"coordinates\": \"data\", \"id\": \"el105140179188371128\", \"color\": \"#0000FF\", \"linewidth\": 1.5, \"dasharray\": \"none\", \"alpha\": 0.3, \"zorder\": 2, \"drawstyle\": \"default\"}], \"paths\": [], \"markers\": [], \"texts\": [{\"text\": \"2019-04-13\", \"position\": [0.5, 1.0183958793230317], \"coordinates\": \"axes\", \"h_anchor\": \"middle\", \"v_baseline\": \"auto\", \"rotation\": -0.0, \"fontsize\": 12.0, \"color\": \"#000000\", \"alpha\": 1, \"zorder\": 3, \"id\": \"el105140179127304032\"}], \"collections\": [], \"images\": [], \"sharex\": [], \"sharey\": []}, {\"bbox\": [0.3271739130434783, 0.125, 0.1684782608695652, 0.755], \"xlim\": [-1.1500000000000001, 24.15], \"ylim\": [-0.6000000000000001, 12.6], \"xdomain\": [-1.1500000000000001, 24.15], \"ydomain\": [-0.6000000000000001, 12.6], \"xscale\": \"linear\", \"yscale\": \"linear\", \"axes\": [{\"position\": \"bottom\", \"nticks\": 7, \"tickvalues\": null, \"tickformat_formatter\": \"\", \"tickformat\": null, \"scale\": \"linear\", \"fontsize\": 10.0, \"grid\": {\"gridOn\": true, \"color\": \"#B0B0B0\", \"dasharray\": \"none\", \"alpha\": 0.3}, \"visible\": true}, {\"position\": \"left\", \"nticks\": 9, \"tickvalues\": null, \"tickformat_formatter\": \"\", \"tickformat\": null, \"scale\": \"linear\", \"fontsize\": 10.0, \"grid\": {\"gridOn\": true, \"color\": \"#B0B0B0\", \"dasharray\": \"none\", \"alpha\": 0.3}, \"visible\": true}], \"axesbg\": \"#FFFFFF\", \"axesbgalpha\": null, \"zoomable\": true, \"id\": \"el105140179127252304\", \"lines\": [{\"data\": \"data01\", \"xindex\": 0, \"yindex\": 3, \"coordinates\": \"data\", \"id\": \"el105140179188483352\", \"color\": \"#FF0000\", \"linewidth\": 1.5, \"dasharray\": \"none\", \"alpha\": 0.3, \"zorder\": 2, \"drawstyle\": \"default\"}, {\"data\": \"data01\", \"xindex\": 0, \"yindex\": 4, \"coordinates\": \"data\", \"id\": \"el105140179188483744\", \"color\": \"#0000FF\", \"linewidth\": 1.5, \"dasharray\": \"none\", \"alpha\": 0.3, \"zorder\": 2, \"drawstyle\": \"default\"}], \"paths\": [], \"markers\": [], \"texts\": [{\"text\": \"2019-04-27\", \"position\": [0.5, 1.0183958793230317], \"coordinates\": \"axes\", \"h_anchor\": \"middle\", \"v_baseline\": \"auto\", \"rotation\": -0.0, \"fontsize\": 12.0, \"color\": \"#000000\", \"alpha\": 1, \"zorder\": 3, \"id\": \"el105140179158030544\"}], \"collections\": [], \"images\": [], \"sharex\": [], \"sharey\": []}, {\"bbox\": [0.5293478260869566, 0.125, 0.1684782608695652, 0.755], \"xlim\": [-1.1500000000000001, 24.15], \"ylim\": [-0.5, 10.5], \"xdomain\": [-1.1500000000000001, 24.15], \"ydomain\": [-0.5, 10.5], \"xscale\": \"linear\", \"yscale\": \"linear\", \"axes\": [{\"position\": \"bottom\", \"nticks\": 7, \"tickvalues\": null, \"tickformat_formatter\": \"\", \"tickformat\": null, \"scale\": \"linear\", \"fontsize\": 10.0, \"grid\": {\"gridOn\": true, \"color\": \"#B0B0B0\", \"dasharray\": \"none\", \"alpha\": 0.3}, \"visible\": true}, {\"position\": \"left\", \"nticks\": 8, \"tickvalues\": null, \"tickformat_formatter\": \"\", \"tickformat\": null, \"scale\": \"linear\", \"fontsize\": 10.0, \"grid\": {\"gridOn\": true, \"color\": \"#B0B0B0\", \"dasharray\": \"none\", \"alpha\": 0.3}, \"visible\": true}], \"axesbg\": \"#FFFFFF\", \"axesbgalpha\": null, \"zoomable\": true, \"id\": \"el105140179157907328\", \"lines\": [{\"data\": \"data01\", \"xindex\": 0, \"yindex\": 5, \"coordinates\": \"data\", \"id\": \"el105140179188485312\", \"color\": \"#FF0000\", \"linewidth\": 1.5, \"dasharray\": \"none\", \"alpha\": 0.3, \"zorder\": 2, \"drawstyle\": \"default\"}, {\"data\": \"data01\", \"xindex\": 0, \"yindex\": 6, \"coordinates\": \"data\", \"id\": \"el105140179188485704\", \"color\": \"#0000FF\", \"linewidth\": 1.5, \"dasharray\": \"none\", \"alpha\": 0.3, \"zorder\": 2, \"drawstyle\": \"default\"}], \"paths\": [], \"markers\": [], \"texts\": [{\"text\": \"2019-04-06\", \"position\": [0.5, 1.0183958793230317], \"coordinates\": \"axes\", \"h_anchor\": \"middle\", \"v_baseline\": \"auto\", \"rotation\": -0.0, \"fontsize\": 12.0, \"color\": \"#000000\", \"alpha\": 1, \"zorder\": 3, \"id\": \"el105140179176737536\"}], \"collections\": [], \"images\": [], \"sharex\": [], \"sharey\": []}, {\"bbox\": [0.7315217391304348, 0.125, 0.1684782608695653, 0.755], \"xlim\": [-1.1500000000000001, 24.15], \"ylim\": [-0.8, 16.8], \"xdomain\": [-1.1500000000000001, 24.15], \"ydomain\": [-0.8, 16.8], \"xscale\": \"linear\", \"yscale\": \"linear\", \"axes\": [{\"position\": \"bottom\", \"nticks\": 7, \"tickvalues\": null, \"tickformat_formatter\": \"\", \"tickformat\": null, \"scale\": \"linear\", \"fontsize\": 10.0, \"grid\": {\"gridOn\": true, \"color\": \"#B0B0B0\", \"dasharray\": \"none\", \"alpha\": 0.3}, \"visible\": true}, {\"position\": \"left\", \"nticks\": 11, \"tickvalues\": null, \"tickformat_formatter\": \"\", \"tickformat\": null, \"scale\": \"linear\", \"fontsize\": 10.0, \"grid\": {\"gridOn\": true, \"color\": \"#B0B0B0\", \"dasharray\": \"none\", \"alpha\": 0.3}, \"visible\": true}], \"axesbg\": \"#FFFFFF\", \"axesbgalpha\": null, \"zoomable\": true, \"id\": \"el105140179176741296\", \"lines\": [{\"data\": \"data01\", \"xindex\": 0, \"yindex\": 7, \"coordinates\": \"data\", \"id\": \"el105140179188323496\", \"color\": \"#FF0000\", \"linewidth\": 1.5, \"dasharray\": \"none\", \"alpha\": 0.3, \"zorder\": 2, \"drawstyle\": \"default\"}, {\"data\": \"data01\", \"xindex\": 0, \"yindex\": 8, \"coordinates\": \"data\", \"id\": \"el105140179188323888\", \"color\": \"#0000FF\", \"linewidth\": 1.5, \"dasharray\": \"none\", \"alpha\": 0.3, \"zorder\": 2, \"drawstyle\": \"default\"}], \"paths\": [], \"markers\": [], \"texts\": [{\"text\": \"2019-04-20\", \"position\": [0.5, 1.0183958793230317], \"coordinates\": \"axes\", \"h_anchor\": \"middle\", \"v_baseline\": \"auto\", \"rotation\": -0.0, \"fontsize\": 12.0, \"color\": \"#000000\", \"alpha\": 1, \"zorder\": 3, \"id\": \"el105140179176820016\"}], \"collections\": [], \"images\": [], \"sharex\": [], \"sharey\": []}], \"data\": {\"data01\": [[0.0, 0.0, 1.0, 4.0, 0.0, 0.0, 0.0, 1.0, 3.0], [1.0, 0.0, 0.0, 1.0, 0.0, 0.0, 0.0, 1.0, 1.0], [2.0, 3.0, 2.0, 0.0, 1.0, 0.0, 0.0, 1.0, 1.0], [3.0, 0.0, 0.0, 1.0, 0.0, 0.0, 1.0, 0.0, 0.0], [4.0, 2.0, 0.0, 0.0, 0.0, 1.0, 0.0, 0.0, 0.0], [5.0, 1.0, 0.0, 0.0, 0.0, 0.0, 0.0, 0.0, 0.0], [6.0, 0.0, 0.0, 0.0, 1.0, 0.0, 1.0, 0.0, 0.0], [7.0, 1.0, 1.0, 0.0, 2.0, 0.0, 0.0, 0.0, 0.0], [8.0, 0.0, 2.0, 1.0, 3.0, 0.0, 1.0, 2.0, 2.0], [9.0, 4.0, 6.0, 4.0, 4.0, 1.0, 1.0, 3.0, 0.0], [10.0, 2.0, 0.0, 2.0, 3.0, 2.0, 7.0, 2.0, 8.0], [11.0, 2.0, 3.0, 5.0, 6.0, 8.0, 4.0, 6.0, 5.0], [12.0, 1.0, 6.0, 6.0, 7.0, 2.0, 4.0, 3.0, 2.0], [13.0, 1.0, 0.0, 9.0, 9.0, 2.0, 5.0, 2.0, 8.0], [14.0, 7.0, 4.0, 8.0, 4.0, 10.0, 2.0, 4.0, 8.0], [15.0, 1.0, 6.0, 8.0, 9.0, 5.0, 2.0, 2.0, 3.0], [16.0, 3.0, 6.0, 9.0, 8.0, 5.0, 4.0, 3.0, 6.0], [17.0, 5.0, 2.0, 9.0, 12.0, 5.0, 2.0, 6.0, 3.0], [18.0, 1.0, 1.0, 12.0, 7.0, 2.0, 4.0, 9.0, 7.0], [19.0, 7.0, 4.0, 8.0, 7.0, 6.0, 4.0, 3.0, 4.0], [20.0, 1.0, 2.0, 2.0, 2.0, 1.0, 1.0, 6.0, 16.0], [21.0, 1.0, 2.0, 2.0, 5.0, 5.0, 3.0, 3.0, 1.0], [22.0, 2.0, 0.0, 6.0, 2.0, 1.0, 3.0, 2.0, 0.0], [23.0, 1.0, 1.0, 1.0, 1.0, 0.0, 0.0, 1.0, 1.0]]}, \"id\": \"el105140179127356216\", \"plugins\": [{\"type\": \"reset\"}, {\"type\": \"zoom\", \"button\": true, \"enabled\": false}, {\"type\": \"boxzoom\", \"button\": true, \"enabled\": false}]});\n",
              "            })\n",
              "         });\n",
              "}\n",
              "</script>"
            ],
            "text/plain": [
              "<IPython.core.display.HTML object>"
            ]
          },
          "metadata": {
            "tags": []
          },
          "execution_count": 13
        }
      ]
    }
  ]
}