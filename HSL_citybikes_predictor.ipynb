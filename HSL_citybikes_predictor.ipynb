{
  "nbformat": 4,
  "nbformat_minor": 0,
  "metadata": {
    "colab": {
      "name": "HSL_citybikes_predictor.ipynb",
      "provenance": [],
      "collapsed_sections": [],
      "include_colab_link": true
    },
    "kernelspec": {
      "name": "python3",
      "display_name": "Python 3"
    }
  },
  "cells": [
    {
      "cell_type": "markdown",
      "metadata": {
        "id": "view-in-github",
        "colab_type": "text"
      },
      "source": [
        "<a href=\"https://colab.research.google.com/github/giacomogreggio/HSL-citybikes-predictor/blob/master/HSL_citybikes_predictor.ipynb\" target=\"_parent\"><img src=\"https://colab.research.google.com/assets/colab-badge.svg\" alt=\"Open In Colab\"/></a>"
      ]
    },
    {
      "cell_type": "markdown",
      "metadata": {
        "id": "WBjSSe0X0TE6",
        "colab_type": "text"
      },
      "source": [
        "## Citybike predictor\n",
        "\n",
        "### Elevator pitch\n",
        "Scheduling your day is important for everyone, but every day we have to face problems related to planning your itinerary. When you want to use a citybike to move from a place to another you may find yourself at an empty bike station. Could there be a way to predict the availability? A solution: an application that predicts exactly that based on the time and the weather.\n",
        "\n",
        "\n",
        "### Data: sources, wrangling, management\t\t\n",
        "- The original purpose of the data is not compatible with our needs: the data is meant to describe bike trips/routing, not the bike availability\n",
        "- \n",
        "            \n",
        "### Data analysis: statistics, machine learning\t\n",
        "- We need a predicting model\n",
        "- Predictions for time series: a lot of different variables\n",
        "- Combining different data sources to base the prediction to current situation: weather, time of the day, current bike availability    \n",
        "\n",
        "\n",
        "### Communication of results: summarization & visualization\n",
        "- Finding clear and intuitive way to summarize and visualize data such that it is accessible to the user\n",
        "- \n",
        "            \n",
        "### Operationalization: creating added value, end-user point of view\n",
        "- Mobile optimated web application"
      ]
    },
    {
      "cell_type": "code",
      "metadata": {
        "id": "fXb_EGwVFqpg",
        "colab_type": "code",
        "colab": {}
      },
      "source": [
        ""
      ],
      "execution_count": null,
      "outputs": []
    }
  ]
}